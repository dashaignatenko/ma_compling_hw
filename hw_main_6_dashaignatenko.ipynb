{
  "cells": [
    {
      "cell_type": "markdown",
      "metadata": {
        "id": "a98604cb"
      },
      "source": [
        "Домашку будет легче делать в колабе (убедитесь, что у вас runtype с gpu)."
      ],
      "id": "a98604cb"
    },
    {
      "cell_type": "code",
      "execution_count": null,
      "metadata": {
        "colab": {
          "base_uri": "https://localhost:8080/"
        },
        "id": "a954ea86",
        "outputId": "6110db19-05ca-4b55-86da-f9d2f24cece0"
      },
      "outputs": [
        {
          "name": "stdout",
          "output_type": "stream",
          "text": [
            "Requirement already satisfied: matplotlib in /usr/local/lib/python3.10/dist-packages (3.7.1)\n",
            "Requirement already satisfied: pandas in /usr/local/lib/python3.10/dist-packages (1.5.3)\n",
            "Requirement already satisfied: contourpy>=1.0.1 in /usr/local/lib/python3.10/dist-packages (from matplotlib) (1.2.0)\n",
            "Requirement already satisfied: cycler>=0.10 in /usr/local/lib/python3.10/dist-packages (from matplotlib) (0.12.1)\n",
            "Requirement already satisfied: fonttools>=4.22.0 in /usr/local/lib/python3.10/dist-packages (from matplotlib) (4.47.2)\n",
            "Requirement already satisfied: kiwisolver>=1.0.1 in /usr/local/lib/python3.10/dist-packages (from matplotlib) (1.4.5)\n",
            "Requirement already satisfied: numpy>=1.20 in /usr/local/lib/python3.10/dist-packages (from matplotlib) (1.23.5)\n",
            "Requirement already satisfied: packaging>=20.0 in /usr/local/lib/python3.10/dist-packages (from matplotlib) (23.2)\n",
            "Requirement already satisfied: pillow>=6.2.0 in /usr/local/lib/python3.10/dist-packages (from matplotlib) (9.4.0)\n",
            "Requirement already satisfied: pyparsing>=2.3.1 in /usr/local/lib/python3.10/dist-packages (from matplotlib) (3.1.1)\n",
            "Requirement already satisfied: python-dateutil>=2.7 in /usr/local/lib/python3.10/dist-packages (from matplotlib) (2.8.2)\n",
            "Requirement already satisfied: pytz>=2020.1 in /usr/local/lib/python3.10/dist-packages (from pandas) (2023.3.post1)\n",
            "Requirement already satisfied: six>=1.5 in /usr/local/lib/python3.10/dist-packages (from python-dateutil>=2.7->matplotlib) (1.16.0)\n"
          ]
        }
      ],
      "source": [
        "!pip install matplotlib pandas"
      ],
      "id": "a954ea86"
    },
    {
      "cell_type": "code",
      "execution_count": null,
      "metadata": {
        "colab": {
          "base_uri": "https://localhost:8080/"
        },
        "id": "6RxqBywMeN3a",
        "outputId": "d7ef0e37-b96d-45b5-be24-60a570005e52"
      },
      "outputs": [
        {
          "name": "stdout",
          "output_type": "stream",
          "text": [
            "Thu Jan 25 16:34:43 2024       \n",
            "+---------------------------------------------------------------------------------------+\n",
            "| NVIDIA-SMI 535.104.05             Driver Version: 535.104.05   CUDA Version: 12.2     |\n",
            "|-----------------------------------------+----------------------+----------------------+\n",
            "| GPU  Name                 Persistence-M | Bus-Id        Disp.A | Volatile Uncorr. ECC |\n",
            "| Fan  Temp   Perf          Pwr:Usage/Cap |         Memory-Usage | GPU-Util  Compute M. |\n",
            "|                                         |                      |               MIG M. |\n",
            "|=========================================+======================+======================|\n",
            "|   0  Tesla T4                       Off | 00000000:00:04.0 Off |                    0 |\n",
            "| N/A   51C    P8              10W /  70W |      0MiB / 15360MiB |      0%      Default |\n",
            "|                                         |                      |                  N/A |\n",
            "+-----------------------------------------+----------------------+----------------------+\n",
            "                                                                                         \n",
            "+---------------------------------------------------------------------------------------+\n",
            "| Processes:                                                                            |\n",
            "|  GPU   GI   CI        PID   Type   Process name                            GPU Memory |\n",
            "|        ID   ID                                                             Usage      |\n",
            "|=======================================================================================|\n",
            "|  No running processes found                                                           |\n",
            "+---------------------------------------------------------------------------------------+\n"
          ]
        }
      ],
      "source": [
        "!nvidia-smi"
      ],
      "id": "6RxqBywMeN3a"
    },
    {
      "cell_type": "code",
      "execution_count": null,
      "metadata": {
        "id": "a0f13937"
      },
      "outputs": [],
      "source": [
        "import tensorflow as tf\n",
        "import numpy as np\n",
        "import pandas as pd\n",
        "from string import punctuation\n",
        "from sklearn.model_selection import train_test_split\n",
        "from collections import Counter\n",
        "import matplotlib.pyplot as plt\n",
        "from sklearn.decomposition import TruncatedSVD\n",
        "from sklearn.feature_extraction.text import CountVectorizer\n",
        "from sklearn.metrics.pairwise import cosine_distances\n",
        "\n",
        "from IPython.display import Image\n",
        "from IPython.core.display import HTML\n",
        "%matplotlib inline"
      ],
      "id": "a0f13937"
    },
    {
      "cell_type": "code",
      "execution_count": null,
      "metadata": {
        "colab": {
          "base_uri": "https://localhost:8080/"
        },
        "id": "eN7RAu9Yo5C6",
        "outputId": "6cb9b69c-74a3-4a83-e57a-d9a1375be317"
      },
      "outputs": [
        {
          "name": "stdout",
          "output_type": "stream",
          "text": [
            "Collecting pymorphy2\n",
            "  Downloading pymorphy2-0.9.1-py3-none-any.whl (55 kB)\n",
            "\u001b[?25l     \u001b[90m━━━━━━━━━━━━━━━━━━━━━━━━━━━━━━━━━━━━━━━━\u001b[0m \u001b[32m0.0/55.5 kB\u001b[0m \u001b[31m?\u001b[0m eta \u001b[36m-:--:--\u001b[0m\r\u001b[2K     \u001b[90m━━━━━━━━━━━━━━━━━━━━━━━━━━━━━━━━━━━━━━━━\u001b[0m \u001b[32m55.5/55.5 kB\u001b[0m \u001b[31m1.7 MB/s\u001b[0m eta \u001b[36m0:00:00\u001b[0m\n",
            "\u001b[?25hCollecting dawg-python>=0.7.1 (from pymorphy2)\n",
            "  Downloading DAWG_Python-0.7.2-py2.py3-none-any.whl (11 kB)\n",
            "Collecting pymorphy2-dicts-ru<3.0,>=2.4 (from pymorphy2)\n",
            "  Downloading pymorphy2_dicts_ru-2.4.417127.4579844-py2.py3-none-any.whl (8.2 MB)\n",
            "\u001b[2K     \u001b[90m━━━━━━━━━━━━━━━━━━━━━━━━━━━━━━━━━━━━━━━━\u001b[0m \u001b[32m8.2/8.2 MB\u001b[0m \u001b[31m76.5 MB/s\u001b[0m eta \u001b[36m0:00:00\u001b[0m\n",
            "\u001b[?25hCollecting docopt>=0.6 (from pymorphy2)\n",
            "  Downloading docopt-0.6.2.tar.gz (25 kB)\n",
            "  Preparing metadata (setup.py) ... \u001b[?25l\u001b[?25hdone\n",
            "Building wheels for collected packages: docopt\n",
            "  Building wheel for docopt (setup.py) ... \u001b[?25l\u001b[?25hdone\n",
            "  Created wheel for docopt: filename=docopt-0.6.2-py2.py3-none-any.whl size=13706 sha256=21b57059776fb87864681d201823edf4bd8330777e438b2899a6e7a423c9b5fd\n",
            "  Stored in directory: /root/.cache/pip/wheels/fc/ab/d4/5da2067ac95b36618c629a5f93f809425700506f72c9732fac\n",
            "Successfully built docopt\n",
            "Installing collected packages: pymorphy2-dicts-ru, docopt, dawg-python, pymorphy2\n",
            "Successfully installed dawg-python-0.7.2 docopt-0.6.2 pymorphy2-0.9.1 pymorphy2-dicts-ru-2.4.417127.4579844\n"
          ]
        }
      ],
      "source": [
        "!pip install pymorphy2"
      ],
      "id": "eN7RAu9Yo5C6"
    },
    {
      "cell_type": "code",
      "execution_count": null,
      "metadata": {
        "id": "_ayB4jSgo00C"
      },
      "outputs": [],
      "source": [
        "from pymorphy2 import MorphAnalyzer\n",
        "morph = MorphAnalyzer()"
      ],
      "id": "_ayB4jSgo00C"
    },
    {
      "cell_type": "markdown",
      "metadata": {
        "id": "9c422aa0"
      },
      "source": [
        "# Задание 1 (3 балла)"
      ],
      "id": "9c422aa0"
    },
    {
      "cell_type": "markdown",
      "metadata": {
        "id": "e4a72790"
      },
      "source": [
        "Обучите word2vec модели с негативным семплированием (cbow и skip-gram) с помощью tensorflow аналогично тому, как это было сделано в семинаре. Вам нужно изменить следующие пункты:\n",
        "1) добавьте лемматизацию в предобработку (любым способом)  \n",
        "2) измените размер окна в большую или меньшую сторону\n",
        "3) измените размерность итоговых векторов\n",
        "\n",
        "Выберете несколько не похожих по смыслу слов (не таких как в семинаре), и протестируйте полученные эмбединги (найдите ближайшие слова и оцените качество, как в семинаре).\n",
        "Постарайтесь обучать модели как можно дольше и на как можно большем количестве данных. (Но если у вас мало времени или ресурсов, то допустимо взять поменьше данных и поставить меньше эпох)"
      ],
      "id": "e4a72790"
    },
    {
      "cell_type": "code",
      "execution_count": null,
      "metadata": {
        "colab": {
          "base_uri": "https://localhost:8080/"
        },
        "id": "cde5fd96",
        "outputId": "cd8c6876-4509-42b1-a440-776433fca1a0"
      },
      "outputs": [
        {
          "name": "stdout",
          "output_type": "stream",
          "text": [
            "Mounted at /content/drive\n"
          ]
        }
      ],
      "source": [
        "from google.colab import drive\n",
        "drive.mount('/content/drive')"
      ],
      "id": "cde5fd96"
    },
    {
      "cell_type": "code",
      "execution_count": null,
      "metadata": {
        "id": "N53xYyxQnJDe"
      },
      "outputs": [],
      "source": [
        "wiki = open('/content/drive/MyDrive/wiki_data.txt', errors='ignore').read().split('\\n')"
      ],
      "id": "N53xYyxQnJDe"
    },
    {
      "cell_type": "code",
      "execution_count": null,
      "metadata": {
        "id": "kT7ThSimnwUn"
      },
      "outputs": [],
      "source": [
        "cv = CountVectorizer(max_features=10000)\n",
        "svd = TruncatedSVD(200)\n",
        "\n",
        "X = cv.fit_transform(wiki)\n",
        "X_svd = svd.fit_transform(X)"
      ],
      "id": "kT7ThSimnwUn"
    },
    {
      "cell_type": "code",
      "execution_count": null,
      "metadata": {
        "id": "FgRX8f8sny3p"
      },
      "outputs": [],
      "source": [
        "embeddings = svd.components_.T"
      ],
      "id": "FgRX8f8sny3p"
    },
    {
      "cell_type": "code",
      "execution_count": null,
      "metadata": {
        "id": "kDyrzMYtn1fG"
      },
      "outputs": [],
      "source": [
        "id2word = cv.get_feature_names_out()\n",
        "word2id = {word:i for i,word in enumerate(id2word)}"
      ],
      "id": "kDyrzMYtn1fG"
    },
    {
      "cell_type": "code",
      "execution_count": null,
      "metadata": {
        "id": "hhO-iq3rn4q_"
      },
      "outputs": [],
      "source": [
        "def most_similar(word, embeddings):\n",
        "    similar = [id2word[i] for i in\n",
        "               cosine_distances(embeddings[word2id[word]].reshape(1, -1), embeddings).argsort()[0][:10]]\n",
        "    return similar"
      ],
      "id": "hhO-iq3rn4q_"
    },
    {
      "cell_type": "code",
      "execution_count": null,
      "metadata": {
        "id": "4f71d7cb"
      },
      "outputs": [],
      "source": [
        "import re\n",
        "def preprocess(text):\n",
        "    tokens = re.sub('#+', ' ', text.lower()).split()\n",
        "    tokens = [token.strip(punctuation) for token in tokens]\n",
        "    tokens = [token for token in tokens if token]\n",
        "    #лемматизация\n",
        "    lemmas = [morph.parse(token)[0].normal_form for token in tokens]\n",
        "    return lemmas"
      ],
      "id": "4f71d7cb"
    },
    {
      "cell_type": "code",
      "execution_count": null,
      "metadata": {
        "id": "JT8IJpS3oDf6"
      },
      "outputs": [],
      "source": [
        "vocab = Counter()\n",
        "\n",
        "for text in wiki:\n",
        "    vocab.update(preprocess(text))"
      ],
      "id": "JT8IJpS3oDf6"
    },
    {
      "cell_type": "code",
      "execution_count": null,
      "metadata": {
        "id": "X_4Zo42YoFk-"
      },
      "outputs": [],
      "source": [
        "filtered_vocab = set()\n",
        "\n",
        "for word in vocab:\n",
        "    if vocab[word] > 30:\n",
        "        filtered_vocab.add(word)"
      ],
      "id": "X_4Zo42YoFk-"
    },
    {
      "cell_type": "code",
      "execution_count": null,
      "metadata": {
        "id": "4AGGmqXXoIsb"
      },
      "outputs": [],
      "source": [
        "word2id = {'PAD':0}\n",
        "\n",
        "for word in filtered_vocab:\n",
        "    word2id[word] = len(word2id)"
      ],
      "id": "4AGGmqXXoIsb"
    },
    {
      "cell_type": "code",
      "execution_count": null,
      "metadata": {
        "id": "Yq2VvMxcoMR5"
      },
      "outputs": [],
      "source": [
        "id2word = {i:word for word, i in word2id.items()}"
      ],
      "id": "Yq2VvMxcoMR5"
    },
    {
      "cell_type": "code",
      "execution_count": null,
      "metadata": {
        "colab": {
          "background_save": true
        },
        "id": "IYjykWeXoMT8"
      },
      "outputs": [],
      "source": [
        "sentences = []\n",
        "\n",
        "for text in wiki:\n",
        "    tokens = preprocess(text)\n",
        "    if not tokens:\n",
        "        continue\n",
        "    ids = [word2id[token] for token in tokens if token in word2id]\n",
        "    sentences.append(ids)"
      ],
      "id": "IYjykWeXoMT8"
    },
    {
      "cell_type": "code",
      "execution_count": null,
      "metadata": {
        "id": "TcdtpPxzoMWD"
      },
      "outputs": [],
      "source": [
        "\"\"\"# skip gram\n",
        "X = []\n",
        "y = []\n",
        "\n",
        "#меняем размер окна\n",
        "window = 6\n",
        "for sent in sentences[:1000]:\n",
        "    for i in range(len(sent)-1):\n",
        "        word = sent[i] # target\n",
        "        context = sent[max(0, i-window):i] + sent[i+1:i+window]  # context (слова до и после целевого)\n",
        "        # в начале и в конце окно будет неполным, но это не страшно\n",
        "\n",
        "        for context_word in context:\n",
        "            X.append(word)\n",
        "            y.append(context_word)\"\"\""
      ],
      "id": "TcdtpPxzoMWD"
    },
    {
      "cell_type": "code",
      "execution_count": null,
      "metadata": {
        "id": "9xKRx84ToMX3"
      },
      "outputs": [],
      "source": [
        "\"\"\"X_train, X_valid, y_train, y_valid = train_test_split(X, y, test_size=0.05)\"\"\""
      ],
      "id": "9xKRx84ToMX3"
    },
    {
      "cell_type": "code",
      "execution_count": null,
      "metadata": {
        "id": "G0wBKygDoMZ9"
      },
      "outputs": [],
      "source": [
        "\"\"\"model = tf.keras.Sequential()\n",
        "\n",
        "# попробовала поменять размер эмбединга output_dim=200\n",
        "model.add(tf.keras.layers.Embedding(input_dim=len(word2id),\n",
        "                                    input_length=1,\n",
        "                                    output_dim=200))\n",
        "\n",
        "\n",
        "model.add(tf.keras.layers.Flatten())\n",
        "\n",
        "model.add(tf.keras.layers.Dense(len(word2id),\n",
        "                                activation='softmax'))\n",
        "\n",
        "\n",
        "model.compile(optimizer=tf.keras.optimizers.Adam(),\n",
        "              loss='sparse_categorical_crossentropy',\n",
        "              )\"\"\""
      ],
      "id": "G0wBKygDoMZ9"
    },
    {
      "cell_type": "code",
      "execution_count": null,
      "metadata": {
        "colab": {
          "base_uri": "https://localhost:8080/"
        },
        "id": "4KP0JGUntxMN",
        "outputId": "cc8a097e-928d-4222-9d5a-816815684237"
      },
      "outputs": [
        {
          "name": "stdout",
          "output_type": "stream",
          "text": [
            "Model: \"sequential\"\n",
            "_________________________________________________________________\n",
            " Layer (type)                Output Shape              Param #   \n",
            "=================================================================\n",
            " embedding (Embedding)       (None, 1, 200)            1450400   \n",
            "                                                                 \n",
            " flatten (Flatten)           (None, 200)               0         \n",
            "                                                                 \n",
            " dense (Dense)               (None, 7252)              1457652   \n",
            "                                                                 \n",
            "=================================================================\n",
            "Total params: 2908052 (11.09 MB)\n",
            "Trainable params: 2908052 (11.09 MB)\n",
            "Non-trainable params: 0 (0.00 Byte)\n",
            "_________________________________________________________________\n",
            "None\n"
          ]
        }
      ],
      "source": [
        "\"\"\"print(model.summary())\"\"\""
      ],
      "id": "4KP0JGUntxMN"
    },
    {
      "cell_type": "code",
      "execution_count": null,
      "metadata": {
        "colab": {
          "base_uri": "https://localhost:8080/"
        },
        "id": "bbVQZf22tx01",
        "outputId": "9679bcdf-31b8-4bc9-d7c9-3c4becbefc05"
      },
      "outputs": [
        {
          "name": "stdout",
          "output_type": "stream",
          "text": [
            "Epoch 1/3\n",
            "2223/2223 [==============================] - 32s 13ms/step - loss: 7.1212 - val_loss: 6.8922\n",
            "Epoch 2/3\n",
            "2223/2223 [==============================] - 16s 7ms/step - loss: 6.8037 - val_loss: 6.7563\n",
            "Epoch 3/3\n",
            "2223/2223 [==============================] - 16s 7ms/step - loss: 6.6647 - val_loss: 6.6854\n"
          ]
        },
        {
          "data": {
            "text/plain": [
              "<keras.src.callbacks.History at 0x7c3dbc6e3760>"
            ]
          },
          "execution_count": 38,
          "metadata": {},
          "output_type": "execute_result"
        }
      ],
      "source": [
        "\"\"\"model.fit(X_train, y_train,\n",
        "          validation_data=(X_valid, y_valid),\n",
        "          batch_size=1000,\n",
        "         epochs=3)\"\"\""
      ],
      "id": "bbVQZf22tx01"
    },
    {
      "cell_type": "code",
      "execution_count": null,
      "metadata": {
        "colab": {
          "base_uri": "https://localhost:8080/",
          "height": 489
        },
        "id": "9NJqXud-t4vj",
        "outputId": "7aee0c66-3eff-4936-8f59-20b413137641"
      },
      "outputs": [
        {
          "name": "stdout",
          "output_type": "stream",
          "text": [
            "dict_keys(['loss', 'val_loss'])\n"
          ]
        },
        {
          "data": {
            "image/png": "[encoded data removed]",
            "text/plain": [
              "<Figure size 640x480 with 1 Axes>"
            ]
          },
          "metadata": {},
          "output_type": "display_data"
        }
      ],
      "source": [
        "\"\"\"print(model.history.history.keys())\n",
        "# summarize history for accuracy\n",
        "plt.plot(model.history.history['loss'])\n",
        "plt.plot(model.history.history['val_loss'])\n",
        "plt.title('model loss')\n",
        "plt.ylabel('loss')\n",
        "plt.xlabel('epoch')\n",
        "plt.legend(['train', 'val'], loc='upper left')\n",
        "plt.show()\"\"\""
      ],
      "id": "9NJqXud-t4vj"
    },
    {
      "cell_type": "code",
      "execution_count": null,
      "metadata": {
        "id": "CHiJg8eAvLp7"
      },
      "outputs": [],
      "source": [
        "\"\"\"embeddings_1 = model.layers[0].get_weights()[0]\n",
        "embeddings_2 = model.layers[2].get_weights()[0].T\n",
        "embeddings = np.mean([embeddings_1, embeddings_2], axis=0)\"\"\""
      ],
      "id": "CHiJg8eAvLp7"
    },
    {
      "cell_type": "code",
      "execution_count": null,
      "metadata": {
        "colab": {
          "base_uri": "https://localhost:8080/"
        },
        "id": "N0AhGuxpvMLP",
        "outputId": "d1adeb14-ada3-4210-b75b-3b21ae2e4ea0"
      },
      "outputs": [
        {
          "data": {
            "text/plain": [
              "['лекарство',\n",
              " 'лекарственный',\n",
              " 'приём',\n",
              " 'жидкость',\n",
              " 'рот',\n",
              " 'оболочка',\n",
              " 'потребоваться',\n",
              " 'целиком',\n",
              " 'назначать',\n",
              " 'препарат']"
            ]
          },
          "execution_count": 41,
          "metadata": {},
          "output_type": "execute_result"
        }
      ],
      "source": [
        "most_similar('лекарство', embeddings)"
      ],
      "id": "N0AhGuxpvMLP"
    },
    {
      "cell_type": "code",
      "execution_count": null,
      "metadata": {
        "colab": {
          "base_uri": "https://localhost:8080/"
        },
        "id": "1Xj5w-puxASF",
        "outputId": "9e2a8500-e4d2-41dc-8701-bf5ed5c43cb2"
      },
      "outputs": [
        {
          "data": {
            "text/plain": [
              "['змея',\n",
              " 'брюшко',\n",
              " 'грубый',\n",
              " 'семейство',\n",
              " 'подсемейство',\n",
              " 'вечнозелёный',\n",
              " 'ареал',\n",
              " 'вероника',\n",
              " 'серый',\n",
              " 'род']"
            ]
          },
          "execution_count": 46,
          "metadata": {},
          "output_type": "execute_result"
        }
      ],
      "source": [
        "most_similar('змея', embeddings)"
      ],
      "id": "1Xj5w-puxASF"
    },
    {
      "cell_type": "code",
      "execution_count": null,
      "metadata": {
        "id": "9cbECuIVxOVi"
      },
      "outputs": [],
      "source": [],
      "id": "9cbECuIVxOVi"
    },
    {
      "cell_type": "markdown",
      "metadata": {
        "id": "KAYOiO9B1o8e"
      },
      "source": [
        "**negative sample**"
      ],
      "id": "KAYOiO9B1o8e"
    },
    {
      "cell_type": "code",
      "execution_count": null,
      "metadata": {
        "colab": {
          "background_save": true
        },
        "id": "JEP6Ae0n1vDW"
      },
      "outputs": [],
      "source": [
        "vocab_size = len(id2word)"
      ],
      "id": "JEP6Ae0n1vDW"
    },
    {
      "cell_type": "code",
      "execution_count": null,
      "metadata": {
        "colab": {
          "background_save": true
        },
        "id": "gAzZZf6G1vd9"
      },
      "outputs": [],
      "source": [
        "# skip gram\n",
        "def gen_batches_sg(sentences, window = 7, batch_size=1000):\n",
        "\n",
        "    # параметр window задает его целиком\n",
        "    # нам нужно поделить его пополам на левую и правую часть\n",
        "    # когда делится неровно, то левая часть больше на 1\n",
        "    left_context_length = (window/2).__ceil__() # округлить в большую сторону\n",
        "    right_context_length = window // 2 # округлить в меньшую сторону\n",
        "\n",
        "    while True:\n",
        "        X_target = []\n",
        "        X_context = []\n",
        "        y = []\n",
        "\n",
        "        for sent in sentences:\n",
        "            for i in range(len(sent)-1):\n",
        "                word = sent[i]\n",
        "                context = sent[max(0, i-left_context_length):i] + sent[i+1:i+right_context_length]\n",
        "                for context_word in context:\n",
        "                    X_target.append(word)\n",
        "                    X_context.append(context_word)\n",
        "                    y.append(1)\n",
        "\n",
        "                    X_target.append(word)\n",
        "                    X_context.append(np.random.randint(vocab_size))\n",
        "                    y.append(0)\n",
        "\n",
        "                    if len(X_target) >= batch_size:\n",
        "                        X_target = np.array(X_target)\n",
        "                        X_context = np.array(X_context)\n",
        "                        y = np.array(y)\n",
        "                        yield ((X_target, X_context), y)\n",
        "                        X_target = []\n",
        "                        X_context = []\n",
        "                        y = []"
      ],
      "id": "gAzZZf6G1vd9"
    },
    {
      "cell_type": "code",
      "execution_count": null,
      "metadata": {
        "colab": {
          "background_save": true
        },
        "id": "lN1CO9SX1vgR"
      },
      "outputs": [],
      "source": [
        "# # cbow\n",
        "def gen_batches_cbow(sentences, window = 7, batch_size=1000):\n",
        "\n",
        "    # параметр window задает его целиком\n",
        "    # нам нужно поделить его пополам на левую и правую часть\n",
        "    # когда делится неровно, то левая часть больше на 1\n",
        "    left_context_length = (window/2).__ceil__() # округлить в большую сторону\n",
        "    right_context_length = window // 2 # округлить в меньшую сторону\n",
        "\n",
        "    while True:\n",
        "        X_target = []\n",
        "        X_context = []\n",
        "        y = []\n",
        "\n",
        "        for sent in sentences:\n",
        "            for i in range(len(sent)-1):\n",
        "                word = sent[i]\n",
        "                context = sent[max(0, i-left_context_length):i] + sent[i+1:i+right_context_length]\n",
        "\n",
        "                X_target.append(word)\n",
        "                X_context.append(context)\n",
        "                y.append(1)\n",
        "\n",
        "                X_target.append(np.random.randint(vocab_size))\n",
        "                X_context.append(context)\n",
        "                y.append(0)\n",
        "\n",
        "                if len(X_target) == batch_size:\n",
        "                    X_target = np.array(X_target)\n",
        "                    X_context = tf.keras.preprocessing.sequence.pad_sequences(X_context, maxlen=window)\n",
        "                    y = np.array(y)\n",
        "                    yield ((X_target, X_context), y)\n",
        "                    X_target = []\n",
        "                    X_context = []\n",
        "                    y = []"
      ],
      "id": "lN1CO9SX1vgR"
    },
    {
      "cell_type": "code",
      "execution_count": null,
      "metadata": {
        "colab": {
          "background_save": true
        },
        "id": "4djYRbrr1viA"
      },
      "outputs": [],
      "source": [
        "inputs_target = tf.keras.layers.Input(shape=(1,))\n",
        "inputs_context = tf.keras.layers.Input(shape=(1,))\n",
        "\n",
        "\n",
        "embeddings_target = tf.keras.layers.Embedding(input_dim=len(word2id), output_dim=200)(inputs_target, )\n",
        "embeddings_context = tf.keras.layers.Embedding(input_dim=len(word2id), output_dim=200)(inputs_context, )\n",
        "\n",
        "target = tf.keras.layers.Flatten()(embeddings_target)\n",
        "context = tf.keras.layers.Flatten()(embeddings_context)\n",
        "\n",
        "dot = tf.keras.layers.Dot(1)([target, context])\n",
        "outputs = tf.keras.layers.Activation(activation='sigmoid')(dot)\n",
        "\n",
        "model = tf.keras.Model(inputs=[inputs_target, inputs_context],\n",
        "                       outputs=outputs)\n",
        "optimizer = tf.keras.optimizers.Adam(learning_rate=0.001)\n",
        "model.compile(optimizer=optimizer,\n",
        "              loss='binary_crossentropy',\n",
        "              metrics=['accuracy'])"
      ],
      "id": "4djYRbrr1viA"
    },
    {
      "cell_type": "code",
      "execution_count": null,
      "metadata": {
        "colab": {
          "background_save": true
        },
        "id": "2ZWyhGSH1vjx",
        "outputId": "50b2abca-a54f-4471-8dad-a11c17166c75"
      },
      "outputs": [
        {
          "name": "stdout",
          "output_type": "stream",
          "text": [
            "Epoch 1/2\n",
            " 9994/10000 [============================>.] - ETA: 0s - loss: 0.4522 - accuracy: 0.7941"
          ]
        }
      ],
      "source": [
        "model.fit(gen_batches_sg(sentences[:19000], window=5),\n",
        "          validation_data=gen_batches_sg(sentences[19000:],  window=5),\n",
        "          batch_size=1000,\n",
        "          steps_per_epoch=10000,\n",
        "          validation_steps=30,\n",
        "         epochs=5)"
      ],
      "id": "2ZWyhGSH1vjx"
    },
    {
      "cell_type": "code",
      "execution_count": null,
      "metadata": {
        "id": "YRo4Miil1vlv"
      },
      "outputs": [],
      "source": [
        "embeddings = model.layers[2].get_weights()[0]"
      ],
      "id": "YRo4Miil1vlv"
    },
    {
      "cell_type": "code",
      "execution_count": null,
      "metadata": {
        "id": "S6SXa4Tr2Lgm"
      },
      "outputs": [],
      "source": [
        "most_similar('лекарство', embeddings)"
      ],
      "id": "S6SXa4Tr2Lgm"
    },
    {
      "cell_type": "code",
      "execution_count": null,
      "metadata": {
        "id": "2F4Gzptk2c07"
      },
      "outputs": [],
      "source": [
        "#cbow negative sampling\n",
        "inputs_target = tf.keras.layers.Input(shape=(1,))\n",
        "inputs_context = tf.keras.layers.Input(shape=(10,))\n",
        "\n",
        "\n",
        "embeddings_target = tf.keras.layers.Embedding(input_dim=len(word2id), output_dim=500)(inputs_target, )\n",
        "embeddings_context = tf.keras.layers.Embedding(input_dim=len(word2id), output_dim=500)(inputs_context, )\n",
        "\n",
        "target = tf.keras.layers.Flatten()(embeddings_target)\n",
        "context = tf.keras.layers.Lambda(lambda x: tf.keras.backend.sum(x, axis=1))(embeddings_context)\n",
        "dot = tf.keras.layers.Dot(1)([target, context])\n",
        "\n",
        "# полученную близость нужно преобразовать в вероятность\n",
        "# когда она одна используется не софтмакс и сигмоида\n",
        "outputs = tf.keras.layers.Activation(activation='sigmoid')(dot)\n",
        "\n",
        "model = tf.keras.Model(inputs=[inputs_target, inputs_context],\n",
        "                       outputs=outputs)\n",
        "\n",
        "\n",
        "optimizer = tf.keras.optimizers.Adam(learning_rate=0.001)\n",
        "model.compile(optimizer=optimizer,\n",
        "              loss='binary_crossentropy',\n",
        "              metrics=['accuracy'])"
      ],
      "id": "2F4Gzptk2c07"
    },
    {
      "cell_type": "code",
      "execution_count": null,
      "metadata": {
        "id": "ogV2ZbO82c3T"
      },
      "outputs": [],
      "source": [
        "model.fit(gen_batches_cbow(sentences[:19000], window=10),\n",
        "          validation_data=gen_batches_cbow(sentences[19000:],  window=5),\n",
        "          batch_size=1000,\n",
        "          steps_per_epoch=5000,\n",
        "          validation_steps=30,\n",
        "         epochs=2)"
      ],
      "id": "ogV2ZbO82c3T"
    },
    {
      "cell_type": "code",
      "execution_count": null,
      "metadata": {
        "id": "pSFBXGQI2c5v"
      },
      "outputs": [],
      "source": [],
      "id": "pSFBXGQI2c5v"
    },
    {
      "cell_type": "code",
      "execution_count": null,
      "metadata": {
        "id": "DfGhtF4u2c79"
      },
      "outputs": [],
      "source": [],
      "id": "DfGhtF4u2c79"
    },
    {
      "cell_type": "code",
      "execution_count": null,
      "metadata": {
        "id": "jjCAVQ1t2c9-"
      },
      "outputs": [],
      "source": [],
      "id": "jjCAVQ1t2c9-"
    },
    {
      "cell_type": "code",
      "execution_count": null,
      "metadata": {
        "id": "2mv2Uf8Z1voG"
      },
      "outputs": [],
      "source": [],
      "id": "2mv2Uf8Z1voG"
    },
    {
      "cell_type": "markdown",
      "metadata": {
        "id": "c3b61b7c"
      },
      "source": [
        "# Задание 2 (3 балла)"
      ],
      "id": "c3b61b7c"
    },
    {
      "cell_type": "markdown",
      "metadata": {
        "id": "66eff080"
      },
      "source": [
        "Обучите 1 word2vec и 1 fastext модель в gensim. В каждой из модели нужно задать все параметры, которые мы разбирали на семинаре. Заданные значения должны отличаться от дефолтных и от тех, что мы использовали на семинаре."
      ],
      "id": "66eff080"
    },
    {
      "cell_type": "code",
      "execution_count": null,
      "metadata": {
        "id": "986c2018"
      },
      "outputs": [],
      "source": [
        "import gensim"
      ],
      "id": "986c2018"
    },
    {
      "cell_type": "code",
      "execution_count": null,
      "metadata": {
        "id": "7QLL0yjsMgOd"
      },
      "outputs": [],
      "source": [
        "texts = [preprocess(text) for text in wiki]"
      ],
      "id": "7QLL0yjsMgOd"
    },
    {
      "cell_type": "code",
      "execution_count": null,
      "metadata": {
        "id": "V3a1bNGTMgYC"
      },
      "outputs": [],
      "source": [
        "w2v = gensim.models.Word2Vec(texts, )"
      ],
      "id": "V3a1bNGTMgYC"
    },
    {
      "cell_type": "code",
      "execution_count": null,
      "metadata": {
        "id": "hDT_1kfPMgaq"
      },
      "outputs": [],
      "source": [
        "w2v.wv.most_similar('церковь')"
      ],
      "id": "hDT_1kfPMgaq"
    },
    {
      "cell_type": "code",
      "execution_count": null,
      "metadata": {
        "id": "e5035bdc"
      },
      "outputs": [],
      "source": [],
      "id": "e5035bdc"
    },
    {
      "cell_type": "markdown",
      "metadata": {
        "id": "e4bb928c"
      },
      "source": [
        "# Задание 3 (4 балла)"
      ],
      "id": "e4bb928c"
    },
    {
      "cell_type": "markdown",
      "metadata": {
        "id": "3019b0d1"
      },
      "source": [
        "Используя датасет для классификации (labeled.csv) и простую нейронную сеть (последняя модель в семинаре), оцените качество полученных эмбедингов в задании 1 и 2 (4 набора эмбедингов), также проверьте 1 любую из предобученных моделей с rus-vectores (но только не tayga_upos_skipgram_300_2_2019).\n",
        "Какая модель показывает наилучший результат?\n",
        "\n",
        "Убедитесь, что для каждой модели вы корректно воспроизводите пайплайн предобработки (в 1 задании у вас лемматизация, не забудьте ее применить к датасету для классификации; у выбранной предобученной модели может быть своя специфичная предобработка - ее нужно воспроизвести)"
      ],
      "id": "3019b0d1"
    },
    {
      "cell_type": "code",
      "execution_count": null,
      "metadata": {
        "id": "ed908832"
      },
      "outputs": [],
      "source": [],
      "id": "ed908832"
    },
    {
      "cell_type": "code",
      "execution_count": null,
      "metadata": {
        "id": "60c18c5a"
      },
      "outputs": [],
      "source": [],
      "id": "60c18c5a"
    }
  ],
  "metadata": {
    "accelerator": "GPU",
    "colab": {
      "provenance": []
    },
    "kernelspec": {
      "display_name": "Python 3",
      "name": "python3"
    },
    "language_info": {
      "codemirror_mode": {
        "name": "ipython",
        "version": 3
      },
      "file_extension": ".py",
      "mimetype": "text/x-python",
      "name": "python",
      "nbconvert_exporter": "python",
      "pygments_lexer": "ipython3",
      "version": "3.7.5rc1"
    }
  },
  "nbformat": 4,
  "nbformat_minor": 5
}