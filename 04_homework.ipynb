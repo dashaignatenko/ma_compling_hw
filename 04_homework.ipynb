{
 "cells": [
  {
   "cell_type": "markdown",
   "id": "48abae58",
   "metadata": {},
   "source": [
    "# Задание 1\n",
    "\n",
    "\n",
    "Выберите 5 языков в википедии (не тех, что использовались в семинаре). Скачайте по 10 случайных статей для каждого языка. Предобработайте тексты, удаляя лишние теги/отступы/разделители (если они есть). Разделите тексты на предложения и создайте датасет, в котором каждому предложению соответствует язык. Кластеризуйте тексты, используя эбмединг модель из прошлого семинара и любой алгоритм кластеризации. Проверьте качество кластеризации с помощь метрики ARI."
   ]
  },
  {
   "cell_type": "code",
   "execution_count": 2,
   "id": "1769f07a",
   "metadata": {},
   "outputs": [],
   "source": [
    "import wikipedia\n",
    "import numpy as np\n",
    "import os\n",
    "import json\n",
    "import requests"
   ]
  },
  {
   "cell_type": "code",
   "execution_count": 6,
   "id": "b389a097",
   "metadata": {},
   "outputs": [
    {
     "data": {
      "text/plain": [
       "[('fr', 'français'),\n",
       " ('fi', 'suomi'),\n",
       " ('no', 'norsk'),\n",
       " ('it', 'italiano'),\n",
       " ('ru', 'русский'),\n",
       " ('sc', 'sardu'),\n",
       " ('sr', 'српски / srpski'),\n",
       " ('pl', 'polski'),\n",
       " ('myv', 'эрзянь'),\n",
       " ('ik', 'Iñupiatun')]"
      ]
     },
     "execution_count": 6,
     "metadata": {},
     "output_type": "execute_result"
    }
   ],
   "source": [
    "code2lang = wikipedia.languages()\n",
    "langs = ['fr', 'fi', 'no', 'it' , 'ru', 'sc', 'sr', 'pl', 'myv', 'ik']\n",
    "[(lang, code2lang[lang]) for lang  in langs]"
   ]
  },
  {
   "cell_type": "code",
   "execution_count": 7,
   "id": "d18c8826",
   "metadata": {},
   "outputs": [],
   "source": [
    "def load_with_disambigution(page):\n",
    "    try:\n",
    "        p = wikipedia.page(page)\n",
    "    except wikipedia.DisambiguationError as e:\n",
    "        random_option = np.random.choice(e.options)\n",
    "        p = wikipedia.page(random_option)\n",
    "    return p"
   ]
  },
  {
   "cell_type": "code",
   "execution_count": 8,
   "id": "42594247",
   "metadata": {},
   "outputs": [],
   "source": [
    "def get_texts_for_lang(lang, n=100): # функция для скачивания статей из википедии\n",
    "    # вот так можно зафиксировать язык\n",
    "    wikipedia.set_lang(lang)\n",
    "    wiki_content = []\n",
    "    \n",
    "    # random достает только ссылки на статьи\n",
    "    pages = wikipedia.random(n)\n",
    "    \n",
    "    for page_name in pages:\n",
    "        try:\n",
    "            # чтобы загрузить контент статьи можно вызвать функцию .page\n",
    "            page = load_with_disambigution(page_name)\n",
    "        \n",
    "        except Exception as e:\n",
    "            print('Skipping page {}'.format(page_name), e)\n",
    "            continue\n",
    "\n",
    "        wiki_content.append(f'{page.title}\\n{page.content.replace(\"==\", \"\")}')\n",
    "\n",
    "    return wiki_content"
   ]
  },
  {
   "cell_type": "code",
   "execution_count": 9,
   "id": "db188478",
   "metadata": {},
   "outputs": [
    {
     "name": "stderr",
     "output_type": "stream",
     "text": [
      "/Users/ignatenkodarja/Library/Python/3.7/lib/python/site-packages/wikipedia/wikipedia.py:389: GuessedAtParserWarning: No parser was explicitly specified, so I'm using the best available HTML parser for this system (\"lxml\"). This usually isn't a problem, but if you run this code on another system, or in a different virtual environment, it may use a different parser and behave differently.\n",
      "\n",
      "The code that caused this warning is on line 389 of the file /Users/ignatenkodarja/Library/Python/3.7/lib/python/site-packages/wikipedia/wikipedia.py. To get rid of this warning, pass the additional argument 'features=\"lxml\"' to the BeautifulSoup constructor.\n",
      "\n",
      "  lis = BeautifulSoup(html).find_all('li')\n"
     ]
    },
    {
     "name": "stdout",
     "output_type": "stream",
     "text": [
      "fr 20\n",
      "fi 20\n",
      "no 20\n",
      "it 20\n",
      "Skipping page Рогачёвская волость \"Рогачёвская волость\" may refer to: \n",
      "Рогачёвская волость (Александровский уезд)\n",
      "Рогачёвская волость (Новоград-Волынский уезд)\n",
      "Рогачёвская волость (Воронежский уезд)\n",
      "Рогачёвская волость (Дмитровский уезд)\n",
      "ru 19\n",
      "sc 20\n",
      "sr 20\n",
      "pl 20\n",
      "myv 20\n",
      "ik 20\n"
     ]
    }
   ],
   "source": [
    "wiki_texts = {}\n",
    "\n",
    "for lang in langs:\n",
    "    try:\n",
    "        wiki_texts[lang] = get_texts_for_lang(lang, 20)\n",
    "    except Exception as e:\n",
    "        print('ERROR ON - ', lang, e)\n",
    "        continue\n",
    "    \n",
    "    print(lang, len(wiki_texts[lang]))"
   ]
  },
  {
   "cell_type": "code",
   "execution_count": 10,
   "id": "6936bf45",
   "metadata": {},
   "outputs": [],
   "source": [
    "from collections import defaultdict\n",
    "from string import digits\n",
    "import re\n",
    "\n",
    "digits = set(digits)"
   ]
  },
  {
   "cell_type": "code",
   "execution_count": null,
   "id": "e69637e3",
   "metadata": {},
   "outputs": [],
   "source": []
  },
  {
   "cell_type": "markdown",
   "id": "3cd75839",
   "metadata": {},
   "source": [
    "# Задание 2\n",
    "\n",
    "Загрузите корпус `annot.opcorpora.no_ambig_strict.xml.bz2` с OpenCorpora. Найдите в корпусе самые частотные морфологически омонимичные словоформы (те, которым соответствует разный грамматический разбор). Также найдите словоформы с самых большим количеством вариантов грамматических разборов."
   ]
  },
  {
   "cell_type": "code",
   "execution_count": null,
   "id": "5ed11ce0",
   "metadata": {},
   "outputs": [],
   "source": []
  },
  {
   "cell_type": "code",
   "execution_count": null,
   "id": "be265156",
   "metadata": {},
   "outputs": [],
   "source": []
  },
  {
   "cell_type": "markdown",
   "id": "57b29c9c",
   "metadata": {},
   "source": [
    "## Задание 3\n",
    "Загрузите один и з файлов корпуса Syntagrus - https://github.com/UniversalDependencies/UD_Russian-SynTagRus/tree/master (можно взять тестовый)\n",
    "\n",
    "Преобразуйте все разборы предложений в графовые структуру через DependencyGraph, выберите отношение (из тех, что не упоминались на семинаре) и найдите самые частотные пары слов, связанных этим отношением. \n",
    "\n",
    "Для самой частотной пары вытащите все подзависимые слова для каждого из них во всех предложениях (используя `flatten(get_subtree(d.nodes, index_of_a_word)`) В итоге у вас должен получится список пары: слово1 и все его подзависимые - слово2 и все его подзависимые.\n",
    "\n",
    "Визуализируйте самое длинное предложение через networkx"
   ]
  },
  {
   "cell_type": "code",
   "execution_count": null,
   "id": "c148adc5",
   "metadata": {},
   "outputs": [],
   "source": []
  }
 ],
 "metadata": {
  "kernelspec": {
   "display_name": "Python 3 (ipykernel)",
   "language": "python",
   "name": "python3"
  },
  "language_info": {
   "codemirror_mode": {
    "name": "ipython",
    "version": 3
   },
   "file_extension": ".py",
   "mimetype": "text/x-python",
   "name": "python",
   "nbconvert_exporter": "python",
   "pygments_lexer": "ipython3",
   "version": "3.7.5rc1"
  }
 },
 "nbformat": 4,
 "nbformat_minor": 5
}
