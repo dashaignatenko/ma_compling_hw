{
 "cells": [
  {
   "cell_type": "markdown",
   "id": "b20f786e",
   "metadata": {},
   "source": [
    "# Домашнее задание № 2. Мешок слов"
   ]
  },
  {
   "cell_type": "markdown",
   "id": "0cf72d19",
   "metadata": {},
   "source": [
    "## Задание 1 (3 балла)"
   ]
  },
  {
   "cell_type": "markdown",
   "id": "4a045e99",
   "metadata": {},
   "source": [
    "У векторайзеров в sklearn есть встроенная токенизация на регулярных выражениях. Найдите способо заменить её на кастомную токенизацию"
   ]
  },
  {
   "cell_type": "markdown",
   "id": "90b4d453",
   "metadata": {},
   "source": [
    "Обучите векторайзер с дефолтной токенизацией и с токенизацией razdel.tokenize. Обучите классификатор (любой) с каждым из векторизаторов. Сравните метрики и выберете победителя. \n",
    "\n",
    "(в вашей тетрадке должен быть код обучения и все метрики; если вы сдаете в .py файлах то сохраните полученные метрики в отдельном файле или в комментариях)"
   ]
  },
  {
   "cell_type": "code",
   "execution_count": 430,
   "id": "129c4d2e",
   "metadata": {},
   "outputs": [],
   "source": [
    "import pandas as pd\n",
    "from sklearn.model_selection import train_test_split\n",
    "from sklearn.feature_extraction.text import CountVectorizer, TfidfVectorizer\n",
    "import razdel\n",
    "from sklearn.linear_model import LogisticRegression\n",
    "from sklearn.tree import DecisionTreeClassifier\n",
    "from sklearn.neighbors import KNeighborsClassifier\n",
    "from sklearn.metrics import classification_report, accuracy_score\n",
    "from sklearn.ensemble import RandomForestClassifier\n",
    "from sklearn.model_selection import GridSearchCV\n",
    "from sklearn.naive_bayes import GaussianNB"
   ]
  },
  {
   "cell_type": "code",
   "execution_count": 431,
   "id": "b4314de5",
   "metadata": {},
   "outputs": [],
   "source": [
    "data = pd.read_csv('labeled.csv')"
   ]
  },
  {
   "cell_type": "code",
   "execution_count": 432,
   "id": "75ed477e",
   "metadata": {},
   "outputs": [
    {
     "data": {
      "text/plain": [
       "0                  Верблюдов-то за что? Дебилы, бл...\\n\n",
       "1     Хохлы, это отдушина затюканого россиянина, мол...\n",
       "2                             Собаке - собачья смерть\\n\n",
       "3     Страницу обнови, дебил. Это тоже не оскорблени...\n",
       "4     тебя не убедил 6-страничный пдф в том, что Скр...\n",
       "5     Для каких стан является эталоном современная с...\n",
       "6     В шапке были ссылки на инфу по текущему фильму...\n",
       "7     УПАД Т! ТАМ НЕЛЬЗЯ СТРОИТЬ! ТЕХНОЛОГИЙ НЕТ! РА...\n",
       "8                         Ебать тебя разносит, шизик.\\n\n",
       "9                             Обосрался, сиди обтекай\\n\n",
       "10    Зачем ты пишешь хуйню, дегенерат? Поцелуй в гу...\n",
       "11    Бактерия, тебе этого не понять Конечно, я же н...\n",
       "12    Почитайте посты у этого автора,может найдете ч...\n",
       "13     Уроды!! у нас в семье 3 поколения там родились\\n\n",
       "14    Можем на тебя ещё и модера за безмозглых позва...\n",
       "15    хорош врать, ты террорист-торчёк-шизофреник пр...\n",
       "16    Всем, кстати, наплевать. Главное - уровень жиз...\n",
       "17    Про графику было обидно) я так то проходил все...\n",
       "18    Я вообще мимо шёл. Вот сейчас поплачу над твое...\n",
       "19    Мэдисон Тоже такой же стример Это такой тролли...\n",
       "Name: comment, dtype: object"
      ]
     },
     "execution_count": 432,
     "metadata": {},
     "output_type": "execute_result"
    }
   ],
   "source": [
    "data['comment'][:20]"
   ]
  },
  {
   "cell_type": "code",
   "execution_count": 433,
   "id": "2bb19cfd",
   "metadata": {},
   "outputs": [],
   "source": [
    "train, test = train_test_split(data, test_size=0.1, shuffle=True)"
   ]
  },
  {
   "cell_type": "code",
   "execution_count": 434,
   "id": "9f60e986",
   "metadata": {},
   "outputs": [],
   "source": [
    "train.reset_index(inplace=True)\n",
    "test.reset_index(inplace=True)"
   ]
  },
  {
   "cell_type": "code",
   "execution_count": 435,
   "id": "945a6cb1",
   "metadata": {},
   "outputs": [],
   "source": [
    "def rzd_tokenize(sent):\n",
    "    tkns = list(razdel.tokenize(sent))\n",
    "    tokens = [t.text for t in tkns]\n",
    "    return tokens"
   ]
  },
  {
   "cell_type": "code",
   "execution_count": 436,
   "id": "13833d37",
   "metadata": {},
   "outputs": [],
   "source": [
    "vectorizer_rzd = CountVectorizer(analyzer='word', tokenizer=rzd_tokenize)\n",
    "#vectorizer_rzd = CountVectorizer(analyzer='word', tokenizer=lambda text: [token.text for token in tokenize(text)])\n",
    "X_rzd = vectorizer_rzd.fit_transform(train.comment)\n",
    "X_rzd_test = vectorizer_rzd.transform(test.comment) "
   ]
  },
  {
   "cell_type": "code",
   "execution_count": 57,
   "id": "992f6088",
   "metadata": {},
   "outputs": [
    {
     "data": {
      "text/plain": [
       "(12970, 64974)"
      ]
     },
     "execution_count": 57,
     "metadata": {},
     "output_type": "execute_result"
    }
   ],
   "source": [
    "X_rzd.shape"
   ]
  },
  {
   "cell_type": "code",
   "execution_count": 437,
   "id": "7504dd32",
   "metadata": {},
   "outputs": [],
   "source": [
    "vectorizer = CountVectorizer()\n",
    "X = vectorizer.fit_transform(train.comment)\n",
    "X_test = vectorizer.transform(test.comment) "
   ]
  },
  {
   "cell_type": "code",
   "execution_count": 438,
   "id": "018f4da5",
   "metadata": {},
   "outputs": [
    {
     "name": "stdout",
     "output_type": "stream",
     "text": [
      "(12970, 64015) (12970, 64912) (12970,) (1442,)\n"
     ]
    }
   ],
   "source": [
    "print(X.shape, X_rzd.shape, y.shape, y_test.shape)"
   ]
  },
  {
   "cell_type": "code",
   "execution_count": 439,
   "id": "43cce5ad",
   "metadata": {},
   "outputs": [],
   "source": [
    "y = train.toxic.values\n",
    "y_test = test.toxic.values"
   ]
  },
  {
   "cell_type": "code",
   "execution_count": 440,
   "id": "cbffbbc7",
   "metadata": {},
   "outputs": [
    {
     "data": {
      "text/plain": [
       "array([0., 1.])"
      ]
     },
     "execution_count": 440,
     "metadata": {},
     "output_type": "execute_result"
    }
   ],
   "source": [
    "clf = LogisticRegression(C=0.1, class_weight='balanced')\n",
    "clf.fit(X, y)\n",
    "clf.classes_"
   ]
  },
  {
   "cell_type": "code",
   "execution_count": 441,
   "id": "1d2477b9",
   "metadata": {},
   "outputs": [],
   "source": [
    "preds = clf.predict(X_test)"
   ]
  },
  {
   "cell_type": "code",
   "execution_count": 442,
   "id": "5c76445a",
   "metadata": {},
   "outputs": [
    {
     "name": "stdout",
     "output_type": "stream",
     "text": [
      "              precision    recall  f1-score   support\n",
      "\n",
      "         0.0       0.91      0.82      0.86       953\n",
      "         1.0       0.70      0.85      0.77       489\n",
      "\n",
      "    accuracy                           0.83      1442\n",
      "   macro avg       0.81      0.83      0.81      1442\n",
      "weighted avg       0.84      0.83      0.83      1442\n",
      "\n"
     ]
    }
   ],
   "source": [
    "#результаты для классификатора обученного на векторайзере с дефолтной токенизацией\n",
    "print(classification_report(y_test, preds, zero_division=0))"
   ]
  },
  {
   "cell_type": "code",
   "execution_count": 443,
   "id": "a29c3edd",
   "metadata": {},
   "outputs": [
    {
     "name": "stderr",
     "output_type": "stream",
     "text": [
      "/Users/ignatenkodarja/Library/Python/3.7/lib/python/site-packages/sklearn/linear_model/_logistic.py:818: ConvergenceWarning: lbfgs failed to converge (status=1):\n",
      "STOP: TOTAL NO. of ITERATIONS REACHED LIMIT.\n",
      "\n",
      "Increase the number of iterations (max_iter) or scale the data as shown in:\n",
      "    https://scikit-learn.org/stable/modules/preprocessing.html\n",
      "Please also refer to the documentation for alternative solver options:\n",
      "    https://scikit-learn.org/stable/modules/linear_model.html#logistic-regression\n",
      "  extra_warning_msg=_LOGISTIC_SOLVER_CONVERGENCE_MSG,\n"
     ]
    }
   ],
   "source": [
    "clf2 = LogisticRegression(C=0.1, class_weight='balanced')\n",
    "clf2.fit(X_rzd, y)\n",
    "preds2 = clf2.predict(X_rzd_test)"
   ]
  },
  {
   "cell_type": "code",
   "execution_count": 444,
   "id": "f54c3083",
   "metadata": {},
   "outputs": [
    {
     "name": "stdout",
     "output_type": "stream",
     "text": [
      "              precision    recall  f1-score   support\n",
      "\n",
      "         0.0       0.90      0.82      0.86       953\n",
      "         1.0       0.70      0.82      0.76       489\n",
      "\n",
      "    accuracy                           0.82      1442\n",
      "   macro avg       0.80      0.82      0.81      1442\n",
      "weighted avg       0.83      0.82      0.83      1442\n",
      "\n"
     ]
    }
   ],
   "source": [
    "#результаты для классификатора обученного на векторайзере с токенизацией из раздела\n",
    "print(classification_report(y_test, preds2, zero_division=0))"
   ]
  },
  {
   "cell_type": "code",
   "execution_count": null,
   "id": "65f7c6e0",
   "metadata": {},
   "outputs": [],
   "source": [
    "#как будто разница получилась настолько незначительная, что сложно выбрать победителя("
   ]
  },
  {
   "cell_type": "markdown",
   "id": "91b9076e",
   "metadata": {},
   "source": [
    "## Задание 2 (3 балла)"
   ]
  },
  {
   "cell_type": "markdown",
   "id": "14e25357",
   "metadata": {},
   "source": [
    "Обучите 2 любых разных классификатора из семинара. Предскажите токсичность для текстов из тестовой выборки (используйте одну и ту же выборку для обоих классификаторов) и найдите 10 самых токсичных для каждого из классификаторов. Сравните получаемые тексты - какие тексты совпадают, какие отличаются, правда ли тексты токсичные?"
   ]
  },
  {
   "cell_type": "markdown",
   "id": "7de962ad",
   "metadata": {},
   "source": [
    "Требования к моделям:   \n",
    "а) один классификатор должен использовать CountVectorizer, другой TfidfVectorizer  \n",
    "б) у векторазера должны быть вручную заданы как минимум 5 параметров (можно ставить разные параметры tfidfvectorizer и countvectorizer)  \n",
    "в) у классификатора должно быть задано вручную как минимум 2 параметра (по возможности)  \n",
    "г)  f1 мера каждого из классификаторов должна быть минимум 0.75  \n",
    "\n",
    "*random_seed не считается за параметр"
   ]
  },
  {
   "cell_type": "code",
   "execution_count": 383,
   "id": "3ee530bd",
   "metadata": {},
   "outputs": [],
   "source": [
    "from nltk.corpus import stopwords\n",
    "russian_stopwords = stopwords.words(\"russian\")"
   ]
  },
  {
   "cell_type": "code",
   "execution_count": 445,
   "id": "ac0a5471",
   "metadata": {},
   "outputs": [],
   "source": [
    "#модель с CountVectorizer и логистической регрессией\n",
    "vectorizer_c = CountVectorizer(ngram_range=(1, 4), min_df=5, max_df=0.4, stop_words=russian_stopwords, lowercase=True)\n",
    "X_c = vectorizer_c.fit_transform(train.comment)\n",
    "X_c_test = vectorizer_c.transform(test.comment) \n",
    "#если честно удаление стопслов как будто только ухудшило качество модели..."
   ]
  },
  {
   "cell_type": "code",
   "execution_count": 446,
   "id": "bbb12fc0",
   "metadata": {},
   "outputs": [],
   "source": [
    "y = train.toxic.values\n",
    "y_test = test.toxic.values"
   ]
  },
  {
   "cell_type": "code",
   "execution_count": 108,
   "id": "e2cb816b",
   "metadata": {},
   "outputs": [
    {
     "name": "stdout",
     "output_type": "stream",
     "text": [
      "Fitting 5 folds for each of 70 candidates, totalling 350 fits\n",
      "[CV 1/5] END C=0.001, penalty=l1, solver=newton-cg;, score=nan total time=   0.0s\n",
      "[CV 2/5] END C=0.001, penalty=l1, solver=newton-cg;, score=nan total time=   0.0s\n",
      "[CV 3/5] END C=0.001, penalty=l1, solver=newton-cg;, score=nan total time=   0.0s\n",
      "[CV 4/5] END C=0.001, penalty=l1, solver=newton-cg;, score=nan total time=   0.0s\n",
      "[CV 5/5] END C=0.001, penalty=l1, solver=newton-cg;, score=nan total time=   0.0s\n",
      "[CV 1/5] END ...C=0.001, penalty=l1, solver=lbfgs;, score=nan total time=   0.0s\n",
      "[CV 2/5] END ...C=0.001, penalty=l1, solver=lbfgs;, score=nan total time=   0.0s\n",
      "[CV 3/5] END ...C=0.001, penalty=l1, solver=lbfgs;, score=nan total time=   0.0s\n",
      "[CV 4/5] END ...C=0.001, penalty=l1, solver=lbfgs;, score=nan total time=   0.0s\n",
      "[CV 5/5] END ...C=0.001, penalty=l1, solver=lbfgs;, score=nan total time=   0.0s\n",
      "[CV 1/5] END C=0.001, penalty=l1, solver=liblinear;, score=0.665 total time=   0.0s\n",
      "[CV 2/5] END C=0.001, penalty=l1, solver=liblinear;, score=0.665 total time=   0.0s\n",
      "[CV 3/5] END C=0.001, penalty=l1, solver=liblinear;, score=0.664 total time=   0.0s\n",
      "[CV 4/5] END C=0.001, penalty=l1, solver=liblinear;, score=0.664 total time=   0.0s\n",
      "[CV 5/5] END C=0.001, penalty=l1, solver=liblinear;, score=0.664 total time=   0.0s\n",
      "[CV 1/5] END .....C=0.001, penalty=l1, solver=sag;, score=nan total time=   0.0s\n",
      "[CV 2/5] END .....C=0.001, penalty=l1, solver=sag;, score=nan total time=   0.0s\n",
      "[CV 3/5] END .....C=0.001, penalty=l1, solver=sag;, score=nan total time=   0.0s\n",
      "[CV 4/5] END .....C=0.001, penalty=l1, solver=sag;, score=nan total time=   0.0s\n",
      "[CV 5/5] END .....C=0.001, penalty=l1, solver=sag;, score=nan total time=   0.0s\n",
      "[CV 1/5] END ..C=0.001, penalty=l1, solver=saga;, score=0.665 total time=   0.0s\n",
      "[CV 2/5] END ..C=0.001, penalty=l1, solver=saga;, score=0.665 total time=   0.0s\n",
      "[CV 3/5] END ..C=0.001, penalty=l1, solver=saga;, score=0.664 total time=   0.0s\n",
      "[CV 4/5] END ..C=0.001, penalty=l1, solver=saga;, score=0.664 total time=   0.0s\n",
      "[CV 5/5] END ..C=0.001, penalty=l1, solver=saga;, score=0.664 total time=   0.0s\n",
      "[CV 1/5] END C=0.001, penalty=l2, solver=newton-cg;, score=0.665 total time=   0.0s\n",
      "[CV 2/5] END C=0.001, penalty=l2, solver=newton-cg;, score=0.665 total time=   0.1s\n",
      "[CV 3/5] END C=0.001, penalty=l2, solver=newton-cg;, score=0.664 total time=   0.0s\n",
      "[CV 4/5] END C=0.001, penalty=l2, solver=newton-cg;, score=0.664 total time=   0.0s\n",
      "[CV 5/5] END C=0.001, penalty=l2, solver=newton-cg;, score=0.664 total time=   0.0s\n",
      "[CV 1/5] END .C=0.001, penalty=l2, solver=lbfgs;, score=0.665 total time=   0.0s\n",
      "[CV 2/5] END .C=0.001, penalty=l2, solver=lbfgs;, score=0.665 total time=   0.0s\n",
      "[CV 3/5] END .C=0.001, penalty=l2, solver=lbfgs;, score=0.664 total time=   0.0s\n",
      "[CV 4/5] END .C=0.001, penalty=l2, solver=lbfgs;, score=0.664 total time=   0.0s\n",
      "[CV 5/5] END .C=0.001, penalty=l2, solver=lbfgs;, score=0.664 total time=   0.0s\n",
      "[CV 1/5] END C=0.001, penalty=l2, solver=liblinear;, score=0.665 total time=   0.0s\n",
      "[CV 2/5] END C=0.001, penalty=l2, solver=liblinear;, score=0.665 total time=   0.0s\n",
      "[CV 3/5] END C=0.001, penalty=l2, solver=liblinear;, score=0.664 total time=   0.0s\n",
      "[CV 4/5] END C=0.001, penalty=l2, solver=liblinear;, score=0.664 total time=   0.0s\n",
      "[CV 5/5] END C=0.001, penalty=l2, solver=liblinear;, score=0.664 total time=   0.0s\n",
      "[CV 1/5] END ...C=0.001, penalty=l2, solver=sag;, score=0.665 total time=   0.2s\n"
     ]
    },
    {
     "name": "stderr",
     "output_type": "stream",
     "text": [
      "/Users/ignatenkodarja/Library/Python/3.7/lib/python/site-packages/sklearn/linear_model/_sag.py:354: ConvergenceWarning: The max_iter was reached which means the coef_ did not converge\n",
      "  ConvergenceWarning,\n",
      "/Users/ignatenkodarja/Library/Python/3.7/lib/python/site-packages/sklearn/linear_model/_sag.py:354: ConvergenceWarning: The max_iter was reached which means the coef_ did not converge\n",
      "  ConvergenceWarning,\n"
     ]
    },
    {
     "name": "stdout",
     "output_type": "stream",
     "text": [
      "[CV 2/5] END ...C=0.001, penalty=l2, solver=sag;, score=0.665 total time=   0.2s\n",
      "[CV 3/5] END ...C=0.001, penalty=l2, solver=sag;, score=0.664 total time=   0.2s\n"
     ]
    },
    {
     "name": "stderr",
     "output_type": "stream",
     "text": [
      "/Users/ignatenkodarja/Library/Python/3.7/lib/python/site-packages/sklearn/linear_model/_sag.py:354: ConvergenceWarning: The max_iter was reached which means the coef_ did not converge\n",
      "  ConvergenceWarning,\n",
      "/Users/ignatenkodarja/Library/Python/3.7/lib/python/site-packages/sklearn/linear_model/_sag.py:354: ConvergenceWarning: The max_iter was reached which means the coef_ did not converge\n",
      "  ConvergenceWarning,\n"
     ]
    },
    {
     "name": "stdout",
     "output_type": "stream",
     "text": [
      "[CV 4/5] END ...C=0.001, penalty=l2, solver=sag;, score=0.664 total time=   0.2s\n",
      "[CV 5/5] END ...C=0.001, penalty=l2, solver=sag;, score=0.664 total time=   0.2s\n"
     ]
    },
    {
     "name": "stderr",
     "output_type": "stream",
     "text": [
      "/Users/ignatenkodarja/Library/Python/3.7/lib/python/site-packages/sklearn/linear_model/_sag.py:354: ConvergenceWarning: The max_iter was reached which means the coef_ did not converge\n",
      "  ConvergenceWarning,\n",
      "/Users/ignatenkodarja/Library/Python/3.7/lib/python/site-packages/sklearn/linear_model/_sag.py:354: ConvergenceWarning: The max_iter was reached which means the coef_ did not converge\n",
      "  ConvergenceWarning,\n"
     ]
    },
    {
     "name": "stdout",
     "output_type": "stream",
     "text": [
      "[CV 1/5] END ..C=0.001, penalty=l2, solver=saga;, score=0.665 total time=   0.2s\n",
      "[CV 2/5] END ..C=0.001, penalty=l2, solver=saga;, score=0.665 total time=   0.2s\n"
     ]
    },
    {
     "name": "stderr",
     "output_type": "stream",
     "text": [
      "/Users/ignatenkodarja/Library/Python/3.7/lib/python/site-packages/sklearn/linear_model/_sag.py:354: ConvergenceWarning: The max_iter was reached which means the coef_ did not converge\n",
      "  ConvergenceWarning,\n",
      "/Users/ignatenkodarja/Library/Python/3.7/lib/python/site-packages/sklearn/linear_model/_sag.py:354: ConvergenceWarning: The max_iter was reached which means the coef_ did not converge\n",
      "  ConvergenceWarning,\n"
     ]
    },
    {
     "name": "stdout",
     "output_type": "stream",
     "text": [
      "[CV 3/5] END ..C=0.001, penalty=l2, solver=saga;, score=0.664 total time=   0.2s\n",
      "[CV 4/5] END ..C=0.001, penalty=l2, solver=saga;, score=0.664 total time=   0.2s\n"
     ]
    },
    {
     "name": "stderr",
     "output_type": "stream",
     "text": [
      "/Users/ignatenkodarja/Library/Python/3.7/lib/python/site-packages/sklearn/linear_model/_sag.py:354: ConvergenceWarning: The max_iter was reached which means the coef_ did not converge\n",
      "  ConvergenceWarning,\n",
      "/Users/ignatenkodarja/Library/Python/3.7/lib/python/site-packages/sklearn/linear_model/_sag.py:354: ConvergenceWarning: The max_iter was reached which means the coef_ did not converge\n",
      "  ConvergenceWarning,\n"
     ]
    },
    {
     "name": "stdout",
     "output_type": "stream",
     "text": [
      "[CV 5/5] END ..C=0.001, penalty=l2, solver=saga;, score=0.664 total time=   0.2s\n",
      "[CV 1/5] END C=0.01, penalty=l1, solver=newton-cg;, score=nan total time=   0.0s\n",
      "[CV 2/5] END C=0.01, penalty=l1, solver=newton-cg;, score=nan total time=   0.0s\n",
      "[CV 3/5] END C=0.01, penalty=l1, solver=newton-cg;, score=nan total time=   0.0s\n",
      "[CV 4/5] END C=0.01, penalty=l1, solver=newton-cg;, score=nan total time=   0.0s\n",
      "[CV 5/5] END C=0.01, penalty=l1, solver=newton-cg;, score=nan total time=   0.0s\n",
      "[CV 1/5] END ....C=0.01, penalty=l1, solver=lbfgs;, score=nan total time=   0.0s\n",
      "[CV 2/5] END ....C=0.01, penalty=l1, solver=lbfgs;, score=nan total time=   0.0s\n",
      "[CV 3/5] END ....C=0.01, penalty=l1, solver=lbfgs;, score=nan total time=   0.0s\n",
      "[CV 4/5] END ....C=0.01, penalty=l1, solver=lbfgs;, score=nan total time=   0.0s\n",
      "[CV 5/5] END ....C=0.01, penalty=l1, solver=lbfgs;, score=nan total time=   0.0s\n",
      "[CV 1/5] END C=0.01, penalty=l1, solver=liblinear;, score=0.665 total time=   0.0s\n",
      "[CV 2/5] END C=0.01, penalty=l1, solver=liblinear;, score=0.665 total time=   0.0s\n",
      "[CV 3/5] END C=0.01, penalty=l1, solver=liblinear;, score=0.664 total time=   0.0s\n",
      "[CV 4/5] END C=0.01, penalty=l1, solver=liblinear;, score=0.664 total time=   0.0s\n",
      "[CV 5/5] END C=0.01, penalty=l1, solver=liblinear;, score=0.664 total time=   0.0s\n",
      "[CV 1/5] END ......C=0.01, penalty=l1, solver=sag;, score=nan total time=   0.0s\n",
      "[CV 2/5] END ......C=0.01, penalty=l1, solver=sag;, score=nan total time=   0.0s\n",
      "[CV 3/5] END ......C=0.01, penalty=l1, solver=sag;, score=nan total time=   0.0s\n",
      "[CV 4/5] END ......C=0.01, penalty=l1, solver=sag;, score=nan total time=   0.0s\n",
      "[CV 5/5] END ......C=0.01, penalty=l1, solver=sag;, score=nan total time=   0.0s\n"
     ]
    },
    {
     "name": "stderr",
     "output_type": "stream",
     "text": [
      "/Users/ignatenkodarja/Library/Python/3.7/lib/python/site-packages/sklearn/linear_model/_sag.py:354: ConvergenceWarning: The max_iter was reached which means the coef_ did not converge\n",
      "  ConvergenceWarning,\n",
      "/Users/ignatenkodarja/Library/Python/3.7/lib/python/site-packages/sklearn/linear_model/_sag.py:354: ConvergenceWarning: The max_iter was reached which means the coef_ did not converge\n",
      "  ConvergenceWarning,\n"
     ]
    },
    {
     "name": "stdout",
     "output_type": "stream",
     "text": [
      "[CV 1/5] END ...C=0.01, penalty=l1, solver=saga;, score=0.665 total time=   0.2s\n",
      "[CV 2/5] END ...C=0.01, penalty=l1, solver=saga;, score=0.665 total time=   0.2s\n"
     ]
    },
    {
     "name": "stderr",
     "output_type": "stream",
     "text": [
      "/Users/ignatenkodarja/Library/Python/3.7/lib/python/site-packages/sklearn/linear_model/_sag.py:354: ConvergenceWarning: The max_iter was reached which means the coef_ did not converge\n",
      "  ConvergenceWarning,\n"
     ]
    },
    {
     "name": "stdout",
     "output_type": "stream",
     "text": [
      "[CV 3/5] END ...C=0.01, penalty=l1, solver=saga;, score=0.664 total time=   0.2s\n"
     ]
    },
    {
     "name": "stderr",
     "output_type": "stream",
     "text": [
      "/Users/ignatenkodarja/Library/Python/3.7/lib/python/site-packages/sklearn/linear_model/_sag.py:354: ConvergenceWarning: The max_iter was reached which means the coef_ did not converge\n",
      "  ConvergenceWarning,\n",
      "/Users/ignatenkodarja/Library/Python/3.7/lib/python/site-packages/sklearn/linear_model/_sag.py:354: ConvergenceWarning: The max_iter was reached which means the coef_ did not converge\n",
      "  ConvergenceWarning,\n"
     ]
    },
    {
     "name": "stdout",
     "output_type": "stream",
     "text": [
      "[CV 4/5] END ...C=0.01, penalty=l1, solver=saga;, score=0.664 total time=   0.2s\n",
      "[CV 5/5] END ...C=0.01, penalty=l1, solver=saga;, score=0.664 total time=   0.2s\n",
      "[CV 1/5] END C=0.01, penalty=l2, solver=newton-cg;, score=0.687 total time=   0.1s\n",
      "[CV 2/5] END C=0.01, penalty=l2, solver=newton-cg;, score=0.693 total time=   0.1s\n",
      "[CV 3/5] END C=0.01, penalty=l2, solver=newton-cg;, score=0.682 total time=   0.1s\n",
      "[CV 4/5] END C=0.01, penalty=l2, solver=newton-cg;, score=0.689 total time=   0.1s\n",
      "[CV 5/5] END C=0.01, penalty=l2, solver=newton-cg;, score=0.688 total time=   0.1s\n",
      "[CV 1/5] END ..C=0.01, penalty=l2, solver=lbfgs;, score=0.687 total time=   0.0s\n",
      "[CV 2/5] END ..C=0.01, penalty=l2, solver=lbfgs;, score=0.693 total time=   0.0s\n",
      "[CV 3/5] END ..C=0.01, penalty=l2, solver=lbfgs;, score=0.682 total time=   0.0s\n",
      "[CV 4/5] END ..C=0.01, penalty=l2, solver=lbfgs;, score=0.689 total time=   0.2s\n",
      "[CV 5/5] END ..C=0.01, penalty=l2, solver=lbfgs;, score=0.688 total time=   0.0s\n",
      "[CV 1/5] END C=0.01, penalty=l2, solver=liblinear;, score=0.688 total time=   0.1s\n",
      "[CV 2/5] END C=0.01, penalty=l2, solver=liblinear;, score=0.694 total time=   0.1s\n",
      "[CV 3/5] END C=0.01, penalty=l2, solver=liblinear;, score=0.684 total time=   0.0s\n",
      "[CV 4/5] END C=0.01, penalty=l2, solver=liblinear;, score=0.689 total time=   0.1s\n",
      "[CV 5/5] END C=0.01, penalty=l2, solver=liblinear;, score=0.692 total time=   0.0s\n"
     ]
    },
    {
     "name": "stderr",
     "output_type": "stream",
     "text": [
      "/Users/ignatenkodarja/Library/Python/3.7/lib/python/site-packages/sklearn/linear_model/_sag.py:354: ConvergenceWarning: The max_iter was reached which means the coef_ did not converge\n",
      "  ConvergenceWarning,\n",
      "/Users/ignatenkodarja/Library/Python/3.7/lib/python/site-packages/sklearn/linear_model/_sag.py:354: ConvergenceWarning: The max_iter was reached which means the coef_ did not converge\n",
      "  ConvergenceWarning,\n"
     ]
    },
    {
     "name": "stdout",
     "output_type": "stream",
     "text": [
      "[CV 1/5] END ....C=0.01, penalty=l2, solver=sag;, score=0.692 total time=   0.2s\n",
      "[CV 2/5] END ....C=0.01, penalty=l2, solver=sag;, score=0.700 total time=   0.2s\n"
     ]
    },
    {
     "name": "stderr",
     "output_type": "stream",
     "text": [
      "/Users/ignatenkodarja/Library/Python/3.7/lib/python/site-packages/sklearn/linear_model/_sag.py:354: ConvergenceWarning: The max_iter was reached which means the coef_ did not converge\n",
      "  ConvergenceWarning,\n",
      "/Users/ignatenkodarja/Library/Python/3.7/lib/python/site-packages/sklearn/linear_model/_sag.py:354: ConvergenceWarning: The max_iter was reached which means the coef_ did not converge\n",
      "  ConvergenceWarning,\n"
     ]
    },
    {
     "name": "stdout",
     "output_type": "stream",
     "text": [
      "[CV 3/5] END ....C=0.01, penalty=l2, solver=sag;, score=0.691 total time=   0.2s\n",
      "[CV 4/5] END ....C=0.01, penalty=l2, solver=sag;, score=0.693 total time=   0.2s\n"
     ]
    },
    {
     "name": "stderr",
     "output_type": "stream",
     "text": [
      "/Users/ignatenkodarja/Library/Python/3.7/lib/python/site-packages/sklearn/linear_model/_sag.py:354: ConvergenceWarning: The max_iter was reached which means the coef_ did not converge\n",
      "  ConvergenceWarning,\n",
      "/Users/ignatenkodarja/Library/Python/3.7/lib/python/site-packages/sklearn/linear_model/_sag.py:354: ConvergenceWarning: The max_iter was reached which means the coef_ did not converge\n",
      "  ConvergenceWarning,\n"
     ]
    },
    {
     "name": "stdout",
     "output_type": "stream",
     "text": [
      "[CV 5/5] END ....C=0.01, penalty=l2, solver=sag;, score=0.692 total time=   0.2s\n",
      "[CV 1/5] END ...C=0.01, penalty=l2, solver=saga;, score=0.702 total time=   0.2s\n"
     ]
    },
    {
     "name": "stderr",
     "output_type": "stream",
     "text": [
      "/Users/ignatenkodarja/Library/Python/3.7/lib/python/site-packages/sklearn/linear_model/_sag.py:354: ConvergenceWarning: The max_iter was reached which means the coef_ did not converge\n",
      "  ConvergenceWarning,\n",
      "/Users/ignatenkodarja/Library/Python/3.7/lib/python/site-packages/sklearn/linear_model/_sag.py:354: ConvergenceWarning: The max_iter was reached which means the coef_ did not converge\n",
      "  ConvergenceWarning,\n"
     ]
    },
    {
     "name": "stdout",
     "output_type": "stream",
     "text": [
      "[CV 2/5] END ...C=0.01, penalty=l2, solver=saga;, score=0.707 total time=   0.2s\n",
      "[CV 3/5] END ...C=0.01, penalty=l2, solver=saga;, score=0.702 total time=   0.2s\n"
     ]
    },
    {
     "name": "stderr",
     "output_type": "stream",
     "text": [
      "/Users/ignatenkodarja/Library/Python/3.7/lib/python/site-packages/sklearn/linear_model/_sag.py:354: ConvergenceWarning: The max_iter was reached which means the coef_ did not converge\n",
      "  ConvergenceWarning,\n",
      "/Users/ignatenkodarja/Library/Python/3.7/lib/python/site-packages/sklearn/linear_model/_sag.py:354: ConvergenceWarning: The max_iter was reached which means the coef_ did not converge\n",
      "  ConvergenceWarning,\n"
     ]
    },
    {
     "name": "stdout",
     "output_type": "stream",
     "text": [
      "[CV 4/5] END ...C=0.01, penalty=l2, solver=saga;, score=0.702 total time=   0.2s\n",
      "[CV 5/5] END ...C=0.01, penalty=l2, solver=saga;, score=0.701 total time=   0.1s\n",
      "[CV 1/5] END .C=0.1, penalty=l1, solver=newton-cg;, score=nan total time=   0.0s\n",
      "[CV 2/5] END .C=0.1, penalty=l1, solver=newton-cg;, score=nan total time=   0.0s\n",
      "[CV 3/5] END .C=0.1, penalty=l1, solver=newton-cg;, score=nan total time=   0.0s\n",
      "[CV 4/5] END .C=0.1, penalty=l1, solver=newton-cg;, score=nan total time=   0.0s\n",
      "[CV 5/5] END .C=0.1, penalty=l1, solver=newton-cg;, score=nan total time=   0.0s\n",
      "[CV 1/5] END .....C=0.1, penalty=l1, solver=lbfgs;, score=nan total time=   0.0s\n",
      "[CV 2/5] END .....C=0.1, penalty=l1, solver=lbfgs;, score=nan total time=   0.0s\n",
      "[CV 3/5] END .....C=0.1, penalty=l1, solver=lbfgs;, score=nan total time=   0.0s\n",
      "[CV 4/5] END .....C=0.1, penalty=l1, solver=lbfgs;, score=nan total time=   0.0s\n",
      "[CV 5/5] END .....C=0.1, penalty=l1, solver=lbfgs;, score=nan total time=   0.0s\n",
      "[CV 1/5] END C=0.1, penalty=l1, solver=liblinear;, score=0.734 total time=   0.0s\n",
      "[CV 2/5] END C=0.1, penalty=l1, solver=liblinear;, score=0.730 total time=   0.0s\n",
      "[CV 3/5] END C=0.1, penalty=l1, solver=liblinear;, score=0.730 total time=   0.0s\n",
      "[CV 4/5] END C=0.1, penalty=l1, solver=liblinear;, score=0.729 total time=   0.0s\n",
      "[CV 5/5] END C=0.1, penalty=l1, solver=liblinear;, score=0.728 total time=   0.0s\n",
      "[CV 1/5] END .......C=0.1, penalty=l1, solver=sag;, score=nan total time=   0.0s\n",
      "[CV 2/5] END .......C=0.1, penalty=l1, solver=sag;, score=nan total time=   0.0s\n",
      "[CV 3/5] END .......C=0.1, penalty=l1, solver=sag;, score=nan total time=   0.0s\n",
      "[CV 4/5] END .......C=0.1, penalty=l1, solver=sag;, score=nan total time=   0.0s\n",
      "[CV 5/5] END .......C=0.1, penalty=l1, solver=sag;, score=nan total time=   0.0s\n"
     ]
    },
    {
     "name": "stderr",
     "output_type": "stream",
     "text": [
      "/Users/ignatenkodarja/Library/Python/3.7/lib/python/site-packages/sklearn/linear_model/_sag.py:354: ConvergenceWarning: The max_iter was reached which means the coef_ did not converge\n",
      "  ConvergenceWarning,\n"
     ]
    },
    {
     "name": "stdout",
     "output_type": "stream",
     "text": [
      "[CV 1/5] END ....C=0.1, penalty=l1, solver=saga;, score=0.722 total time=   1.5s\n"
     ]
    },
    {
     "name": "stderr",
     "output_type": "stream",
     "text": [
      "/Users/ignatenkodarja/Library/Python/3.7/lib/python/site-packages/sklearn/linear_model/_sag.py:354: ConvergenceWarning: The max_iter was reached which means the coef_ did not converge\n",
      "  ConvergenceWarning,\n"
     ]
    },
    {
     "name": "stdout",
     "output_type": "stream",
     "text": [
      "[CV 2/5] END ....C=0.1, penalty=l1, solver=saga;, score=0.724 total time=   1.5s\n"
     ]
    },
    {
     "name": "stderr",
     "output_type": "stream",
     "text": [
      "/Users/ignatenkodarja/Library/Python/3.7/lib/python/site-packages/sklearn/linear_model/_sag.py:354: ConvergenceWarning: The max_iter was reached which means the coef_ did not converge\n",
      "  ConvergenceWarning,\n"
     ]
    },
    {
     "name": "stdout",
     "output_type": "stream",
     "text": [
      "[CV 3/5] END ....C=0.1, penalty=l1, solver=saga;, score=0.720 total time=   1.5s\n"
     ]
    },
    {
     "name": "stderr",
     "output_type": "stream",
     "text": [
      "/Users/ignatenkodarja/Library/Python/3.7/lib/python/site-packages/sklearn/linear_model/_sag.py:354: ConvergenceWarning: The max_iter was reached which means the coef_ did not converge\n",
      "  ConvergenceWarning,\n"
     ]
    },
    {
     "name": "stdout",
     "output_type": "stream",
     "text": [
      "[CV 4/5] END ....C=0.1, penalty=l1, solver=saga;, score=0.721 total time=   1.5s\n"
     ]
    },
    {
     "name": "stderr",
     "output_type": "stream",
     "text": [
      "/Users/ignatenkodarja/Library/Python/3.7/lib/python/site-packages/sklearn/linear_model/_sag.py:354: ConvergenceWarning: The max_iter was reached which means the coef_ did not converge\n",
      "  ConvergenceWarning,\n"
     ]
    },
    {
     "name": "stdout",
     "output_type": "stream",
     "text": [
      "[CV 5/5] END ....C=0.1, penalty=l1, solver=saga;, score=0.727 total time=   1.2s\n",
      "[CV 1/5] END C=0.1, penalty=l2, solver=newton-cg;, score=0.800 total time=   0.1s\n",
      "[CV 2/5] END C=0.1, penalty=l2, solver=newton-cg;, score=0.789 total time=   0.1s\n",
      "[CV 3/5] END C=0.1, penalty=l2, solver=newton-cg;, score=0.787 total time=   0.1s\n",
      "[CV 4/5] END C=0.1, penalty=l2, solver=newton-cg;, score=0.795 total time=   0.1s\n",
      "[CV 5/5] END C=0.1, penalty=l2, solver=newton-cg;, score=0.798 total time=   0.1s\n",
      "[CV 1/5] END ...C=0.1, penalty=l2, solver=lbfgs;, score=0.800 total time=   0.1s\n",
      "[CV 2/5] END ...C=0.1, penalty=l2, solver=lbfgs;, score=0.789 total time=   0.1s\n",
      "[CV 3/5] END ...C=0.1, penalty=l2, solver=lbfgs;, score=0.787 total time=   0.1s\n",
      "[CV 4/5] END ...C=0.1, penalty=l2, solver=lbfgs;, score=0.795 total time=   0.1s\n",
      "[CV 5/5] END ...C=0.1, penalty=l2, solver=lbfgs;, score=0.798 total time=   0.1s\n",
      "[CV 1/5] END C=0.1, penalty=l2, solver=liblinear;, score=0.800 total time=   0.1s\n",
      "[CV 2/5] END C=0.1, penalty=l2, solver=liblinear;, score=0.789 total time=   0.1s\n",
      "[CV 3/5] END C=0.1, penalty=l2, solver=liblinear;, score=0.788 total time=   0.1s\n",
      "[CV 4/5] END C=0.1, penalty=l2, solver=liblinear;, score=0.796 total time=   0.1s\n",
      "[CV 5/5] END C=0.1, penalty=l2, solver=liblinear;, score=0.799 total time=   0.1s\n"
     ]
    },
    {
     "name": "stderr",
     "output_type": "stream",
     "text": [
      "/Users/ignatenkodarja/Library/Python/3.7/lib/python/site-packages/sklearn/linear_model/_sag.py:354: ConvergenceWarning: The max_iter was reached which means the coef_ did not converge\n",
      "  ConvergenceWarning,\n",
      "/Users/ignatenkodarja/Library/Python/3.7/lib/python/site-packages/sklearn/linear_model/_sag.py:354: ConvergenceWarning: The max_iter was reached which means the coef_ did not converge\n",
      "  ConvergenceWarning,\n"
     ]
    },
    {
     "name": "stdout",
     "output_type": "stream",
     "text": [
      "[CV 1/5] END .....C=0.1, penalty=l2, solver=sag;, score=0.796 total time=   0.2s\n",
      "[CV 2/5] END .....C=0.1, penalty=l2, solver=sag;, score=0.786 total time=   0.2s\n"
     ]
    },
    {
     "name": "stderr",
     "output_type": "stream",
     "text": [
      "/Users/ignatenkodarja/Library/Python/3.7/lib/python/site-packages/sklearn/linear_model/_sag.py:354: ConvergenceWarning: The max_iter was reached which means the coef_ did not converge\n",
      "  ConvergenceWarning,\n",
      "/Users/ignatenkodarja/Library/Python/3.7/lib/python/site-packages/sklearn/linear_model/_sag.py:354: ConvergenceWarning: The max_iter was reached which means the coef_ did not converge\n",
      "  ConvergenceWarning,\n"
     ]
    },
    {
     "name": "stdout",
     "output_type": "stream",
     "text": [
      "[CV 3/5] END .....C=0.1, penalty=l2, solver=sag;, score=0.783 total time=   0.2s\n",
      "[CV 4/5] END .....C=0.1, penalty=l2, solver=sag;, score=0.791 total time=   0.2s\n"
     ]
    },
    {
     "name": "stderr",
     "output_type": "stream",
     "text": [
      "/Users/ignatenkodarja/Library/Python/3.7/lib/python/site-packages/sklearn/linear_model/_sag.py:354: ConvergenceWarning: The max_iter was reached which means the coef_ did not converge\n",
      "  ConvergenceWarning,\n",
      "/Users/ignatenkodarja/Library/Python/3.7/lib/python/site-packages/sklearn/linear_model/_sag.py:354: ConvergenceWarning: The max_iter was reached which means the coef_ did not converge\n",
      "  ConvergenceWarning,\n"
     ]
    },
    {
     "name": "stdout",
     "output_type": "stream",
     "text": [
      "[CV 5/5] END .....C=0.1, penalty=l2, solver=sag;, score=0.799 total time=   0.2s\n",
      "[CV 1/5] END ....C=0.1, penalty=l2, solver=saga;, score=0.785 total time=   0.2s\n"
     ]
    },
    {
     "name": "stderr",
     "output_type": "stream",
     "text": [
      "/Users/ignatenkodarja/Library/Python/3.7/lib/python/site-packages/sklearn/linear_model/_sag.py:354: ConvergenceWarning: The max_iter was reached which means the coef_ did not converge\n",
      "  ConvergenceWarning,\n",
      "/Users/ignatenkodarja/Library/Python/3.7/lib/python/site-packages/sklearn/linear_model/_sag.py:354: ConvergenceWarning: The max_iter was reached which means the coef_ did not converge\n",
      "  ConvergenceWarning,\n"
     ]
    },
    {
     "name": "stdout",
     "output_type": "stream",
     "text": [
      "[CV 2/5] END ....C=0.1, penalty=l2, solver=saga;, score=0.778 total time=   0.2s\n",
      "[CV 3/5] END ....C=0.1, penalty=l2, solver=saga;, score=0.774 total time=   0.1s\n"
     ]
    },
    {
     "name": "stderr",
     "output_type": "stream",
     "text": [
      "/Users/ignatenkodarja/Library/Python/3.7/lib/python/site-packages/sklearn/linear_model/_sag.py:354: ConvergenceWarning: The max_iter was reached which means the coef_ did not converge\n",
      "  ConvergenceWarning,\n",
      "/Users/ignatenkodarja/Library/Python/3.7/lib/python/site-packages/sklearn/linear_model/_sag.py:354: ConvergenceWarning: The max_iter was reached which means the coef_ did not converge\n",
      "  ConvergenceWarning,\n"
     ]
    },
    {
     "name": "stdout",
     "output_type": "stream",
     "text": [
      "[CV 4/5] END ....C=0.1, penalty=l2, solver=saga;, score=0.777 total time=   0.2s\n",
      "[CV 5/5] END ....C=0.1, penalty=l2, solver=saga;, score=0.795 total time=   0.2s\n",
      "[CV 1/5] END ...C=1, penalty=l1, solver=newton-cg;, score=nan total time=   0.0s\n",
      "[CV 2/5] END ...C=1, penalty=l1, solver=newton-cg;, score=nan total time=   0.0s\n",
      "[CV 3/5] END ...C=1, penalty=l1, solver=newton-cg;, score=nan total time=   0.0s\n",
      "[CV 4/5] END ...C=1, penalty=l1, solver=newton-cg;, score=nan total time=   0.0s\n",
      "[CV 5/5] END ...C=1, penalty=l1, solver=newton-cg;, score=nan total time=   0.0s\n",
      "[CV 1/5] END .......C=1, penalty=l1, solver=lbfgs;, score=nan total time=   0.0s\n",
      "[CV 2/5] END .......C=1, penalty=l1, solver=lbfgs;, score=nan total time=   0.0s\n",
      "[CV 3/5] END .......C=1, penalty=l1, solver=lbfgs;, score=nan total time=   0.0s\n",
      "[CV 4/5] END .......C=1, penalty=l1, solver=lbfgs;, score=nan total time=   0.0s\n",
      "[CV 5/5] END .......C=1, penalty=l1, solver=lbfgs;, score=nan total time=   0.0s\n",
      "[CV 1/5] END .C=1, penalty=l1, solver=liblinear;, score=0.820 total time=   0.0s\n",
      "[CV 2/5] END .C=1, penalty=l1, solver=liblinear;, score=0.805 total time=   0.0s\n",
      "[CV 3/5] END .C=1, penalty=l1, solver=liblinear;, score=0.808 total time=   0.0s\n",
      "[CV 4/5] END .C=1, penalty=l1, solver=liblinear;, score=0.812 total time=   0.0s\n",
      "[CV 5/5] END .C=1, penalty=l1, solver=liblinear;, score=0.818 total time=   0.0s\n",
      "[CV 1/5] END .........C=1, penalty=l1, solver=sag;, score=nan total time=   0.0s\n",
      "[CV 2/5] END .........C=1, penalty=l1, solver=sag;, score=nan total time=   0.0s\n",
      "[CV 3/5] END .........C=1, penalty=l1, solver=sag;, score=nan total time=   0.0s\n",
      "[CV 4/5] END .........C=1, penalty=l1, solver=sag;, score=nan total time=   0.0s\n",
      "[CV 5/5] END .........C=1, penalty=l1, solver=sag;, score=nan total time=   0.0s\n"
     ]
    },
    {
     "name": "stderr",
     "output_type": "stream",
     "text": [
      "/Users/ignatenkodarja/Library/Python/3.7/lib/python/site-packages/sklearn/linear_model/_sag.py:354: ConvergenceWarning: The max_iter was reached which means the coef_ did not converge\n",
      "  ConvergenceWarning,\n"
     ]
    },
    {
     "name": "stdout",
     "output_type": "stream",
     "text": [
      "[CV 1/5] END ......C=1, penalty=l1, solver=saga;, score=0.785 total time=  28.9s\n"
     ]
    },
    {
     "name": "stderr",
     "output_type": "stream",
     "text": [
      "/Users/ignatenkodarja/Library/Python/3.7/lib/python/site-packages/sklearn/linear_model/_sag.py:354: ConvergenceWarning: The max_iter was reached which means the coef_ did not converge\n",
      "  ConvergenceWarning,\n"
     ]
    },
    {
     "name": "stdout",
     "output_type": "stream",
     "text": [
      "[CV 2/5] END ......C=1, penalty=l1, solver=saga;, score=0.779 total time=  28.7s\n"
     ]
    },
    {
     "name": "stderr",
     "output_type": "stream",
     "text": [
      "/Users/ignatenkodarja/Library/Python/3.7/lib/python/site-packages/sklearn/linear_model/_sag.py:354: ConvergenceWarning: The max_iter was reached which means the coef_ did not converge\n",
      "  ConvergenceWarning,\n"
     ]
    },
    {
     "name": "stdout",
     "output_type": "stream",
     "text": [
      "[CV 3/5] END ......C=1, penalty=l1, solver=saga;, score=0.774 total time=  28.4s\n"
     ]
    },
    {
     "name": "stderr",
     "output_type": "stream",
     "text": [
      "/Users/ignatenkodarja/Library/Python/3.7/lib/python/site-packages/sklearn/linear_model/_sag.py:354: ConvergenceWarning: The max_iter was reached which means the coef_ did not converge\n",
      "  ConvergenceWarning,\n"
     ]
    },
    {
     "name": "stdout",
     "output_type": "stream",
     "text": [
      "[CV 4/5] END ......C=1, penalty=l1, solver=saga;, score=0.777 total time=  28.6s\n"
     ]
    },
    {
     "name": "stderr",
     "output_type": "stream",
     "text": [
      "/Users/ignatenkodarja/Library/Python/3.7/lib/python/site-packages/sklearn/linear_model/_sag.py:354: ConvergenceWarning: The max_iter was reached which means the coef_ did not converge\n",
      "  ConvergenceWarning,\n"
     ]
    },
    {
     "name": "stdout",
     "output_type": "stream",
     "text": [
      "[CV 5/5] END ......C=1, penalty=l1, solver=saga;, score=0.793 total time=  25.4s\n",
      "[CV 1/5] END .C=1, penalty=l2, solver=newton-cg;, score=0.831 total time=   0.2s\n",
      "[CV 2/5] END .C=1, penalty=l2, solver=newton-cg;, score=0.822 total time=   0.2s\n",
      "[CV 3/5] END .C=1, penalty=l2, solver=newton-cg;, score=0.832 total time=   0.2s\n",
      "[CV 4/5] END .C=1, penalty=l2, solver=newton-cg;, score=0.830 total time=   0.2s\n",
      "[CV 5/5] END .C=1, penalty=l2, solver=newton-cg;, score=0.832 total time=   0.2s\n",
      "[CV 1/5] END .....C=1, penalty=l2, solver=lbfgs;, score=0.831 total time=   0.1s\n",
      "[CV 2/5] END .....C=1, penalty=l2, solver=lbfgs;, score=0.822 total time=   0.1s\n",
      "[CV 3/5] END .....C=1, penalty=l2, solver=lbfgs;, score=0.832 total time=   0.2s\n",
      "[CV 4/5] END .....C=1, penalty=l2, solver=lbfgs;, score=0.830 total time=   0.2s\n",
      "[CV 5/5] END .....C=1, penalty=l2, solver=lbfgs;, score=0.832 total time=   0.2s\n",
      "[CV 1/5] END .C=1, penalty=l2, solver=liblinear;, score=0.831 total time=   0.2s\n",
      "[CV 2/5] END .C=1, penalty=l2, solver=liblinear;, score=0.822 total time=   0.2s\n",
      "[CV 3/5] END .C=1, penalty=l2, solver=liblinear;, score=0.832 total time=   0.2s\n",
      "[CV 4/5] END .C=1, penalty=l2, solver=liblinear;, score=0.830 total time=   0.3s\n",
      "[CV 5/5] END .C=1, penalty=l2, solver=liblinear;, score=0.832 total time=   0.3s\n",
      "[CV 1/5] END .......C=1, penalty=l2, solver=sag;, score=0.813 total time=   0.2s\n"
     ]
    },
    {
     "name": "stderr",
     "output_type": "stream",
     "text": [
      "/Users/ignatenkodarja/Library/Python/3.7/lib/python/site-packages/sklearn/linear_model/_sag.py:354: ConvergenceWarning: The max_iter was reached which means the coef_ did not converge\n",
      "  ConvergenceWarning,\n",
      "/Users/ignatenkodarja/Library/Python/3.7/lib/python/site-packages/sklearn/linear_model/_sag.py:354: ConvergenceWarning: The max_iter was reached which means the coef_ did not converge\n",
      "  ConvergenceWarning,\n"
     ]
    },
    {
     "name": "stdout",
     "output_type": "stream",
     "text": [
      "[CV 2/5] END .......C=1, penalty=l2, solver=sag;, score=0.804 total time=   0.2s\n",
      "[CV 3/5] END .......C=1, penalty=l2, solver=sag;, score=0.810 total time=   0.2s\n"
     ]
    },
    {
     "name": "stderr",
     "output_type": "stream",
     "text": [
      "/Users/ignatenkodarja/Library/Python/3.7/lib/python/site-packages/sklearn/linear_model/_sag.py:354: ConvergenceWarning: The max_iter was reached which means the coef_ did not converge\n",
      "  ConvergenceWarning,\n",
      "/Users/ignatenkodarja/Library/Python/3.7/lib/python/site-packages/sklearn/linear_model/_sag.py:354: ConvergenceWarning: The max_iter was reached which means the coef_ did not converge\n",
      "  ConvergenceWarning,\n"
     ]
    },
    {
     "name": "stdout",
     "output_type": "stream",
     "text": [
      "[CV 4/5] END .......C=1, penalty=l2, solver=sag;, score=0.807 total time=   0.2s\n",
      "[CV 5/5] END .......C=1, penalty=l2, solver=sag;, score=0.821 total time=   0.2s\n"
     ]
    },
    {
     "name": "stderr",
     "output_type": "stream",
     "text": [
      "/Users/ignatenkodarja/Library/Python/3.7/lib/python/site-packages/sklearn/linear_model/_sag.py:354: ConvergenceWarning: The max_iter was reached which means the coef_ did not converge\n",
      "  ConvergenceWarning,\n",
      "/Users/ignatenkodarja/Library/Python/3.7/lib/python/site-packages/sklearn/linear_model/_sag.py:354: ConvergenceWarning: The max_iter was reached which means the coef_ did not converge\n",
      "  ConvergenceWarning,\n"
     ]
    },
    {
     "name": "stdout",
     "output_type": "stream",
     "text": [
      "[CV 1/5] END ......C=1, penalty=l2, solver=saga;, score=0.799 total time=   0.2s\n",
      "[CV 2/5] END ......C=1, penalty=l2, solver=saga;, score=0.788 total time=   0.2s\n"
     ]
    },
    {
     "name": "stderr",
     "output_type": "stream",
     "text": [
      "/Users/ignatenkodarja/Library/Python/3.7/lib/python/site-packages/sklearn/linear_model/_sag.py:354: ConvergenceWarning: The max_iter was reached which means the coef_ did not converge\n",
      "  ConvergenceWarning,\n",
      "/Users/ignatenkodarja/Library/Python/3.7/lib/python/site-packages/sklearn/linear_model/_sag.py:354: ConvergenceWarning: The max_iter was reached which means the coef_ did not converge\n",
      "  ConvergenceWarning,\n"
     ]
    },
    {
     "name": "stdout",
     "output_type": "stream",
     "text": [
      "[CV 3/5] END ......C=1, penalty=l2, solver=saga;, score=0.785 total time=   0.2s\n",
      "[CV 4/5] END ......C=1, penalty=l2, solver=saga;, score=0.789 total time=   0.2s\n"
     ]
    },
    {
     "name": "stderr",
     "output_type": "stream",
     "text": [
      "/Users/ignatenkodarja/Library/Python/3.7/lib/python/site-packages/sklearn/linear_model/_sag.py:354: ConvergenceWarning: The max_iter was reached which means the coef_ did not converge\n",
      "  ConvergenceWarning,\n",
      "/Users/ignatenkodarja/Library/Python/3.7/lib/python/site-packages/sklearn/linear_model/_sag.py:354: ConvergenceWarning: The max_iter was reached which means the coef_ did not converge\n",
      "  ConvergenceWarning,\n"
     ]
    },
    {
     "name": "stdout",
     "output_type": "stream",
     "text": [
      "[CV 5/5] END ......C=1, penalty=l2, solver=saga;, score=0.808 total time=   0.2s\n",
      "[CV 1/5] END ..C=10, penalty=l1, solver=newton-cg;, score=nan total time=   0.0s\n",
      "[CV 2/5] END ..C=10, penalty=l1, solver=newton-cg;, score=nan total time=   0.0s\n",
      "[CV 3/5] END ..C=10, penalty=l1, solver=newton-cg;, score=nan total time=   0.0s\n",
      "[CV 4/5] END ..C=10, penalty=l1, solver=newton-cg;, score=nan total time=   0.0s\n",
      "[CV 5/5] END ..C=10, penalty=l1, solver=newton-cg;, score=nan total time=   0.0s\n",
      "[CV 1/5] END ......C=10, penalty=l1, solver=lbfgs;, score=nan total time=   0.0s\n",
      "[CV 2/5] END ......C=10, penalty=l1, solver=lbfgs;, score=nan total time=   0.0s\n",
      "[CV 3/5] END ......C=10, penalty=l1, solver=lbfgs;, score=nan total time=   0.0s\n",
      "[CV 4/5] END ......C=10, penalty=l1, solver=lbfgs;, score=nan total time=   0.0s\n",
      "[CV 5/5] END ......C=10, penalty=l1, solver=lbfgs;, score=nan total time=   0.0s\n",
      "[CV 1/5] END C=10, penalty=l1, solver=liblinear;, score=0.801 total time=   0.1s\n",
      "[CV 2/5] END C=10, penalty=l1, solver=liblinear;, score=0.808 total time=   0.0s\n",
      "[CV 3/5] END C=10, penalty=l1, solver=liblinear;, score=0.798 total time=   0.1s\n",
      "[CV 4/5] END C=10, penalty=l1, solver=liblinear;, score=0.805 total time=   0.1s\n",
      "[CV 5/5] END C=10, penalty=l1, solver=liblinear;, score=0.798 total time=   0.1s\n",
      "[CV 1/5] END ........C=10, penalty=l1, solver=sag;, score=nan total time=   0.0s\n",
      "[CV 2/5] END ........C=10, penalty=l1, solver=sag;, score=nan total time=   0.0s\n",
      "[CV 3/5] END ........C=10, penalty=l1, solver=sag;, score=nan total time=   0.0s\n",
      "[CV 4/5] END ........C=10, penalty=l1, solver=sag;, score=nan total time=   0.0s\n",
      "[CV 5/5] END ........C=10, penalty=l1, solver=sag;, score=nan total time=   0.0s\n"
     ]
    },
    {
     "name": "stderr",
     "output_type": "stream",
     "text": [
      "/Users/ignatenkodarja/Library/Python/3.7/lib/python/site-packages/sklearn/linear_model/_sag.py:354: ConvergenceWarning: The max_iter was reached which means the coef_ did not converge\n",
      "  ConvergenceWarning,\n"
     ]
    },
    {
     "name": "stdout",
     "output_type": "stream",
     "text": [
      "[CV 1/5] END .....C=10, penalty=l1, solver=saga;, score=0.800 total time=  52.2s\n"
     ]
    },
    {
     "name": "stderr",
     "output_type": "stream",
     "text": [
      "/Users/ignatenkodarja/Library/Python/3.7/lib/python/site-packages/sklearn/linear_model/_sag.py:354: ConvergenceWarning: The max_iter was reached which means the coef_ did not converge\n",
      "  ConvergenceWarning,\n"
     ]
    },
    {
     "name": "stdout",
     "output_type": "stream",
     "text": [
      "[CV 2/5] END .....C=10, penalty=l1, solver=saga;, score=0.788 total time=  52.0s\n"
     ]
    },
    {
     "name": "stderr",
     "output_type": "stream",
     "text": [
      "/Users/ignatenkodarja/Library/Python/3.7/lib/python/site-packages/sklearn/linear_model/_sag.py:354: ConvergenceWarning: The max_iter was reached which means the coef_ did not converge\n",
      "  ConvergenceWarning,\n"
     ]
    },
    {
     "name": "stdout",
     "output_type": "stream",
     "text": [
      "[CV 3/5] END .....C=10, penalty=l1, solver=saga;, score=0.786 total time=  52.1s\n"
     ]
    },
    {
     "name": "stderr",
     "output_type": "stream",
     "text": [
      "/Users/ignatenkodarja/Library/Python/3.7/lib/python/site-packages/sklearn/linear_model/_sag.py:354: ConvergenceWarning: The max_iter was reached which means the coef_ did not converge\n",
      "  ConvergenceWarning,\n"
     ]
    },
    {
     "name": "stdout",
     "output_type": "stream",
     "text": [
      "[CV 4/5] END .....C=10, penalty=l1, solver=saga;, score=0.787 total time=  52.1s\n"
     ]
    },
    {
     "name": "stderr",
     "output_type": "stream",
     "text": [
      "/Users/ignatenkodarja/Library/Python/3.7/lib/python/site-packages/sklearn/linear_model/_sag.py:354: ConvergenceWarning: The max_iter was reached which means the coef_ did not converge\n",
      "  ConvergenceWarning,\n"
     ]
    },
    {
     "name": "stdout",
     "output_type": "stream",
     "text": [
      "[CV 5/5] END .....C=10, penalty=l1, solver=saga;, score=0.809 total time=  51.6s\n",
      "[CV 1/5] END C=10, penalty=l2, solver=newton-cg;, score=0.815 total time=   0.3s\n",
      "[CV 2/5] END C=10, penalty=l2, solver=newton-cg;, score=0.820 total time=   0.3s\n",
      "[CV 3/5] END C=10, penalty=l2, solver=newton-cg;, score=0.817 total time=   0.4s\n",
      "[CV 4/5] END C=10, penalty=l2, solver=newton-cg;, score=0.817 total time=   0.3s\n",
      "[CV 5/5] END C=10, penalty=l2, solver=newton-cg;, score=0.814 total time=   0.3s\n"
     ]
    },
    {
     "name": "stderr",
     "output_type": "stream",
     "text": [
      "/Users/ignatenkodarja/Library/Python/3.7/lib/python/site-packages/sklearn/linear_model/_logistic.py:818: ConvergenceWarning: lbfgs failed to converge (status=1):\n",
      "STOP: TOTAL NO. of ITERATIONS REACHED LIMIT.\n",
      "\n",
      "Increase the number of iterations (max_iter) or scale the data as shown in:\n",
      "    https://scikit-learn.org/stable/modules/preprocessing.html\n",
      "Please also refer to the documentation for alternative solver options:\n",
      "    https://scikit-learn.org/stable/modules/linear_model.html#logistic-regression\n",
      "  extra_warning_msg=_LOGISTIC_SOLVER_CONVERGENCE_MSG,\n",
      "/Users/ignatenkodarja/Library/Python/3.7/lib/python/site-packages/sklearn/linear_model/_logistic.py:818: ConvergenceWarning: lbfgs failed to converge (status=1):\n",
      "STOP: TOTAL NO. of ITERATIONS REACHED LIMIT.\n",
      "\n",
      "Increase the number of iterations (max_iter) or scale the data as shown in:\n",
      "    https://scikit-learn.org/stable/modules/preprocessing.html\n",
      "Please also refer to the documentation for alternative solver options:\n",
      "    https://scikit-learn.org/stable/modules/linear_model.html#logistic-regression\n",
      "  extra_warning_msg=_LOGISTIC_SOLVER_CONVERGENCE_MSG,\n"
     ]
    },
    {
     "name": "stdout",
     "output_type": "stream",
     "text": [
      "[CV 1/5] END ....C=10, penalty=l2, solver=lbfgs;, score=0.815 total time=   0.3s\n",
      "[CV 2/5] END ....C=10, penalty=l2, solver=lbfgs;, score=0.822 total time=   0.2s\n"
     ]
    },
    {
     "name": "stderr",
     "output_type": "stream",
     "text": [
      "/Users/ignatenkodarja/Library/Python/3.7/lib/python/site-packages/sklearn/linear_model/_logistic.py:818: ConvergenceWarning: lbfgs failed to converge (status=1):\n",
      "STOP: TOTAL NO. of ITERATIONS REACHED LIMIT.\n",
      "\n",
      "Increase the number of iterations (max_iter) or scale the data as shown in:\n",
      "    https://scikit-learn.org/stable/modules/preprocessing.html\n",
      "Please also refer to the documentation for alternative solver options:\n",
      "    https://scikit-learn.org/stable/modules/linear_model.html#logistic-regression\n",
      "  extra_warning_msg=_LOGISTIC_SOLVER_CONVERGENCE_MSG,\n",
      "/Users/ignatenkodarja/Library/Python/3.7/lib/python/site-packages/sklearn/linear_model/_logistic.py:818: ConvergenceWarning: lbfgs failed to converge (status=1):\n",
      "STOP: TOTAL NO. of ITERATIONS REACHED LIMIT.\n",
      "\n",
      "Increase the number of iterations (max_iter) or scale the data as shown in:\n",
      "    https://scikit-learn.org/stable/modules/preprocessing.html\n",
      "Please also refer to the documentation for alternative solver options:\n",
      "    https://scikit-learn.org/stable/modules/linear_model.html#logistic-regression\n",
      "  extra_warning_msg=_LOGISTIC_SOLVER_CONVERGENCE_MSG,\n"
     ]
    },
    {
     "name": "stdout",
     "output_type": "stream",
     "text": [
      "[CV 3/5] END ....C=10, penalty=l2, solver=lbfgs;, score=0.817 total time=   0.2s\n",
      "[CV 4/5] END ....C=10, penalty=l2, solver=lbfgs;, score=0.818 total time=   0.2s\n"
     ]
    },
    {
     "name": "stderr",
     "output_type": "stream",
     "text": [
      "/Users/ignatenkodarja/Library/Python/3.7/lib/python/site-packages/sklearn/linear_model/_logistic.py:818: ConvergenceWarning: lbfgs failed to converge (status=1):\n",
      "STOP: TOTAL NO. of ITERATIONS REACHED LIMIT.\n",
      "\n",
      "Increase the number of iterations (max_iter) or scale the data as shown in:\n",
      "    https://scikit-learn.org/stable/modules/preprocessing.html\n",
      "Please also refer to the documentation for alternative solver options:\n",
      "    https://scikit-learn.org/stable/modules/linear_model.html#logistic-regression\n",
      "  extra_warning_msg=_LOGISTIC_SOLVER_CONVERGENCE_MSG,\n"
     ]
    },
    {
     "name": "stdout",
     "output_type": "stream",
     "text": [
      "[CV 5/5] END ....C=10, penalty=l2, solver=lbfgs;, score=0.814 total time=   0.2s\n",
      "[CV 1/5] END C=10, penalty=l2, solver=liblinear;, score=0.815 total time=   0.6s\n",
      "[CV 2/5] END C=10, penalty=l2, solver=liblinear;, score=0.820 total time=   0.5s\n",
      "[CV 3/5] END C=10, penalty=l2, solver=liblinear;, score=0.817 total time=   0.9s\n",
      "[CV 4/5] END C=10, penalty=l2, solver=liblinear;, score=0.817 total time=   0.5s\n",
      "[CV 5/5] END C=10, penalty=l2, solver=liblinear;, score=0.815 total time=   0.4s\n",
      "[CV 1/5] END ......C=10, penalty=l2, solver=sag;, score=0.815 total time=   0.2s\n"
     ]
    },
    {
     "name": "stderr",
     "output_type": "stream",
     "text": [
      "/Users/ignatenkodarja/Library/Python/3.7/lib/python/site-packages/sklearn/linear_model/_sag.py:354: ConvergenceWarning: The max_iter was reached which means the coef_ did not converge\n",
      "  ConvergenceWarning,\n",
      "/Users/ignatenkodarja/Library/Python/3.7/lib/python/site-packages/sklearn/linear_model/_sag.py:354: ConvergenceWarning: The max_iter was reached which means the coef_ did not converge\n",
      "  ConvergenceWarning,\n"
     ]
    },
    {
     "name": "stdout",
     "output_type": "stream",
     "text": [
      "[CV 2/5] END ......C=10, penalty=l2, solver=sag;, score=0.805 total time=   0.2s\n",
      "[CV 3/5] END ......C=10, penalty=l2, solver=sag;, score=0.811 total time=   0.2s\n"
     ]
    },
    {
     "name": "stderr",
     "output_type": "stream",
     "text": [
      "/Users/ignatenkodarja/Library/Python/3.7/lib/python/site-packages/sklearn/linear_model/_sag.py:354: ConvergenceWarning: The max_iter was reached which means the coef_ did not converge\n",
      "  ConvergenceWarning,\n",
      "/Users/ignatenkodarja/Library/Python/3.7/lib/python/site-packages/sklearn/linear_model/_sag.py:354: ConvergenceWarning: The max_iter was reached which means the coef_ did not converge\n",
      "  ConvergenceWarning,\n"
     ]
    },
    {
     "name": "stdout",
     "output_type": "stream",
     "text": [
      "[CV 4/5] END ......C=10, penalty=l2, solver=sag;, score=0.811 total time=   0.2s\n",
      "[CV 5/5] END ......C=10, penalty=l2, solver=sag;, score=0.824 total time=   0.2s\n"
     ]
    },
    {
     "name": "stderr",
     "output_type": "stream",
     "text": [
      "/Users/ignatenkodarja/Library/Python/3.7/lib/python/site-packages/sklearn/linear_model/_sag.py:354: ConvergenceWarning: The max_iter was reached which means the coef_ did not converge\n",
      "  ConvergenceWarning,\n",
      "/Users/ignatenkodarja/Library/Python/3.7/lib/python/site-packages/sklearn/linear_model/_sag.py:354: ConvergenceWarning: The max_iter was reached which means the coef_ did not converge\n",
      "  ConvergenceWarning,\n"
     ]
    },
    {
     "name": "stdout",
     "output_type": "stream",
     "text": [
      "[CV 1/5] END .....C=10, penalty=l2, solver=saga;, score=0.801 total time=   0.2s\n",
      "[CV 2/5] END .....C=10, penalty=l2, solver=saga;, score=0.790 total time=   0.2s\n"
     ]
    },
    {
     "name": "stderr",
     "output_type": "stream",
     "text": [
      "/Users/ignatenkodarja/Library/Python/3.7/lib/python/site-packages/sklearn/linear_model/_sag.py:354: ConvergenceWarning: The max_iter was reached which means the coef_ did not converge\n",
      "  ConvergenceWarning,\n",
      "/Users/ignatenkodarja/Library/Python/3.7/lib/python/site-packages/sklearn/linear_model/_sag.py:354: ConvergenceWarning: The max_iter was reached which means the coef_ did not converge\n",
      "  ConvergenceWarning,\n"
     ]
    },
    {
     "name": "stdout",
     "output_type": "stream",
     "text": [
      "[CV 3/5] END .....C=10, penalty=l2, solver=saga;, score=0.787 total time=   0.2s\n",
      "[CV 4/5] END .....C=10, penalty=l2, solver=saga;, score=0.789 total time=   0.2s\n"
     ]
    },
    {
     "name": "stderr",
     "output_type": "stream",
     "text": [
      "/Users/ignatenkodarja/Library/Python/3.7/lib/python/site-packages/sklearn/linear_model/_sag.py:354: ConvergenceWarning: The max_iter was reached which means the coef_ did not converge\n",
      "  ConvergenceWarning,\n",
      "/Users/ignatenkodarja/Library/Python/3.7/lib/python/site-packages/sklearn/linear_model/_sag.py:354: ConvergenceWarning: The max_iter was reached which means the coef_ did not converge\n",
      "  ConvergenceWarning,\n"
     ]
    },
    {
     "name": "stdout",
     "output_type": "stream",
     "text": [
      "[CV 5/5] END .....C=10, penalty=l2, solver=saga;, score=0.810 total time=   0.2s\n",
      "[CV 1/5] END .C=100, penalty=l1, solver=newton-cg;, score=nan total time=   0.0s\n",
      "[CV 2/5] END .C=100, penalty=l1, solver=newton-cg;, score=nan total time=   0.0s\n",
      "[CV 3/5] END .C=100, penalty=l1, solver=newton-cg;, score=nan total time=   0.0s\n",
      "[CV 4/5] END .C=100, penalty=l1, solver=newton-cg;, score=nan total time=   0.0s\n",
      "[CV 5/5] END .C=100, penalty=l1, solver=newton-cg;, score=nan total time=   0.0s\n",
      "[CV 1/5] END .....C=100, penalty=l1, solver=lbfgs;, score=nan total time=   0.0s\n",
      "[CV 2/5] END .....C=100, penalty=l1, solver=lbfgs;, score=nan total time=   0.0s\n",
      "[CV 3/5] END .....C=100, penalty=l1, solver=lbfgs;, score=nan total time=   0.0s\n",
      "[CV 4/5] END .....C=100, penalty=l1, solver=lbfgs;, score=nan total time=   0.0s\n",
      "[CV 5/5] END .....C=100, penalty=l1, solver=lbfgs;, score=nan total time=   0.0s\n",
      "[CV 1/5] END C=100, penalty=l1, solver=liblinear;, score=0.777 total time=   0.1s\n",
      "[CV 2/5] END C=100, penalty=l1, solver=liblinear;, score=0.785 total time=   0.1s\n",
      "[CV 3/5] END C=100, penalty=l1, solver=liblinear;, score=0.783 total time=   0.1s\n",
      "[CV 4/5] END C=100, penalty=l1, solver=liblinear;, score=0.779 total time=   0.1s\n",
      "[CV 5/5] END C=100, penalty=l1, solver=liblinear;, score=0.768 total time=   0.1s\n",
      "[CV 1/5] END .......C=100, penalty=l1, solver=sag;, score=nan total time=   0.0s\n",
      "[CV 2/5] END .......C=100, penalty=l1, solver=sag;, score=nan total time=   0.0s\n",
      "[CV 3/5] END .......C=100, penalty=l1, solver=sag;, score=nan total time=   0.0s\n",
      "[CV 4/5] END .......C=100, penalty=l1, solver=sag;, score=nan total time=   0.0s\n",
      "[CV 5/5] END .......C=100, penalty=l1, solver=sag;, score=nan total time=   0.0s\n"
     ]
    },
    {
     "name": "stderr",
     "output_type": "stream",
     "text": [
      "/Users/ignatenkodarja/Library/Python/3.7/lib/python/site-packages/sklearn/linear_model/_sag.py:354: ConvergenceWarning: The max_iter was reached which means the coef_ did not converge\n",
      "  ConvergenceWarning,\n"
     ]
    },
    {
     "name": "stdout",
     "output_type": "stream",
     "text": [
      "[CV 1/5] END ....C=100, penalty=l1, solver=saga;, score=0.801 total time=  55.7s\n"
     ]
    },
    {
     "name": "stderr",
     "output_type": "stream",
     "text": [
      "/Users/ignatenkodarja/Library/Python/3.7/lib/python/site-packages/sklearn/linear_model/_sag.py:354: ConvergenceWarning: The max_iter was reached which means the coef_ did not converge\n",
      "  ConvergenceWarning,\n"
     ]
    },
    {
     "name": "stdout",
     "output_type": "stream",
     "text": [
      "[CV 2/5] END ....C=100, penalty=l1, solver=saga;, score=0.789 total time=  55.0s\n"
     ]
    },
    {
     "name": "stderr",
     "output_type": "stream",
     "text": [
      "/Users/ignatenkodarja/Library/Python/3.7/lib/python/site-packages/sklearn/linear_model/_sag.py:354: ConvergenceWarning: The max_iter was reached which means the coef_ did not converge\n",
      "  ConvergenceWarning,\n"
     ]
    },
    {
     "name": "stdout",
     "output_type": "stream",
     "text": [
      "[CV 3/5] END ....C=100, penalty=l1, solver=saga;, score=0.788 total time=  55.1s\n"
     ]
    },
    {
     "name": "stderr",
     "output_type": "stream",
     "text": [
      "/Users/ignatenkodarja/Library/Python/3.7/lib/python/site-packages/sklearn/linear_model/_sag.py:354: ConvergenceWarning: The max_iter was reached which means the coef_ did not converge\n",
      "  ConvergenceWarning,\n"
     ]
    },
    {
     "name": "stdout",
     "output_type": "stream",
     "text": [
      "[CV 4/5] END ....C=100, penalty=l1, solver=saga;, score=0.789 total time=  54.8s\n"
     ]
    },
    {
     "name": "stderr",
     "output_type": "stream",
     "text": [
      "/Users/ignatenkodarja/Library/Python/3.7/lib/python/site-packages/sklearn/linear_model/_sag.py:354: ConvergenceWarning: The max_iter was reached which means the coef_ did not converge\n",
      "  ConvergenceWarning,\n"
     ]
    },
    {
     "name": "stdout",
     "output_type": "stream",
     "text": [
      "[CV 5/5] END ....C=100, penalty=l1, solver=saga;, score=0.810 total time=  54.8s\n",
      "[CV 1/5] END C=100, penalty=l2, solver=newton-cg;, score=0.790 total time=   0.7s\n",
      "[CV 2/5] END C=100, penalty=l2, solver=newton-cg;, score=0.800 total time=   0.8s\n",
      "[CV 3/5] END C=100, penalty=l2, solver=newton-cg;, score=0.800 total time=   0.6s\n",
      "[CV 4/5] END C=100, penalty=l2, solver=newton-cg;, score=0.802 total time=   0.7s\n",
      "[CV 5/5] END C=100, penalty=l2, solver=newton-cg;, score=0.789 total time=   0.7s\n",
      "[CV 1/5] END ...C=100, penalty=l2, solver=lbfgs;, score=0.801 total time=   0.2s\n"
     ]
    },
    {
     "name": "stderr",
     "output_type": "stream",
     "text": [
      "/Users/ignatenkodarja/Library/Python/3.7/lib/python/site-packages/sklearn/linear_model/_logistic.py:818: ConvergenceWarning: lbfgs failed to converge (status=1):\n",
      "STOP: TOTAL NO. of ITERATIONS REACHED LIMIT.\n",
      "\n",
      "Increase the number of iterations (max_iter) or scale the data as shown in:\n",
      "    https://scikit-learn.org/stable/modules/preprocessing.html\n",
      "Please also refer to the documentation for alternative solver options:\n",
      "    https://scikit-learn.org/stable/modules/linear_model.html#logistic-regression\n",
      "  extra_warning_msg=_LOGISTIC_SOLVER_CONVERGENCE_MSG,\n",
      "/Users/ignatenkodarja/Library/Python/3.7/lib/python/site-packages/sklearn/linear_model/_logistic.py:818: ConvergenceWarning: lbfgs failed to converge (status=1):\n",
      "STOP: TOTAL NO. of ITERATIONS REACHED LIMIT.\n",
      "\n",
      "Increase the number of iterations (max_iter) or scale the data as shown in:\n",
      "    https://scikit-learn.org/stable/modules/preprocessing.html\n",
      "Please also refer to the documentation for alternative solver options:\n",
      "    https://scikit-learn.org/stable/modules/linear_model.html#logistic-regression\n",
      "  extra_warning_msg=_LOGISTIC_SOLVER_CONVERGENCE_MSG,\n"
     ]
    },
    {
     "name": "stdout",
     "output_type": "stream",
     "text": [
      "[CV 2/5] END ...C=100, penalty=l2, solver=lbfgs;, score=0.806 total time=   0.2s\n",
      "[CV 3/5] END ...C=100, penalty=l2, solver=lbfgs;, score=0.809 total time=   0.2s\n"
     ]
    },
    {
     "name": "stderr",
     "output_type": "stream",
     "text": [
      "/Users/ignatenkodarja/Library/Python/3.7/lib/python/site-packages/sklearn/linear_model/_logistic.py:818: ConvergenceWarning: lbfgs failed to converge (status=1):\n",
      "STOP: TOTAL NO. of ITERATIONS REACHED LIMIT.\n",
      "\n",
      "Increase the number of iterations (max_iter) or scale the data as shown in:\n",
      "    https://scikit-learn.org/stable/modules/preprocessing.html\n",
      "Please also refer to the documentation for alternative solver options:\n",
      "    https://scikit-learn.org/stable/modules/linear_model.html#logistic-regression\n",
      "  extra_warning_msg=_LOGISTIC_SOLVER_CONVERGENCE_MSG,\n",
      "/Users/ignatenkodarja/Library/Python/3.7/lib/python/site-packages/sklearn/linear_model/_logistic.py:818: ConvergenceWarning: lbfgs failed to converge (status=1):\n",
      "STOP: TOTAL NO. of ITERATIONS REACHED LIMIT.\n",
      "\n",
      "Increase the number of iterations (max_iter) or scale the data as shown in:\n",
      "    https://scikit-learn.org/stable/modules/preprocessing.html\n",
      "Please also refer to the documentation for alternative solver options:\n",
      "    https://scikit-learn.org/stable/modules/linear_model.html#logistic-regression\n",
      "  extra_warning_msg=_LOGISTIC_SOLVER_CONVERGENCE_MSG,\n"
     ]
    },
    {
     "name": "stdout",
     "output_type": "stream",
     "text": [
      "[CV 4/5] END ...C=100, penalty=l2, solver=lbfgs;, score=0.806 total time=   0.2s\n",
      "[CV 5/5] END ...C=100, penalty=l2, solver=lbfgs;, score=0.801 total time=   0.2s\n"
     ]
    },
    {
     "name": "stderr",
     "output_type": "stream",
     "text": [
      "/Users/ignatenkodarja/Library/Python/3.7/lib/python/site-packages/sklearn/linear_model/_logistic.py:818: ConvergenceWarning: lbfgs failed to converge (status=1):\n",
      "STOP: TOTAL NO. of ITERATIONS REACHED LIMIT.\n",
      "\n",
      "Increase the number of iterations (max_iter) or scale the data as shown in:\n",
      "    https://scikit-learn.org/stable/modules/preprocessing.html\n",
      "Please also refer to the documentation for alternative solver options:\n",
      "    https://scikit-learn.org/stable/modules/linear_model.html#logistic-regression\n",
      "  extra_warning_msg=_LOGISTIC_SOLVER_CONVERGENCE_MSG,\n",
      "/Users/ignatenkodarja/Library/Python/3.7/lib/python/site-packages/sklearn/svm/_base.py:1208: ConvergenceWarning: Liblinear failed to converge, increase the number of iterations.\n",
      "  ConvergenceWarning,\n"
     ]
    },
    {
     "name": "stdout",
     "output_type": "stream",
     "text": [
      "[CV 1/5] END C=100, penalty=l2, solver=liblinear;, score=0.813 total time=   0.8s\n"
     ]
    },
    {
     "name": "stderr",
     "output_type": "stream",
     "text": [
      "/Users/ignatenkodarja/Library/Python/3.7/lib/python/site-packages/sklearn/svm/_base.py:1208: ConvergenceWarning: Liblinear failed to converge, increase the number of iterations.\n",
      "  ConvergenceWarning,\n"
     ]
    },
    {
     "name": "stdout",
     "output_type": "stream",
     "text": [
      "[CV 2/5] END C=100, penalty=l2, solver=liblinear;, score=0.809 total time=   1.0s\n"
     ]
    },
    {
     "name": "stderr",
     "output_type": "stream",
     "text": [
      "/Users/ignatenkodarja/Library/Python/3.7/lib/python/site-packages/sklearn/svm/_base.py:1208: ConvergenceWarning: Liblinear failed to converge, increase the number of iterations.\n",
      "  ConvergenceWarning,\n"
     ]
    },
    {
     "name": "stdout",
     "output_type": "stream",
     "text": [
      "[CV 3/5] END C=100, penalty=l2, solver=liblinear;, score=0.812 total time=   0.8s\n"
     ]
    },
    {
     "name": "stderr",
     "output_type": "stream",
     "text": [
      "/Users/ignatenkodarja/Library/Python/3.7/lib/python/site-packages/sklearn/svm/_base.py:1208: ConvergenceWarning: Liblinear failed to converge, increase the number of iterations.\n",
      "  ConvergenceWarning,\n"
     ]
    },
    {
     "name": "stdout",
     "output_type": "stream",
     "text": [
      "[CV 4/5] END C=100, penalty=l2, solver=liblinear;, score=0.810 total time=   0.8s\n"
     ]
    },
    {
     "name": "stderr",
     "output_type": "stream",
     "text": [
      "/Users/ignatenkodarja/Library/Python/3.7/lib/python/site-packages/sklearn/svm/_base.py:1208: ConvergenceWarning: Liblinear failed to converge, increase the number of iterations.\n",
      "  ConvergenceWarning,\n",
      "/Users/ignatenkodarja/Library/Python/3.7/lib/python/site-packages/sklearn/linear_model/_sag.py:354: ConvergenceWarning: The max_iter was reached which means the coef_ did not converge\n",
      "  ConvergenceWarning,\n"
     ]
    },
    {
     "name": "stdout",
     "output_type": "stream",
     "text": [
      "[CV 5/5] END C=100, penalty=l2, solver=liblinear;, score=0.813 total time=   0.8s\n",
      "[CV 1/5] END .....C=100, penalty=l2, solver=sag;, score=0.815 total time=   0.2s\n"
     ]
    },
    {
     "name": "stderr",
     "output_type": "stream",
     "text": [
      "/Users/ignatenkodarja/Library/Python/3.7/lib/python/site-packages/sklearn/linear_model/_sag.py:354: ConvergenceWarning: The max_iter was reached which means the coef_ did not converge\n",
      "  ConvergenceWarning,\n",
      "/Users/ignatenkodarja/Library/Python/3.7/lib/python/site-packages/sklearn/linear_model/_sag.py:354: ConvergenceWarning: The max_iter was reached which means the coef_ did not converge\n",
      "  ConvergenceWarning,\n"
     ]
    },
    {
     "name": "stdout",
     "output_type": "stream",
     "text": [
      "[CV 2/5] END .....C=100, penalty=l2, solver=sag;, score=0.805 total time=   0.2s\n",
      "[CV 3/5] END .....C=100, penalty=l2, solver=sag;, score=0.812 total time=   0.2s\n"
     ]
    },
    {
     "name": "stderr",
     "output_type": "stream",
     "text": [
      "/Users/ignatenkodarja/Library/Python/3.7/lib/python/site-packages/sklearn/linear_model/_sag.py:354: ConvergenceWarning: The max_iter was reached which means the coef_ did not converge\n",
      "  ConvergenceWarning,\n",
      "/Users/ignatenkodarja/Library/Python/3.7/lib/python/site-packages/sklearn/linear_model/_sag.py:354: ConvergenceWarning: The max_iter was reached which means the coef_ did not converge\n",
      "  ConvergenceWarning,\n"
     ]
    },
    {
     "name": "stdout",
     "output_type": "stream",
     "text": [
      "[CV 4/5] END .....C=100, penalty=l2, solver=sag;, score=0.811 total time=   0.2s\n",
      "[CV 5/5] END .....C=100, penalty=l2, solver=sag;, score=0.824 total time=   0.2s\n"
     ]
    },
    {
     "name": "stderr",
     "output_type": "stream",
     "text": [
      "/Users/ignatenkodarja/Library/Python/3.7/lib/python/site-packages/sklearn/linear_model/_sag.py:354: ConvergenceWarning: The max_iter was reached which means the coef_ did not converge\n",
      "  ConvergenceWarning,\n",
      "/Users/ignatenkodarja/Library/Python/3.7/lib/python/site-packages/sklearn/linear_model/_sag.py:354: ConvergenceWarning: The max_iter was reached which means the coef_ did not converge\n",
      "  ConvergenceWarning,\n"
     ]
    },
    {
     "name": "stdout",
     "output_type": "stream",
     "text": [
      "[CV 1/5] END ....C=100, penalty=l2, solver=saga;, score=0.801 total time=   0.2s\n",
      "[CV 2/5] END ....C=100, penalty=l2, solver=saga;, score=0.790 total time=   0.2s\n"
     ]
    },
    {
     "name": "stderr",
     "output_type": "stream",
     "text": [
      "/Users/ignatenkodarja/Library/Python/3.7/lib/python/site-packages/sklearn/linear_model/_sag.py:354: ConvergenceWarning: The max_iter was reached which means the coef_ did not converge\n",
      "  ConvergenceWarning,\n",
      "/Users/ignatenkodarja/Library/Python/3.7/lib/python/site-packages/sklearn/linear_model/_sag.py:354: ConvergenceWarning: The max_iter was reached which means the coef_ did not converge\n",
      "  ConvergenceWarning,\n"
     ]
    },
    {
     "name": "stdout",
     "output_type": "stream",
     "text": [
      "[CV 3/5] END ....C=100, penalty=l2, solver=saga;, score=0.788 total time=   0.2s\n",
      "[CV 4/5] END ....C=100, penalty=l2, solver=saga;, score=0.789 total time=   0.2s\n"
     ]
    },
    {
     "name": "stderr",
     "output_type": "stream",
     "text": [
      "/Users/ignatenkodarja/Library/Python/3.7/lib/python/site-packages/sklearn/linear_model/_sag.py:354: ConvergenceWarning: The max_iter was reached which means the coef_ did not converge\n",
      "  ConvergenceWarning,\n"
     ]
    },
    {
     "name": "stdout",
     "output_type": "stream",
     "text": [
      "[CV 5/5] END ....C=100, penalty=l2, solver=saga;, score=0.810 total time=   0.2s\n",
      "[CV 1/5] END C=1000, penalty=l1, solver=newton-cg;, score=nan total time=   0.0s\n",
      "[CV 2/5] END C=1000, penalty=l1, solver=newton-cg;, score=nan total time=   0.0s\n",
      "[CV 3/5] END C=1000, penalty=l1, solver=newton-cg;, score=nan total time=   0.0s\n",
      "[CV 4/5] END C=1000, penalty=l1, solver=newton-cg;, score=nan total time=   0.0s\n",
      "[CV 5/5] END C=1000, penalty=l1, solver=newton-cg;, score=nan total time=   0.0s\n",
      "[CV 1/5] END ....C=1000, penalty=l1, solver=lbfgs;, score=nan total time=   0.0s\n",
      "[CV 2/5] END ....C=1000, penalty=l1, solver=lbfgs;, score=nan total time=   0.0s\n",
      "[CV 3/5] END ....C=1000, penalty=l1, solver=lbfgs;, score=nan total time=   0.0s\n",
      "[CV 4/5] END ....C=1000, penalty=l1, solver=lbfgs;, score=nan total time=   0.0s\n",
      "[CV 5/5] END ....C=1000, penalty=l1, solver=lbfgs;, score=nan total time=   0.0s\n",
      "[CV 1/5] END C=1000, penalty=l1, solver=liblinear;, score=0.769 total time=   0.7s\n"
     ]
    },
    {
     "name": "stderr",
     "output_type": "stream",
     "text": [
      "/Users/ignatenkodarja/Library/Python/3.7/lib/python/site-packages/sklearn/svm/_base.py:1208: ConvergenceWarning: Liblinear failed to converge, increase the number of iterations.\n",
      "  ConvergenceWarning,\n"
     ]
    },
    {
     "name": "stdout",
     "output_type": "stream",
     "text": [
      "[CV 2/5] END C=1000, penalty=l1, solver=liblinear;, score=0.777 total time=  25.9s\n"
     ]
    },
    {
     "name": "stderr",
     "output_type": "stream",
     "text": [
      "/Users/ignatenkodarja/Library/Python/3.7/lib/python/site-packages/sklearn/svm/_base.py:1208: ConvergenceWarning: Liblinear failed to converge, increase the number of iterations.\n",
      "  ConvergenceWarning,\n"
     ]
    },
    {
     "name": "stdout",
     "output_type": "stream",
     "text": [
      "[CV 3/5] END C=1000, penalty=l1, solver=liblinear;, score=0.781 total time=  29.6s\n",
      "[CV 4/5] END C=1000, penalty=l1, solver=liblinear;, score=0.778 total time=   0.2s\n"
     ]
    },
    {
     "name": "stderr",
     "output_type": "stream",
     "text": [
      "/Users/ignatenkodarja/Library/Python/3.7/lib/python/site-packages/sklearn/svm/_base.py:1208: ConvergenceWarning: Liblinear failed to converge, increase the number of iterations.\n",
      "  ConvergenceWarning,\n"
     ]
    },
    {
     "name": "stdout",
     "output_type": "stream",
     "text": [
      "[CV 5/5] END C=1000, penalty=l1, solver=liblinear;, score=0.765 total time=  27.0s\n",
      "[CV 1/5] END ......C=1000, penalty=l1, solver=sag;, score=nan total time=   0.0s\n",
      "[CV 2/5] END ......C=1000, penalty=l1, solver=sag;, score=nan total time=   0.0s\n",
      "[CV 3/5] END ......C=1000, penalty=l1, solver=sag;, score=nan total time=   0.0s\n",
      "[CV 4/5] END ......C=1000, penalty=l1, solver=sag;, score=nan total time=   0.0s\n",
      "[CV 5/5] END ......C=1000, penalty=l1, solver=sag;, score=nan total time=   0.0s\n"
     ]
    },
    {
     "name": "stderr",
     "output_type": "stream",
     "text": [
      "/Users/ignatenkodarja/Library/Python/3.7/lib/python/site-packages/sklearn/linear_model/_sag.py:354: ConvergenceWarning: The max_iter was reached which means the coef_ did not converge\n",
      "  ConvergenceWarning,\n"
     ]
    },
    {
     "name": "stdout",
     "output_type": "stream",
     "text": [
      "[CV 1/5] END ...C=1000, penalty=l1, solver=saga;, score=0.801 total time=  55.2s\n"
     ]
    },
    {
     "name": "stderr",
     "output_type": "stream",
     "text": [
      "/Users/ignatenkodarja/Library/Python/3.7/lib/python/site-packages/sklearn/linear_model/_sag.py:354: ConvergenceWarning: The max_iter was reached which means the coef_ did not converge\n",
      "  ConvergenceWarning,\n"
     ]
    },
    {
     "name": "stdout",
     "output_type": "stream",
     "text": [
      "[CV 2/5] END ...C=1000, penalty=l1, solver=saga;, score=0.790 total time=  55.0s\n"
     ]
    },
    {
     "name": "stderr",
     "output_type": "stream",
     "text": [
      "/Users/ignatenkodarja/Library/Python/3.7/lib/python/site-packages/sklearn/linear_model/_sag.py:354: ConvergenceWarning: The max_iter was reached which means the coef_ did not converge\n",
      "  ConvergenceWarning,\n"
     ]
    },
    {
     "name": "stdout",
     "output_type": "stream",
     "text": [
      "[CV 3/5] END ...C=1000, penalty=l1, solver=saga;, score=0.788 total time=  55.0s\n"
     ]
    },
    {
     "name": "stderr",
     "output_type": "stream",
     "text": [
      "/Users/ignatenkodarja/Library/Python/3.7/lib/python/site-packages/sklearn/linear_model/_sag.py:354: ConvergenceWarning: The max_iter was reached which means the coef_ did not converge\n",
      "  ConvergenceWarning,\n"
     ]
    },
    {
     "name": "stdout",
     "output_type": "stream",
     "text": [
      "[CV 4/5] END ...C=1000, penalty=l1, solver=saga;, score=0.789 total time=  55.1s\n"
     ]
    },
    {
     "name": "stderr",
     "output_type": "stream",
     "text": [
      "/Users/ignatenkodarja/Library/Python/3.7/lib/python/site-packages/sklearn/linear_model/_sag.py:354: ConvergenceWarning: The max_iter was reached which means the coef_ did not converge\n",
      "  ConvergenceWarning,\n"
     ]
    },
    {
     "name": "stdout",
     "output_type": "stream",
     "text": [
      "[CV 5/5] END ...C=1000, penalty=l1, solver=saga;, score=0.810 total time=  55.0s\n",
      "[CV 1/5] END C=1000, penalty=l2, solver=newton-cg;, score=0.783 total time=   1.0s\n",
      "[CV 2/5] END C=1000, penalty=l2, solver=newton-cg;, score=0.785 total time=   0.9s\n",
      "[CV 3/5] END C=1000, penalty=l2, solver=newton-cg;, score=0.786 total time=   0.9s\n",
      "[CV 4/5] END C=1000, penalty=l2, solver=newton-cg;, score=0.798 total time=   1.3s\n",
      "[CV 5/5] END C=1000, penalty=l2, solver=newton-cg;, score=0.778 total time=   1.1s\n",
      "[CV 1/5] END ..C=1000, penalty=l2, solver=lbfgs;, score=0.801 total time=   0.2s\n"
     ]
    },
    {
     "name": "stderr",
     "output_type": "stream",
     "text": [
      "/Users/ignatenkodarja/Library/Python/3.7/lib/python/site-packages/sklearn/linear_model/_logistic.py:818: ConvergenceWarning: lbfgs failed to converge (status=1):\n",
      "STOP: TOTAL NO. of ITERATIONS REACHED LIMIT.\n",
      "\n",
      "Increase the number of iterations (max_iter) or scale the data as shown in:\n",
      "    https://scikit-learn.org/stable/modules/preprocessing.html\n",
      "Please also refer to the documentation for alternative solver options:\n",
      "    https://scikit-learn.org/stable/modules/linear_model.html#logistic-regression\n",
      "  extra_warning_msg=_LOGISTIC_SOLVER_CONVERGENCE_MSG,\n",
      "/Users/ignatenkodarja/Library/Python/3.7/lib/python/site-packages/sklearn/linear_model/_logistic.py:818: ConvergenceWarning: lbfgs failed to converge (status=1):\n",
      "STOP: TOTAL NO. of ITERATIONS REACHED LIMIT.\n",
      "\n",
      "Increase the number of iterations (max_iter) or scale the data as shown in:\n",
      "    https://scikit-learn.org/stable/modules/preprocessing.html\n",
      "Please also refer to the documentation for alternative solver options:\n",
      "    https://scikit-learn.org/stable/modules/linear_model.html#logistic-regression\n",
      "  extra_warning_msg=_LOGISTIC_SOLVER_CONVERGENCE_MSG,\n"
     ]
    },
    {
     "name": "stdout",
     "output_type": "stream",
     "text": [
      "[CV 2/5] END ..C=1000, penalty=l2, solver=lbfgs;, score=0.806 total time=   0.2s\n",
      "[CV 3/5] END ..C=1000, penalty=l2, solver=lbfgs;, score=0.807 total time=   0.2s\n"
     ]
    },
    {
     "name": "stderr",
     "output_type": "stream",
     "text": [
      "/Users/ignatenkodarja/Library/Python/3.7/lib/python/site-packages/sklearn/linear_model/_logistic.py:818: ConvergenceWarning: lbfgs failed to converge (status=1):\n",
      "STOP: TOTAL NO. of ITERATIONS REACHED LIMIT.\n",
      "\n",
      "Increase the number of iterations (max_iter) or scale the data as shown in:\n",
      "    https://scikit-learn.org/stable/modules/preprocessing.html\n",
      "Please also refer to the documentation for alternative solver options:\n",
      "    https://scikit-learn.org/stable/modules/linear_model.html#logistic-regression\n",
      "  extra_warning_msg=_LOGISTIC_SOLVER_CONVERGENCE_MSG,\n",
      "/Users/ignatenkodarja/Library/Python/3.7/lib/python/site-packages/sklearn/linear_model/_logistic.py:818: ConvergenceWarning: lbfgs failed to converge (status=1):\n",
      "STOP: TOTAL NO. of ITERATIONS REACHED LIMIT.\n",
      "\n",
      "Increase the number of iterations (max_iter) or scale the data as shown in:\n",
      "    https://scikit-learn.org/stable/modules/preprocessing.html\n",
      "Please also refer to the documentation for alternative solver options:\n",
      "    https://scikit-learn.org/stable/modules/linear_model.html#logistic-regression\n",
      "  extra_warning_msg=_LOGISTIC_SOLVER_CONVERGENCE_MSG,\n"
     ]
    },
    {
     "name": "stdout",
     "output_type": "stream",
     "text": [
      "[CV 4/5] END ..C=1000, penalty=l2, solver=lbfgs;, score=0.812 total time=   0.2s\n",
      "[CV 5/5] END ..C=1000, penalty=l2, solver=lbfgs;, score=0.807 total time=   0.2s\n"
     ]
    },
    {
     "name": "stderr",
     "output_type": "stream",
     "text": [
      "/Users/ignatenkodarja/Library/Python/3.7/lib/python/site-packages/sklearn/linear_model/_logistic.py:818: ConvergenceWarning: lbfgs failed to converge (status=1):\n",
      "STOP: TOTAL NO. of ITERATIONS REACHED LIMIT.\n",
      "\n",
      "Increase the number of iterations (max_iter) or scale the data as shown in:\n",
      "    https://scikit-learn.org/stable/modules/preprocessing.html\n",
      "Please also refer to the documentation for alternative solver options:\n",
      "    https://scikit-learn.org/stable/modules/linear_model.html#logistic-regression\n",
      "  extra_warning_msg=_LOGISTIC_SOLVER_CONVERGENCE_MSG,\n",
      "/Users/ignatenkodarja/Library/Python/3.7/lib/python/site-packages/sklearn/svm/_base.py:1208: ConvergenceWarning: Liblinear failed to converge, increase the number of iterations.\n",
      "  ConvergenceWarning,\n"
     ]
    },
    {
     "name": "stdout",
     "output_type": "stream",
     "text": [
      "[CV 1/5] END C=1000, penalty=l2, solver=liblinear;, score=0.813 total time=   0.8s\n"
     ]
    },
    {
     "name": "stderr",
     "output_type": "stream",
     "text": [
      "/Users/ignatenkodarja/Library/Python/3.7/lib/python/site-packages/sklearn/svm/_base.py:1208: ConvergenceWarning: Liblinear failed to converge, increase the number of iterations.\n",
      "  ConvergenceWarning,\n"
     ]
    },
    {
     "name": "stdout",
     "output_type": "stream",
     "text": [
      "[CV 2/5] END C=1000, penalty=l2, solver=liblinear;, score=0.815 total time=   0.8s\n"
     ]
    },
    {
     "name": "stderr",
     "output_type": "stream",
     "text": [
      "/Users/ignatenkodarja/Library/Python/3.7/lib/python/site-packages/sklearn/svm/_base.py:1208: ConvergenceWarning: Liblinear failed to converge, increase the number of iterations.\n",
      "  ConvergenceWarning,\n"
     ]
    },
    {
     "name": "stdout",
     "output_type": "stream",
     "text": [
      "[CV 3/5] END C=1000, penalty=l2, solver=liblinear;, score=0.813 total time=   0.8s\n"
     ]
    },
    {
     "name": "stderr",
     "output_type": "stream",
     "text": [
      "/Users/ignatenkodarja/Library/Python/3.7/lib/python/site-packages/sklearn/svm/_base.py:1208: ConvergenceWarning: Liblinear failed to converge, increase the number of iterations.\n",
      "  ConvergenceWarning,\n"
     ]
    },
    {
     "name": "stdout",
     "output_type": "stream",
     "text": [
      "[CV 4/5] END C=1000, penalty=l2, solver=liblinear;, score=0.809 total time=   0.9s\n"
     ]
    },
    {
     "name": "stderr",
     "output_type": "stream",
     "text": [
      "/Users/ignatenkodarja/Library/Python/3.7/lib/python/site-packages/sklearn/svm/_base.py:1208: ConvergenceWarning: Liblinear failed to converge, increase the number of iterations.\n",
      "  ConvergenceWarning,\n",
      "/Users/ignatenkodarja/Library/Python/3.7/lib/python/site-packages/sklearn/linear_model/_sag.py:354: ConvergenceWarning: The max_iter was reached which means the coef_ did not converge\n",
      "  ConvergenceWarning,\n"
     ]
    },
    {
     "name": "stdout",
     "output_type": "stream",
     "text": [
      "[CV 5/5] END C=1000, penalty=l2, solver=liblinear;, score=0.813 total time=   0.8s\n",
      "[CV 1/5] END ....C=1000, penalty=l2, solver=sag;, score=0.815 total time=   0.2s\n"
     ]
    },
    {
     "name": "stderr",
     "output_type": "stream",
     "text": [
      "/Users/ignatenkodarja/Library/Python/3.7/lib/python/site-packages/sklearn/linear_model/_sag.py:354: ConvergenceWarning: The max_iter was reached which means the coef_ did not converge\n",
      "  ConvergenceWarning,\n",
      "/Users/ignatenkodarja/Library/Python/3.7/lib/python/site-packages/sklearn/linear_model/_sag.py:354: ConvergenceWarning: The max_iter was reached which means the coef_ did not converge\n",
      "  ConvergenceWarning,\n"
     ]
    },
    {
     "name": "stdout",
     "output_type": "stream",
     "text": [
      "[CV 2/5] END ....C=1000, penalty=l2, solver=sag;, score=0.805 total time=   0.2s\n",
      "[CV 3/5] END ....C=1000, penalty=l2, solver=sag;, score=0.811 total time=   0.2s\n"
     ]
    },
    {
     "name": "stderr",
     "output_type": "stream",
     "text": [
      "/Users/ignatenkodarja/Library/Python/3.7/lib/python/site-packages/sklearn/linear_model/_sag.py:354: ConvergenceWarning: The max_iter was reached which means the coef_ did not converge\n",
      "  ConvergenceWarning,\n",
      "/Users/ignatenkodarja/Library/Python/3.7/lib/python/site-packages/sklearn/linear_model/_sag.py:354: ConvergenceWarning: The max_iter was reached which means the coef_ did not converge\n",
      "  ConvergenceWarning,\n"
     ]
    },
    {
     "name": "stdout",
     "output_type": "stream",
     "text": [
      "[CV 4/5] END ....C=1000, penalty=l2, solver=sag;, score=0.810 total time=   0.2s\n",
      "[CV 5/5] END ....C=1000, penalty=l2, solver=sag;, score=0.824 total time=   0.2s\n"
     ]
    },
    {
     "name": "stderr",
     "output_type": "stream",
     "text": [
      "/Users/ignatenkodarja/Library/Python/3.7/lib/python/site-packages/sklearn/linear_model/_sag.py:354: ConvergenceWarning: The max_iter was reached which means the coef_ did not converge\n",
      "  ConvergenceWarning,\n",
      "/Users/ignatenkodarja/Library/Python/3.7/lib/python/site-packages/sklearn/linear_model/_sag.py:354: ConvergenceWarning: The max_iter was reached which means the coef_ did not converge\n",
      "  ConvergenceWarning,\n"
     ]
    },
    {
     "name": "stdout",
     "output_type": "stream",
     "text": [
      "[CV 1/5] END ...C=1000, penalty=l2, solver=saga;, score=0.801 total time=   0.2s\n",
      "[CV 2/5] END ...C=1000, penalty=l2, solver=saga;, score=0.791 total time=   0.2s\n"
     ]
    },
    {
     "name": "stderr",
     "output_type": "stream",
     "text": [
      "/Users/ignatenkodarja/Library/Python/3.7/lib/python/site-packages/sklearn/linear_model/_sag.py:354: ConvergenceWarning: The max_iter was reached which means the coef_ did not converge\n",
      "  ConvergenceWarning,\n",
      "/Users/ignatenkodarja/Library/Python/3.7/lib/python/site-packages/sklearn/linear_model/_sag.py:354: ConvergenceWarning: The max_iter was reached which means the coef_ did not converge\n",
      "  ConvergenceWarning,\n"
     ]
    },
    {
     "name": "stdout",
     "output_type": "stream",
     "text": [
      "[CV 3/5] END ...C=1000, penalty=l2, solver=saga;, score=0.789 total time=   0.2s\n",
      "[CV 4/5] END ...C=1000, penalty=l2, solver=saga;, score=0.790 total time=   0.2s\n",
      "[CV 5/5] END ...C=1000, penalty=l2, solver=saga;, score=0.811 total time=   0.2s\n",
      "Mean Accuracy: 0.829\n",
      "Config: {'C': 1, 'penalty': 'l2', 'solver': 'lbfgs'}\n"
     ]
    },
    {
     "name": "stderr",
     "output_type": "stream",
     "text": [
      "/Users/ignatenkodarja/Library/Python/3.7/lib/python/site-packages/sklearn/linear_model/_sag.py:354: ConvergenceWarning: The max_iter was reached which means the coef_ did not converge\n",
      "  ConvergenceWarning,\n",
      "/Users/ignatenkodarja/Library/Python/3.7/lib/python/site-packages/sklearn/model_selection/_validation.py:372: FitFailedWarning: \n",
      "105 fits failed out of a total of 350.\n",
      "The score on these train-test partitions for these parameters will be set to nan.\n",
      "If these failures are not expected, you can try to debug them by setting error_score='raise'.\n",
      "\n",
      "Below are more details about the failures:\n",
      "--------------------------------------------------------------------------------\n",
      "35 fits failed with the following error:\n",
      "Traceback (most recent call last):\n",
      "  File \"/Users/ignatenkodarja/Library/Python/3.7/lib/python/site-packages/sklearn/model_selection/_validation.py\", line 680, in _fit_and_score\n",
      "    estimator.fit(X_train, y_train, **fit_params)\n",
      "  File \"/Users/ignatenkodarja/Library/Python/3.7/lib/python/site-packages/sklearn/linear_model/_logistic.py\", line 1461, in fit\n",
      "    solver = _check_solver(self.solver, self.penalty, self.dual)\n",
      "  File \"/Users/ignatenkodarja/Library/Python/3.7/lib/python/site-packages/sklearn/linear_model/_logistic.py\", line 449, in _check_solver\n",
      "    % (solver, penalty)\n",
      "ValueError: Solver newton-cg supports only 'l2' or 'none' penalties, got l1 penalty.\n",
      "\n",
      "--------------------------------------------------------------------------------\n",
      "35 fits failed with the following error:\n",
      "Traceback (most recent call last):\n",
      "  File \"/Users/ignatenkodarja/Library/Python/3.7/lib/python/site-packages/sklearn/model_selection/_validation.py\", line 680, in _fit_and_score\n",
      "    estimator.fit(X_train, y_train, **fit_params)\n",
      "  File \"/Users/ignatenkodarja/Library/Python/3.7/lib/python/site-packages/sklearn/linear_model/_logistic.py\", line 1461, in fit\n",
      "    solver = _check_solver(self.solver, self.penalty, self.dual)\n",
      "  File \"/Users/ignatenkodarja/Library/Python/3.7/lib/python/site-packages/sklearn/linear_model/_logistic.py\", line 449, in _check_solver\n",
      "    % (solver, penalty)\n",
      "ValueError: Solver lbfgs supports only 'l2' or 'none' penalties, got l1 penalty.\n",
      "\n",
      "--------------------------------------------------------------------------------\n",
      "35 fits failed with the following error:\n",
      "Traceback (most recent call last):\n",
      "  File \"/Users/ignatenkodarja/Library/Python/3.7/lib/python/site-packages/sklearn/model_selection/_validation.py\", line 680, in _fit_and_score\n",
      "    estimator.fit(X_train, y_train, **fit_params)\n",
      "  File \"/Users/ignatenkodarja/Library/Python/3.7/lib/python/site-packages/sklearn/linear_model/_logistic.py\", line 1461, in fit\n",
      "    solver = _check_solver(self.solver, self.penalty, self.dual)\n",
      "  File \"/Users/ignatenkodarja/Library/Python/3.7/lib/python/site-packages/sklearn/linear_model/_logistic.py\", line 449, in _check_solver\n",
      "    % (solver, penalty)\n",
      "ValueError: Solver sag supports only 'l2' or 'none' penalties, got l1 penalty.\n",
      "\n",
      "  warnings.warn(some_fits_failed_message, FitFailedWarning)\n",
      "/Users/ignatenkodarja/Library/Python/3.7/lib/python/site-packages/sklearn/model_selection/_search.py:972: UserWarning: One or more of the test scores are non-finite: [       nan        nan 0.66437934        nan 0.66437934 0.66437934\n",
      " 0.66437934 0.66437934 0.66437934 0.66437934        nan        nan\n",
      " 0.66437934        nan 0.66437934 0.68766384 0.68766384 0.68920586\n",
      " 0.69360062 0.70292984        nan        nan 0.73006939        nan\n",
      " 0.7227448  0.79390902 0.79390902 0.79421742 0.79121049 0.78188126\n",
      "        nan        nan 0.81249036        nan 0.78149576 0.82914418\n",
      " 0.82922128 0.82922128 0.81094834 0.79398612        nan        nan\n",
      " 0.80185042        nan 0.79398612 0.81657672 0.81719352 0.81673092\n",
      " 0.81333847 0.79537394        nan        nan 0.77833462        nan\n",
      " 0.79537394 0.79614495 0.80470316 0.81125675 0.81349268 0.79552814\n",
      "        nan        nan 0.77393986        nan 0.79552814 0.78604472\n",
      " 0.80663069 0.81279877 0.81287587 0.79629915]\n",
      "  category=UserWarning,\n"
     ]
    }
   ],
   "source": [
    "#попытка подобрать параметры\n",
    "LR = LogisticRegression()\n",
    "LRparam_grid = {\n",
    "    'C': [0.001, 0.01, 0.1, 1, 10, 100, 1000],\n",
    "    'penalty': ['l1', 'l2'],\n",
    "    # 'max_iter': list(range(100,800,100)),\n",
    "    'solver': ['newton-cg', 'lbfgs', 'liblinear', 'sag', 'saga']\n",
    "}\n",
    "LR_search = GridSearchCV(LR, param_grid=LRparam_grid, refit = True, verbose = 3, cv=5)\n",
    "\n",
    "# fitting the model for grid search \n",
    "LR_search.fit(X_c, y)\n",
    "LR_search.best_params_\n",
    "# summarize\n",
    "print('Mean Accuracy: %.3f' % LR_search.best_score_)\n",
    "print('Config: %s' % LR_search.best_params_)"
   ]
  },
  {
   "cell_type": "code",
   "execution_count": 447,
   "id": "c6d5d7be",
   "metadata": {},
   "outputs": [],
   "source": [
    "#Config: {'C': 1, 'penalty': 'l2', 'solver': 'lbfgs'}\n",
    "clf_logit = LogisticRegression(C=1, penalty='l2', max_iter=1000, solver='lbfgs', class_weight='balanced')\n",
    "clf_logit.fit(X_c, y)\n",
    "preds = clf_logit.predict(X_c_test)"
   ]
  },
  {
   "cell_type": "code",
   "execution_count": 448,
   "id": "532eee76",
   "metadata": {},
   "outputs": [
    {
     "name": "stdout",
     "output_type": "stream",
     "text": [
      "              precision    recall  f1-score   support\n",
      "\n",
      "         0.0       0.90      0.81      0.85       953\n",
      "         1.0       0.69      0.82      0.75       489\n",
      "\n",
      "    accuracy                           0.81      1442\n",
      "   macro avg       0.79      0.81      0.80      1442\n",
      "weighted avg       0.82      0.81      0.81      1442\n",
      "\n"
     ]
    }
   ],
   "source": [
    "print(classification_report(y_test, preds, zero_division=0))"
   ]
  },
  {
   "cell_type": "code",
   "execution_count": 449,
   "id": "90f5d92a",
   "metadata": {},
   "outputs": [
    {
     "data": {
      "text/html": [
       "<div>\n",
       "<style scoped>\n",
       "    .dataframe tbody tr th:only-of-type {\n",
       "        vertical-align: middle;\n",
       "    }\n",
       "\n",
       "    .dataframe tbody tr th {\n",
       "        vertical-align: top;\n",
       "    }\n",
       "\n",
       "    .dataframe thead th {\n",
       "        text-align: right;\n",
       "    }\n",
       "</style>\n",
       "<table border=\"1\" class=\"dataframe\">\n",
       "  <thead>\n",
       "    <tr style=\"text-align: right;\">\n",
       "      <th></th>\n",
       "      <th>proba_logit_0</th>\n",
       "      <th>proba_logit_1</th>\n",
       "      <th>comment</th>\n",
       "      <th>toxic</th>\n",
       "    </tr>\n",
       "  </thead>\n",
       "  <tbody>\n",
       "    <tr>\n",
       "      <th>1021</th>\n",
       "      <td>2.104486e-07</td>\n",
       "      <td>1.000000</td>\n",
       "      <td>Но Трамп и в правда дегенерат. Жаль, что этот ...</td>\n",
       "      <td>1.0</td>\n",
       "    </tr>\n",
       "    <tr>\n",
       "      <th>1015</th>\n",
       "      <td>1.169411e-06</td>\n",
       "      <td>0.999999</td>\n",
       "      <td>Ебать даун. Ментам звони и вcе. Такие выходки ...</td>\n",
       "      <td>1.0</td>\n",
       "    </tr>\n",
       "    <tr>\n",
       "      <th>1276</th>\n",
       "      <td>1.215009e-06</td>\n",
       "      <td>0.999999</td>\n",
       "      <td>Что? Какой денежный петух? Нет у хохлов своих ...</td>\n",
       "      <td>1.0</td>\n",
       "    </tr>\n",
       "    <tr>\n",
       "      <th>513</th>\n",
       "      <td>1.470089e-05</td>\n",
       "      <td>0.999985</td>\n",
       "      <td>БЕЛАРУСЬ, БЛЯТЬ, БЕЛАРУСЬ. СПИДОРСВИН, БЛЯТЬ. ...</td>\n",
       "      <td>1.0</td>\n",
       "    </tr>\n",
       "    <tr>\n",
       "      <th>207</th>\n",
       "      <td>2.393994e-05</td>\n",
       "      <td>0.999976</td>\n",
       "      <td>приходит умный человек и помогает ему научитьс...</td>\n",
       "      <td>0.0</td>\n",
       "    </tr>\n",
       "    <tr>\n",
       "      <th>1206</th>\n",
       "      <td>2.415020e-05</td>\n",
       "      <td>0.999976</td>\n",
       "      <td>Как известно, у Укр ины (т.е. окр ины), слепле...</td>\n",
       "      <td>1.0</td>\n",
       "    </tr>\n",
       "    <tr>\n",
       "      <th>1019</th>\n",
       "      <td>2.415020e-05</td>\n",
       "      <td>0.999976</td>\n",
       "      <td>Как известно, у Укр ины (т.е. окр ины), слепле...</td>\n",
       "      <td>1.0</td>\n",
       "    </tr>\n",
       "    <tr>\n",
       "      <th>1231</th>\n",
       "      <td>5.389494e-05</td>\n",
       "      <td>0.999946</td>\n",
       "      <td>Двач. Ну это пиздец, конечно. Раньше я его ува...</td>\n",
       "      <td>1.0</td>\n",
       "    </tr>\n",
       "    <tr>\n",
       "      <th>1068</th>\n",
       "      <td>1.245734e-04</td>\n",
       "      <td>0.999875</td>\n",
       "      <td>ИДИ НАХУЙ, СУКА, ЗАВАЛИ ЕБАЛО, БЛЯТЬ\\n</td>\n",
       "      <td>1.0</td>\n",
       "    </tr>\n",
       "    <tr>\n",
       "      <th>10</th>\n",
       "      <td>1.369365e-04</td>\n",
       "      <td>0.999863</td>\n",
       "      <td>Какая убогая банда, гуляет на просторах YouTub...</td>\n",
       "      <td>1.0</td>\n",
       "    </tr>\n",
       "    <tr>\n",
       "      <th>771</th>\n",
       "      <td>1.739549e-04</td>\n",
       "      <td>0.999826</td>\n",
       "      <td>Посмотрел я вашу нюксель-пуксель, последние ви...</td>\n",
       "      <td>1.0</td>\n",
       "    </tr>\n",
       "    <tr>\n",
       "      <th>1117</th>\n",
       "      <td>3.019729e-04</td>\n",
       "      <td>0.999698</td>\n",
       "      <td>Милонов, ты дурак? Ты дурак, это был риторичес...</td>\n",
       "      <td>1.0</td>\n",
       "    </tr>\n",
       "    <tr>\n",
       "      <th>301</th>\n",
       "      <td>3.716699e-04</td>\n",
       "      <td>0.999628</td>\n",
       "      <td>Блядь, ебаный ты шизоид, ты можешь нормально в...</td>\n",
       "      <td>1.0</td>\n",
       "    </tr>\n",
       "    <tr>\n",
       "      <th>893</th>\n",
       "      <td>3.750621e-04</td>\n",
       "      <td>0.999625</td>\n",
       "      <td>устроил пыня Тупое безграмотное чмо , какую ху...</td>\n",
       "      <td>1.0</td>\n",
       "    </tr>\n",
       "    <tr>\n",
       "      <th>1356</th>\n",
       "      <td>4.889885e-04</td>\n",
       "      <td>0.999511</td>\n",
       "      <td>Двачну, эти разоблачения уровня вода оказывает...</td>\n",
       "      <td>1.0</td>\n",
       "    </tr>\n",
       "    <tr>\n",
       "      <th>251</th>\n",
       "      <td>6.960031e-04</td>\n",
       "      <td>0.999304</td>\n",
       "      <td>Аааа, ясно как ты знаешь США, наверное по твое...</td>\n",
       "      <td>0.0</td>\n",
       "    </tr>\n",
       "    <tr>\n",
       "      <th>790</th>\n",
       "      <td>7.390927e-04</td>\n",
       "      <td>0.999261</td>\n",
       "      <td>просили показать чатик тупой внибляди дегенера...</td>\n",
       "      <td>1.0</td>\n",
       "    </tr>\n",
       "    <tr>\n",
       "      <th>1305</th>\n",
       "      <td>7.609261e-04</td>\n",
       "      <td>0.999239</td>\n",
       "      <td>будет пытаться Да украинский прекрасно читаетс...</td>\n",
       "      <td>1.0</td>\n",
       "    </tr>\n",
       "    <tr>\n",
       "      <th>1405</th>\n",
       "      <td>1.389995e-03</td>\n",
       "      <td>0.998610</td>\n",
       "      <td>Чет даже как то стыдно за хохлов. Уже даже лдн...</td>\n",
       "      <td>1.0</td>\n",
       "    </tr>\n",
       "    <tr>\n",
       "      <th>69</th>\n",
       "      <td>1.475727e-03</td>\n",
       "      <td>0.998524</td>\n",
       "      <td>Дебил блядь, стреляться в висок надо, полудуро...</td>\n",
       "      <td>1.0</td>\n",
       "    </tr>\n",
       "    <tr>\n",
       "      <th>160</th>\n",
       "      <td>1.585217e-03</td>\n",
       "      <td>0.998415</td>\n",
       "      <td>вот ты мне только что написал тебя найдут и от...</td>\n",
       "      <td>1.0</td>\n",
       "    </tr>\n",
       "    <tr>\n",
       "      <th>196</th>\n",
       "      <td>1.650693e-03</td>\n",
       "      <td>0.998349</td>\n",
       "      <td>Иогана Ебать, земля тебе пухом, братишка. Этот...</td>\n",
       "      <td>1.0</td>\n",
       "    </tr>\n",
       "    <tr>\n",
       "      <th>765</th>\n",
       "      <td>1.724219e-03</td>\n",
       "      <td>0.998276</td>\n",
       "      <td>Няшная тян. Кун всратый и слабохарактерный муд...</td>\n",
       "      <td>1.0</td>\n",
       "    </tr>\n",
       "    <tr>\n",
       "      <th>1394</th>\n",
       "      <td>2.187347e-03</td>\n",
       "      <td>0.997813</td>\n",
       "      <td>Наш мозг может распознавать слова с перемешанн...</td>\n",
       "      <td>1.0</td>\n",
       "    </tr>\n",
       "    <tr>\n",
       "      <th>50</th>\n",
       "      <td>2.359490e-03</td>\n",
       "      <td>0.997641</td>\n",
       "      <td>Тупая шлюха, эта мразь лила отбеливатель на шт...</td>\n",
       "      <td>1.0</td>\n",
       "    </tr>\n",
       "    <tr>\n",
       "      <th>1026</th>\n",
       "      <td>2.518844e-03</td>\n",
       "      <td>0.997481</td>\n",
       "      <td>КАЛЕЧИЛИ СЕБЯ В ЗНАК ПРОТЕСТА ЛОЛ. РУСНЯ ТАКАЯ...</td>\n",
       "      <td>1.0</td>\n",
       "    </tr>\n",
       "    <tr>\n",
       "      <th>1416</th>\n",
       "      <td>2.593553e-03</td>\n",
       "      <td>0.997406</td>\n",
       "      <td>Что те быдло, что те. Быдло пиздит быдло. Ну н...</td>\n",
       "      <td>1.0</td>\n",
       "    </tr>\n",
       "    <tr>\n",
       "      <th>563</th>\n",
       "      <td>2.633791e-03</td>\n",
       "      <td>0.997366</td>\n",
       "      <td>Не зря, вас, хохлов, свиньями кличут. Вы и ест...</td>\n",
       "      <td>1.0</td>\n",
       "    </tr>\n",
       "    <tr>\n",
       "      <th>557</th>\n",
       "      <td>2.704213e-03</td>\n",
       "      <td>0.997296</td>\n",
       "      <td>Где я такое кричу, шизик? Я просто рад разъебу...</td>\n",
       "      <td>1.0</td>\n",
       "    </tr>\n",
       "    <tr>\n",
       "      <th>1283</th>\n",
       "      <td>2.821897e-03</td>\n",
       "      <td>0.997178</td>\n",
       "      <td>блять, вы с хохлами заебали - а сейчас ещё и в...</td>\n",
       "      <td>1.0</td>\n",
       "    </tr>\n",
       "    <tr>\n",
       "      <th>1047</th>\n",
       "      <td>3.004024e-03</td>\n",
       "      <td>0.996996</td>\n",
       "      <td>Блять какой же жырный сука старый! Сороковник ...</td>\n",
       "      <td>1.0</td>\n",
       "    </tr>\n",
       "    <tr>\n",
       "      <th>597</th>\n",
       "      <td>3.125219e-03</td>\n",
       "      <td>0.996875</td>\n",
       "      <td>Но вполне может быть: ШАРИЙ УКРАИНСКИЙ ЖУРНАЛИ...</td>\n",
       "      <td>1.0</td>\n",
       "    </tr>\n",
       "    <tr>\n",
       "      <th>783</th>\n",
       "      <td>3.312522e-03</td>\n",
       "      <td>0.996687</td>\n",
       "      <td>Едут два пидора в трамвае. Час пик, давка. Оди...</td>\n",
       "      <td>1.0</td>\n",
       "    </tr>\n",
       "    <tr>\n",
       "      <th>1322</th>\n",
       "      <td>3.621970e-03</td>\n",
       "      <td>0.996378</td>\n",
       "      <td>Квинтэссенция человеконенавистничества в этих ...</td>\n",
       "      <td>1.0</td>\n",
       "    </tr>\n",
       "    <tr>\n",
       "      <th>691</th>\n",
       "      <td>3.929206e-03</td>\n",
       "      <td>0.996071</td>\n",
       "      <td>Хохол для битья, классика. И кто это говно смо...</td>\n",
       "      <td>1.0</td>\n",
       "    </tr>\n",
       "    <tr>\n",
       "      <th>120</th>\n",
       "      <td>4.192408e-03</td>\n",
       "      <td>0.995808</td>\n",
       "      <td>Пидорашек выселить, а не хохлов Ты сам себе пр...</td>\n",
       "      <td>1.0</td>\n",
       "    </tr>\n",
       "    <tr>\n",
       "      <th>380</th>\n",
       "      <td>4.355297e-03</td>\n",
       "      <td>0.995645</td>\n",
       "      <td>куколдыш Иди значение выучи, мурло Скоро и теб...</td>\n",
       "      <td>1.0</td>\n",
       "    </tr>\n",
       "    <tr>\n",
       "      <th>1352</th>\n",
       "      <td>4.808567e-03</td>\n",
       "      <td>0.995191</td>\n",
       "      <td>Ну оль, ну вот че тебе надо? Иди в по сри, а э...</td>\n",
       "      <td>1.0</td>\n",
       "    </tr>\n",
       "    <tr>\n",
       "      <th>840</th>\n",
       "      <td>4.884159e-03</td>\n",
       "      <td>0.995116</td>\n",
       "      <td>дебил-куколд Значение знаешь?</td>\n",
       "      <td>1.0</td>\n",
       "    </tr>\n",
       "    <tr>\n",
       "      <th>779</th>\n",
       "      <td>4.893688e-03</td>\n",
       "      <td>0.995106</td>\n",
       "      <td>Рак ебучий, как же ты заебал, сука. СДОХНИ БЛЯ...</td>\n",
       "      <td>1.0</td>\n",
       "    </tr>\n",
       "    <tr>\n",
       "      <th>46</th>\n",
       "      <td>5.178012e-03</td>\n",
       "      <td>0.994822</td>\n",
       "      <td>Какую ещё нахуй правоту ? Ты сказал, что правы...</td>\n",
       "      <td>1.0</td>\n",
       "    </tr>\n",
       "    <tr>\n",
       "      <th>327</th>\n",
       "      <td>5.389599e-03</td>\n",
       "      <td>0.994610</td>\n",
       "      <td>тебе не все равно что там у пиндосов или у укр...</td>\n",
       "      <td>1.0</td>\n",
       "    </tr>\n",
       "    <tr>\n",
       "      <th>632</th>\n",
       "      <td>6.680148e-03</td>\n",
       "      <td>0.993320</td>\n",
       "      <td>Ребята, смотрите я когда вижу националистов уб...</td>\n",
       "      <td>1.0</td>\n",
       "    </tr>\n",
       "    <tr>\n",
       "      <th>776</th>\n",
       "      <td>6.889375e-03</td>\n",
       "      <td>0.993111</td>\n",
       "      <td>За то что ты дерейлаешь такой выгодный для вас...</td>\n",
       "      <td>1.0</td>\n",
       "    </tr>\n",
       "    <tr>\n",
       "      <th>65</th>\n",
       "      <td>7.883560e-03</td>\n",
       "      <td>0.992116</td>\n",
       "      <td>Антисоветских достаточно. И вы так говорите, к...</td>\n",
       "      <td>1.0</td>\n",
       "    </tr>\n",
       "    <tr>\n",
       "      <th>1189</th>\n",
       "      <td>7.957396e-03</td>\n",
       "      <td>0.992043</td>\n",
       "      <td>БРОСАЙ БЛЯТЬ Бросил. Пистолет выстрелил. Убил ...</td>\n",
       "      <td>1.0</td>\n",
       "    </tr>\n",
       "    <tr>\n",
       "      <th>164</th>\n",
       "      <td>8.051239e-03</td>\n",
       "      <td>0.991949</td>\n",
       "      <td>Ну а как же? Только с разрешением в письменном...</td>\n",
       "      <td>1.0</td>\n",
       "    </tr>\n",
       "    <tr>\n",
       "      <th>0</th>\n",
       "      <td>8.093335e-03</td>\n",
       "      <td>0.991907</td>\n",
       "      <td>Зашёл в тред пидорнутых. Ебать их там шиза пид...</td>\n",
       "      <td>1.0</td>\n",
       "    </tr>\n",
       "    <tr>\n",
       "      <th>1347</th>\n",
       "      <td>8.736579e-03</td>\n",
       "      <td>0.991263</td>\n",
       "      <td>Хуй соси, анимеблядь. Мать твою ебал\\n</td>\n",
       "      <td>1.0</td>\n",
       "    </tr>\n",
       "    <tr>\n",
       "      <th>345</th>\n",
       "      <td>9.687277e-03</td>\n",
       "      <td>0.990313</td>\n",
       "      <td>Пиздец сука залётная зверушка даже тут насрать...</td>\n",
       "      <td>1.0</td>\n",
       "    </tr>\n",
       "  </tbody>\n",
       "</table>\n",
       "</div>"
      ],
      "text/plain": [
       "      proba_logit_0  proba_logit_1  \\\n",
       "1021   2.104486e-07       1.000000   \n",
       "1015   1.169411e-06       0.999999   \n",
       "1276   1.215009e-06       0.999999   \n",
       "513    1.470089e-05       0.999985   \n",
       "207    2.393994e-05       0.999976   \n",
       "1206   2.415020e-05       0.999976   \n",
       "1019   2.415020e-05       0.999976   \n",
       "1231   5.389494e-05       0.999946   \n",
       "1068   1.245734e-04       0.999875   \n",
       "10     1.369365e-04       0.999863   \n",
       "771    1.739549e-04       0.999826   \n",
       "1117   3.019729e-04       0.999698   \n",
       "301    3.716699e-04       0.999628   \n",
       "893    3.750621e-04       0.999625   \n",
       "1356   4.889885e-04       0.999511   \n",
       "251    6.960031e-04       0.999304   \n",
       "790    7.390927e-04       0.999261   \n",
       "1305   7.609261e-04       0.999239   \n",
       "1405   1.389995e-03       0.998610   \n",
       "69     1.475727e-03       0.998524   \n",
       "160    1.585217e-03       0.998415   \n",
       "196    1.650693e-03       0.998349   \n",
       "765    1.724219e-03       0.998276   \n",
       "1394   2.187347e-03       0.997813   \n",
       "50     2.359490e-03       0.997641   \n",
       "1026   2.518844e-03       0.997481   \n",
       "1416   2.593553e-03       0.997406   \n",
       "563    2.633791e-03       0.997366   \n",
       "557    2.704213e-03       0.997296   \n",
       "1283   2.821897e-03       0.997178   \n",
       "1047   3.004024e-03       0.996996   \n",
       "597    3.125219e-03       0.996875   \n",
       "783    3.312522e-03       0.996687   \n",
       "1322   3.621970e-03       0.996378   \n",
       "691    3.929206e-03       0.996071   \n",
       "120    4.192408e-03       0.995808   \n",
       "380    4.355297e-03       0.995645   \n",
       "1352   4.808567e-03       0.995191   \n",
       "840    4.884159e-03       0.995116   \n",
       "779    4.893688e-03       0.995106   \n",
       "46     5.178012e-03       0.994822   \n",
       "327    5.389599e-03       0.994610   \n",
       "632    6.680148e-03       0.993320   \n",
       "776    6.889375e-03       0.993111   \n",
       "65     7.883560e-03       0.992116   \n",
       "1189   7.957396e-03       0.992043   \n",
       "164    8.051239e-03       0.991949   \n",
       "0      8.093335e-03       0.991907   \n",
       "1347   8.736579e-03       0.991263   \n",
       "345    9.687277e-03       0.990313   \n",
       "\n",
       "                                                comment  toxic  \n",
       "1021  Но Трамп и в правда дегенерат. Жаль, что этот ...    1.0  \n",
       "1015  Ебать даун. Ментам звони и вcе. Такие выходки ...    1.0  \n",
       "1276  Что? Какой денежный петух? Нет у хохлов своих ...    1.0  \n",
       "513   БЕЛАРУСЬ, БЛЯТЬ, БЕЛАРУСЬ. СПИДОРСВИН, БЛЯТЬ. ...    1.0  \n",
       "207   приходит умный человек и помогает ему научитьс...    0.0  \n",
       "1206  Как известно, у Укр ины (т.е. окр ины), слепле...    1.0  \n",
       "1019  Как известно, у Укр ины (т.е. окр ины), слепле...    1.0  \n",
       "1231  Двач. Ну это пиздец, конечно. Раньше я его ува...    1.0  \n",
       "1068             ИДИ НАХУЙ, СУКА, ЗАВАЛИ ЕБАЛО, БЛЯТЬ\\n    1.0  \n",
       "10    Какая убогая банда, гуляет на просторах YouTub...    1.0  \n",
       "771   Посмотрел я вашу нюксель-пуксель, последние ви...    1.0  \n",
       "1117  Милонов, ты дурак? Ты дурак, это был риторичес...    1.0  \n",
       "301   Блядь, ебаный ты шизоид, ты можешь нормально в...    1.0  \n",
       "893   устроил пыня Тупое безграмотное чмо , какую ху...    1.0  \n",
       "1356  Двачну, эти разоблачения уровня вода оказывает...    1.0  \n",
       "251   Аааа, ясно как ты знаешь США, наверное по твое...    0.0  \n",
       "790   просили показать чатик тупой внибляди дегенера...    1.0  \n",
       "1305  будет пытаться Да украинский прекрасно читаетс...    1.0  \n",
       "1405  Чет даже как то стыдно за хохлов. Уже даже лдн...    1.0  \n",
       "69    Дебил блядь, стреляться в висок надо, полудуро...    1.0  \n",
       "160   вот ты мне только что написал тебя найдут и от...    1.0  \n",
       "196   Иогана Ебать, земля тебе пухом, братишка. Этот...    1.0  \n",
       "765   Няшная тян. Кун всратый и слабохарактерный муд...    1.0  \n",
       "1394  Наш мозг может распознавать слова с перемешанн...    1.0  \n",
       "50    Тупая шлюха, эта мразь лила отбеливатель на шт...    1.0  \n",
       "1026  КАЛЕЧИЛИ СЕБЯ В ЗНАК ПРОТЕСТА ЛОЛ. РУСНЯ ТАКАЯ...    1.0  \n",
       "1416  Что те быдло, что те. Быдло пиздит быдло. Ну н...    1.0  \n",
       "563   Не зря, вас, хохлов, свиньями кличут. Вы и ест...    1.0  \n",
       "557   Где я такое кричу, шизик? Я просто рад разъебу...    1.0  \n",
       "1283  блять, вы с хохлами заебали - а сейчас ещё и в...    1.0  \n",
       "1047  Блять какой же жырный сука старый! Сороковник ...    1.0  \n",
       "597   Но вполне может быть: ШАРИЙ УКРАИНСКИЙ ЖУРНАЛИ...    1.0  \n",
       "783   Едут два пидора в трамвае. Час пик, давка. Оди...    1.0  \n",
       "1322  Квинтэссенция человеконенавистничества в этих ...    1.0  \n",
       "691   Хохол для битья, классика. И кто это говно смо...    1.0  \n",
       "120   Пидорашек выселить, а не хохлов Ты сам себе пр...    1.0  \n",
       "380   куколдыш Иди значение выучи, мурло Скоро и теб...    1.0  \n",
       "1352  Ну оль, ну вот че тебе надо? Иди в по сри, а э...    1.0  \n",
       "840                       дебил-куколд Значение знаешь?    1.0  \n",
       "779   Рак ебучий, как же ты заебал, сука. СДОХНИ БЛЯ...    1.0  \n",
       "46    Какую ещё нахуй правоту ? Ты сказал, что правы...    1.0  \n",
       "327   тебе не все равно что там у пиндосов или у укр...    1.0  \n",
       "632   Ребята, смотрите я когда вижу националистов уб...    1.0  \n",
       "776   За то что ты дерейлаешь такой выгодный для вас...    1.0  \n",
       "65    Антисоветских достаточно. И вы так говорите, к...    1.0  \n",
       "1189  БРОСАЙ БЛЯТЬ Бросил. Пистолет выстрелил. Убил ...    1.0  \n",
       "164   Ну а как же? Только с разрешением в письменном...    1.0  \n",
       "0     Зашёл в тред пидорнутых. Ебать их там шиза пид...    1.0  \n",
       "1347             Хуй соси, анимеблядь. Мать твою ебал\\n    1.0  \n",
       "345   Пиздец сука залётная зверушка даже тут насрать...    1.0  "
      ]
     },
     "execution_count": 449,
     "metadata": {},
     "output_type": "execute_result"
    }
   ],
   "source": [
    "#топ 10 для первой модели\n",
    "proba_logit = clf_logit.predict_proba(X_c_test)\n",
    "df_logit = pd.DataFrame(proba_logit, columns=['proba_logit_0', 'proba_logit_1'])\n",
    "df_logit['comment'], df_logit['toxic'] = test.comment, test.toxic.values\n",
    "final_logit = df_logit.sort_values(by=['proba_logit_1'], inplace=False, ascending=False)[:50]\n",
    "\n",
    "final_logit"
   ]
  },
  {
   "cell_type": "code",
   "execution_count": 450,
   "id": "745bd58f",
   "metadata": {},
   "outputs": [],
   "source": [
    "#модель с TfidfVectorizer и random forest\n",
    "vectorizer_tfidf = TfidfVectorizer(max_features=800, min_df=5, max_df=0.4, lowercase=True, stop_words=russian_stopwords )\n",
    "X_tfidf = vectorizer_tfidf.fit_transform(train.comment)\n",
    "X_tfidf_test = vectorizer_tfidf.transform(test.comment) \n",
    "#max_features=800,\n",
    "#то же самое со стоп-словами: с одной стороны, их охота убрать, но почему-то это плохо влияет на f1 score"
   ]
  },
  {
   "cell_type": "code",
   "execution_count": 451,
   "id": "90311fac",
   "metadata": {},
   "outputs": [],
   "source": [
    "rf = RandomForestClassifier(n_estimators=100, max_depth=1000)\n",
    "rf.fit(X_tfidf, y)\n",
    "preds_rf = rf.predict(X_tfidf_test)"
   ]
  },
  {
   "cell_type": "code",
   "execution_count": 452,
   "id": "d9884c3a",
   "metadata": {},
   "outputs": [
    {
     "name": "stdout",
     "output_type": "stream",
     "text": [
      "              precision    recall  f1-score   support\n",
      "\n",
      "         0.0       0.81      0.82      0.82       953\n",
      "         1.0       0.64      0.63      0.64       489\n",
      "\n",
      "    accuracy                           0.76      1442\n",
      "   macro avg       0.73      0.73      0.73      1442\n",
      "weighted avg       0.76      0.76      0.76      1442\n",
      "\n"
     ]
    }
   ],
   "source": [
    "print(classification_report(y_test, preds_rf, zero_division=0))"
   ]
  },
  {
   "cell_type": "code",
   "execution_count": 453,
   "id": "f964d40c",
   "metadata": {},
   "outputs": [],
   "source": [
    "proba_rf = rf.predict_proba(X_tfidf_test)"
   ]
  },
  {
   "cell_type": "code",
   "execution_count": 454,
   "id": "d47bfa4d",
   "metadata": {},
   "outputs": [
    {
     "data": {
      "text/html": [
       "<div>\n",
       "<style scoped>\n",
       "    .dataframe tbody tr th:only-of-type {\n",
       "        vertical-align: middle;\n",
       "    }\n",
       "\n",
       "    .dataframe tbody tr th {\n",
       "        vertical-align: top;\n",
       "    }\n",
       "\n",
       "    .dataframe thead th {\n",
       "        text-align: right;\n",
       "    }\n",
       "</style>\n",
       "<table border=\"1\" class=\"dataframe\">\n",
       "  <thead>\n",
       "    <tr style=\"text-align: right;\">\n",
       "      <th></th>\n",
       "      <th>proba_rf_0</th>\n",
       "      <th>proba_rf_1</th>\n",
       "      <th>comment</th>\n",
       "      <th>toxic</th>\n",
       "    </tr>\n",
       "  </thead>\n",
       "  <tbody>\n",
       "    <tr>\n",
       "      <th>840</th>\n",
       "      <td>0.000000</td>\n",
       "      <td>1.000000</td>\n",
       "      <td>дебил-куколд Значение знаешь?</td>\n",
       "      <td>1.0</td>\n",
       "    </tr>\n",
       "    <tr>\n",
       "      <th>139</th>\n",
       "      <td>0.000000</td>\n",
       "      <td>1.000000</td>\n",
       "      <td>о блять, кремлеботы подъехали\\n</td>\n",
       "      <td>1.0</td>\n",
       "    </tr>\n",
       "    <tr>\n",
       "      <th>681</th>\n",
       "      <td>0.000000</td>\n",
       "      <td>1.000000</td>\n",
       "      <td>Бля, я перданул и обосрал шорты.\\n</td>\n",
       "      <td>1.0</td>\n",
       "    </tr>\n",
       "    <tr>\n",
       "      <th>686</th>\n",
       "      <td>0.000000</td>\n",
       "      <td>1.000000</td>\n",
       "      <td>ПУТИН - НЕ ПЫНЯ! СЛЫШИТЕ?! НЕ ПЫНЯ!\\n</td>\n",
       "      <td>1.0</td>\n",
       "    </tr>\n",
       "    <tr>\n",
       "      <th>78</th>\n",
       "      <td>0.000000</td>\n",
       "      <td>1.000000</td>\n",
       "      <td>Зачем Пидорошенко взрывает хохлов?\\n</td>\n",
       "      <td>1.0</td>\n",
       "    </tr>\n",
       "    <tr>\n",
       "      <th>706</th>\n",
       "      <td>0.000000</td>\n",
       "      <td>1.000000</td>\n",
       "      <td>э русна на бутылку садис да мимо татарин\\n</td>\n",
       "      <td>1.0</td>\n",
       "    </tr>\n",
       "    <tr>\n",
       "      <th>1216</th>\n",
       "      <td>0.000000</td>\n",
       "      <td>1.000000</td>\n",
       "      <td>А какой уровень у тех кто тренды про хохлов со...</td>\n",
       "      <td>1.0</td>\n",
       "    </tr>\n",
       "    <tr>\n",
       "      <th>709</th>\n",
       "      <td>0.000000</td>\n",
       "      <td>1.000000</td>\n",
       "      <td>а откуда тогда рейтинг в 21к?\\n</td>\n",
       "      <td>0.0</td>\n",
       "    </tr>\n",
       "    <tr>\n",
       "      <th>1194</th>\n",
       "      <td>0.000000</td>\n",
       "      <td>1.000000</td>\n",
       "      <td>потому что на лурке пишут что он пидор\\n</td>\n",
       "      <td>1.0</td>\n",
       "    </tr>\n",
       "    <tr>\n",
       "      <th>1189</th>\n",
       "      <td>0.000000</td>\n",
       "      <td>1.000000</td>\n",
       "      <td>БРОСАЙ БЛЯТЬ Бросил. Пистолет выстрелил. Убил ...</td>\n",
       "      <td>1.0</td>\n",
       "    </tr>\n",
       "    <tr>\n",
       "      <th>813</th>\n",
       "      <td>0.000000</td>\n",
       "      <td>1.000000</td>\n",
       "      <td>Я вас не оскорбляла. Читать умею.\\n</td>\n",
       "      <td>1.0</td>\n",
       "    </tr>\n",
       "    <tr>\n",
       "      <th>541</th>\n",
       "      <td>0.000000</td>\n",
       "      <td>1.000000</td>\n",
       "      <td>Да какой там у хохлов языг? Можно любую хуету ...</td>\n",
       "      <td>1.0</td>\n",
       "    </tr>\n",
       "    <tr>\n",
       "      <th>821</th>\n",
       "      <td>0.000000</td>\n",
       "      <td>1.000000</td>\n",
       "      <td>Нахуй иди, щенок. мимо нульчер 2010\\n</td>\n",
       "      <td>1.0</td>\n",
       "    </tr>\n",
       "    <tr>\n",
       "      <th>127</th>\n",
       "      <td>0.000000</td>\n",
       "      <td>1.000000</td>\n",
       "      <td>Иди на почту до востребования\\n</td>\n",
       "      <td>0.0</td>\n",
       "    </tr>\n",
       "    <tr>\n",
       "      <th>120</th>\n",
       "      <td>0.000000</td>\n",
       "      <td>1.000000</td>\n",
       "      <td>Пидорашек выселить, а не хохлов Ты сам себе пр...</td>\n",
       "      <td>1.0</td>\n",
       "    </tr>\n",
       "    <tr>\n",
       "      <th>1131</th>\n",
       "      <td>0.000000</td>\n",
       "      <td>1.000000</td>\n",
       "      <td>Не негр, а такой же тупой\\n</td>\n",
       "      <td>1.0</td>\n",
       "    </tr>\n",
       "    <tr>\n",
       "      <th>111</th>\n",
       "      <td>0.000000</td>\n",
       "      <td>1.000000</td>\n",
       "      <td>мимо хикка Ты не хикка, ты чмо с отклонениями ...</td>\n",
       "      <td>1.0</td>\n",
       "    </tr>\n",
       "    <tr>\n",
       "      <th>981</th>\n",
       "      <td>0.000000</td>\n",
       "      <td>1.000000</td>\n",
       "      <td>Он стал популярным только после того, как его ...</td>\n",
       "      <td>1.0</td>\n",
       "    </tr>\n",
       "    <tr>\n",
       "      <th>91</th>\n",
       "      <td>0.000000</td>\n",
       "      <td>1.000000</td>\n",
       "      <td>Ну там же блять явная заказуха, по любому если...</td>\n",
       "      <td>0.0</td>\n",
       "    </tr>\n",
       "    <tr>\n",
       "      <th>1070</th>\n",
       "      <td>0.000000</td>\n",
       "      <td>1.000000</td>\n",
       "      <td>Вали нахуй,мужик хоть нормальную себе найдет.\\n</td>\n",
       "      <td>1.0</td>\n",
       "    </tr>\n",
       "    <tr>\n",
       "      <th>1257</th>\n",
       "      <td>0.000000</td>\n",
       "      <td>1.000000</td>\n",
       "      <td>анонимный форум рряяя ты чей бля ыыы Опять боя...</td>\n",
       "      <td>1.0</td>\n",
       "    </tr>\n",
       "    <tr>\n",
       "      <th>1047</th>\n",
       "      <td>0.000000</td>\n",
       "      <td>1.000000</td>\n",
       "      <td>Блять какой же жырный сука старый! Сороковник ...</td>\n",
       "      <td>1.0</td>\n",
       "    </tr>\n",
       "    <tr>\n",
       "      <th>1351</th>\n",
       "      <td>0.000000</td>\n",
       "      <td>1.000000</td>\n",
       "      <td>Бля, заебал он уже, во всякой бочке затычка. Г...</td>\n",
       "      <td>1.0</td>\n",
       "    </tr>\n",
       "    <tr>\n",
       "      <th>369</th>\n",
       "      <td>0.000000</td>\n",
       "      <td>1.000000</td>\n",
       "      <td>Потому что нет тега моё и указан источник, отк...</td>\n",
       "      <td>0.0</td>\n",
       "    </tr>\n",
       "    <tr>\n",
       "      <th>413</th>\n",
       "      <td>0.000000</td>\n",
       "      <td>1.000000</td>\n",
       "      <td>А в твоем блять не стояли! вы же пердуны стары...</td>\n",
       "      <td>1.0</td>\n",
       "    </tr>\n",
       "    <tr>\n",
       "      <th>222</th>\n",
       "      <td>0.000000</td>\n",
       "      <td>1.000000</td>\n",
       "      <td>фуры с тварями за рулем никак не передохнут!!!...</td>\n",
       "      <td>1.0</td>\n",
       "    </tr>\n",
       "    <tr>\n",
       "      <th>203</th>\n",
       "      <td>0.000000</td>\n",
       "      <td>1.000000</td>\n",
       "      <td>4chan, archive.is, 8chan, kiwifarms, Bitchute ...</td>\n",
       "      <td>0.0</td>\n",
       "    </tr>\n",
       "    <tr>\n",
       "      <th>513</th>\n",
       "      <td>0.000000</td>\n",
       "      <td>1.000000</td>\n",
       "      <td>БЕЛАРУСЬ, БЛЯТЬ, БЕЛАРУСЬ. СПИДОРСВИН, БЛЯТЬ. ...</td>\n",
       "      <td>1.0</td>\n",
       "    </tr>\n",
       "    <tr>\n",
       "      <th>326</th>\n",
       "      <td>0.000000</td>\n",
       "      <td>1.000000</td>\n",
       "      <td>Ментух И нашим и вашим отсасывала паходу за вс...</td>\n",
       "      <td>1.0</td>\n",
       "    </tr>\n",
       "    <tr>\n",
       "      <th>931</th>\n",
       "      <td>0.000370</td>\n",
       "      <td>0.999630</td>\n",
       "      <td>Егорку в детстве хохлы выебали, что он триггер...</td>\n",
       "      <td>1.0</td>\n",
       "    </tr>\n",
       "    <tr>\n",
       "      <th>823</th>\n",
       "      <td>0.002120</td>\n",
       "      <td>0.997880</td>\n",
       "      <td>Хохлы слишком измучены войной и тарифами, даже...</td>\n",
       "      <td>1.0</td>\n",
       "    </tr>\n",
       "    <tr>\n",
       "      <th>1276</th>\n",
       "      <td>0.002870</td>\n",
       "      <td>0.997130</td>\n",
       "      <td>Что? Какой денежный петух? Нет у хохлов своих ...</td>\n",
       "      <td>1.0</td>\n",
       "    </tr>\n",
       "    <tr>\n",
       "      <th>537</th>\n",
       "      <td>0.003958</td>\n",
       "      <td>0.996042</td>\n",
       "      <td>Обратно в пангею все материки соберутся. Прико...</td>\n",
       "      <td>0.0</td>\n",
       "    </tr>\n",
       "    <tr>\n",
       "      <th>22</th>\n",
       "      <td>0.004297</td>\n",
       "      <td>0.995703</td>\n",
       "      <td>Нахуя отказываться от 25килобаксов, вы тупые и...</td>\n",
       "      <td>1.0</td>\n",
       "    </tr>\n",
       "    <tr>\n",
       "      <th>445</th>\n",
       "      <td>0.004408</td>\n",
       "      <td>0.995592</td>\n",
       "      <td>Белая Европа поднимает голову Поднимает свою о...</td>\n",
       "      <td>1.0</td>\n",
       "    </tr>\n",
       "    <tr>\n",
       "      <th>1352</th>\n",
       "      <td>0.010000</td>\n",
       "      <td>0.990000</td>\n",
       "      <td>Ну оль, ну вот че тебе надо? Иди в по сри, а э...</td>\n",
       "      <td>1.0</td>\n",
       "    </tr>\n",
       "    <tr>\n",
       "      <th>1068</th>\n",
       "      <td>0.010000</td>\n",
       "      <td>0.990000</td>\n",
       "      <td>ИДИ НАХУЙ, СУКА, ЗАВАЛИ ЕБАЛО, БЛЯТЬ\\n</td>\n",
       "      <td>1.0</td>\n",
       "    </tr>\n",
       "    <tr>\n",
       "      <th>1258</th>\n",
       "      <td>0.010000</td>\n",
       "      <td>0.990000</td>\n",
       "      <td>Дебил Коноплеводство зарубил Хрущ как и многие...</td>\n",
       "      <td>1.0</td>\n",
       "    </tr>\n",
       "    <tr>\n",
       "      <th>1405</th>\n",
       "      <td>0.010000</td>\n",
       "      <td>0.990000</td>\n",
       "      <td>Чет даже как то стыдно за хохлов. Уже даже лдн...</td>\n",
       "      <td>1.0</td>\n",
       "    </tr>\n",
       "    <tr>\n",
       "      <th>265</th>\n",
       "      <td>0.010000</td>\n",
       "      <td>0.990000</td>\n",
       "      <td>Уж лучше пусть смотрят нашу пропаганду, чем пи...</td>\n",
       "      <td>1.0</td>\n",
       "    </tr>\n",
       "    <tr>\n",
       "      <th>623</th>\n",
       "      <td>0.010000</td>\n",
       "      <td>0.990000</td>\n",
       "      <td>Уже неактуально. Заездили по всем сетям. Писы:...</td>\n",
       "      <td>0.0</td>\n",
       "    </tr>\n",
       "    <tr>\n",
       "      <th>530</th>\n",
       "      <td>0.010370</td>\n",
       "      <td>0.989630</td>\n",
       "      <td>граждане России Хохлы какие-нибудь.\\n</td>\n",
       "      <td>1.0</td>\n",
       "    </tr>\n",
       "    <tr>\n",
       "      <th>680</th>\n",
       "      <td>0.013944</td>\n",
       "      <td>0.986056</td>\n",
       "      <td>Ничтожны тут только твои тупые поцты.\\n</td>\n",
       "      <td>1.0</td>\n",
       "    </tr>\n",
       "    <tr>\n",
       "      <th>182</th>\n",
       "      <td>0.020000</td>\n",
       "      <td>0.980000</td>\n",
       "      <td>Всем похуй на блеяния и воззвания пидорахомасп...</td>\n",
       "      <td>1.0</td>\n",
       "    </tr>\n",
       "    <tr>\n",
       "      <th>862</th>\n",
       "      <td>0.020000</td>\n",
       "      <td>0.980000</td>\n",
       "      <td>Ты из какого века блядь?\\n</td>\n",
       "      <td>1.0</td>\n",
       "    </tr>\n",
       "    <tr>\n",
       "      <th>1010</th>\n",
       "      <td>0.020000</td>\n",
       "      <td>0.980000</td>\n",
       "      <td>кто это вообще, страшная даже дрочить неохота\\n</td>\n",
       "      <td>1.0</td>\n",
       "    </tr>\n",
       "    <tr>\n",
       "      <th>690</th>\n",
       "      <td>0.020000</td>\n",
       "      <td>0.980000</td>\n",
       "      <td>Школяры дебилы блять,учиться не хотят вот и за...</td>\n",
       "      <td>1.0</td>\n",
       "    </tr>\n",
       "    <tr>\n",
       "      <th>451</th>\n",
       "      <td>0.024392</td>\n",
       "      <td>0.975608</td>\n",
       "      <td>Говношкурых не спрашивали. расистской падали с...</td>\n",
       "      <td>1.0</td>\n",
       "    </tr>\n",
       "    <tr>\n",
       "      <th>779</th>\n",
       "      <td>0.025000</td>\n",
       "      <td>0.975000</td>\n",
       "      <td>Рак ебучий, как же ты заебал, сука. СДОХНИ БЛЯ...</td>\n",
       "      <td>1.0</td>\n",
       "    </tr>\n",
       "    <tr>\n",
       "      <th>1207</th>\n",
       "      <td>0.025500</td>\n",
       "      <td>0.974500</td>\n",
       "      <td>готовься к санкциям Не проецируй, пидораха. Ра...</td>\n",
       "      <td>1.0</td>\n",
       "    </tr>\n",
       "  </tbody>\n",
       "</table>\n",
       "</div>"
      ],
      "text/plain": [
       "      proba_rf_0  proba_rf_1  \\\n",
       "840     0.000000    1.000000   \n",
       "139     0.000000    1.000000   \n",
       "681     0.000000    1.000000   \n",
       "686     0.000000    1.000000   \n",
       "78      0.000000    1.000000   \n",
       "706     0.000000    1.000000   \n",
       "1216    0.000000    1.000000   \n",
       "709     0.000000    1.000000   \n",
       "1194    0.000000    1.000000   \n",
       "1189    0.000000    1.000000   \n",
       "813     0.000000    1.000000   \n",
       "541     0.000000    1.000000   \n",
       "821     0.000000    1.000000   \n",
       "127     0.000000    1.000000   \n",
       "120     0.000000    1.000000   \n",
       "1131    0.000000    1.000000   \n",
       "111     0.000000    1.000000   \n",
       "981     0.000000    1.000000   \n",
       "91      0.000000    1.000000   \n",
       "1070    0.000000    1.000000   \n",
       "1257    0.000000    1.000000   \n",
       "1047    0.000000    1.000000   \n",
       "1351    0.000000    1.000000   \n",
       "369     0.000000    1.000000   \n",
       "413     0.000000    1.000000   \n",
       "222     0.000000    1.000000   \n",
       "203     0.000000    1.000000   \n",
       "513     0.000000    1.000000   \n",
       "326     0.000000    1.000000   \n",
       "931     0.000370    0.999630   \n",
       "823     0.002120    0.997880   \n",
       "1276    0.002870    0.997130   \n",
       "537     0.003958    0.996042   \n",
       "22      0.004297    0.995703   \n",
       "445     0.004408    0.995592   \n",
       "1352    0.010000    0.990000   \n",
       "1068    0.010000    0.990000   \n",
       "1258    0.010000    0.990000   \n",
       "1405    0.010000    0.990000   \n",
       "265     0.010000    0.990000   \n",
       "623     0.010000    0.990000   \n",
       "530     0.010370    0.989630   \n",
       "680     0.013944    0.986056   \n",
       "182     0.020000    0.980000   \n",
       "862     0.020000    0.980000   \n",
       "1010    0.020000    0.980000   \n",
       "690     0.020000    0.980000   \n",
       "451     0.024392    0.975608   \n",
       "779     0.025000    0.975000   \n",
       "1207    0.025500    0.974500   \n",
       "\n",
       "                                                comment  toxic  \n",
       "840                       дебил-куколд Значение знаешь?    1.0  \n",
       "139                     о блять, кремлеботы подъехали\\n    1.0  \n",
       "681                  Бля, я перданул и обосрал шорты.\\n    1.0  \n",
       "686               ПУТИН - НЕ ПЫНЯ! СЛЫШИТЕ?! НЕ ПЫНЯ!\\n    1.0  \n",
       "78                 Зачем Пидорошенко взрывает хохлов?\\n    1.0  \n",
       "706          э русна на бутылку садис да мимо татарин\\n    1.0  \n",
       "1216  А какой уровень у тех кто тренды про хохлов со...    1.0  \n",
       "709                     а откуда тогда рейтинг в 21к?\\n    0.0  \n",
       "1194           потому что на лурке пишут что он пидор\\n    1.0  \n",
       "1189  БРОСАЙ БЛЯТЬ Бросил. Пистолет выстрелил. Убил ...    1.0  \n",
       "813                 Я вас не оскорбляла. Читать умею.\\n    1.0  \n",
       "541   Да какой там у хохлов языг? Можно любую хуету ...    1.0  \n",
       "821               Нахуй иди, щенок. мимо нульчер 2010\\n    1.0  \n",
       "127                     Иди на почту до востребования\\n    0.0  \n",
       "120   Пидорашек выселить, а не хохлов Ты сам себе пр...    1.0  \n",
       "1131                        Не негр, а такой же тупой\\n    1.0  \n",
       "111   мимо хикка Ты не хикка, ты чмо с отклонениями ...    1.0  \n",
       "981   Он стал популярным только после того, как его ...    1.0  \n",
       "91    Ну там же блять явная заказуха, по любому если...    0.0  \n",
       "1070    Вали нахуй,мужик хоть нормальную себе найдет.\\n    1.0  \n",
       "1257  анонимный форум рряяя ты чей бля ыыы Опять боя...    1.0  \n",
       "1047  Блять какой же жырный сука старый! Сороковник ...    1.0  \n",
       "1351  Бля, заебал он уже, во всякой бочке затычка. Г...    1.0  \n",
       "369   Потому что нет тега моё и указан источник, отк...    0.0  \n",
       "413   А в твоем блять не стояли! вы же пердуны стары...    1.0  \n",
       "222   фуры с тварями за рулем никак не передохнут!!!...    1.0  \n",
       "203   4chan, archive.is, 8chan, kiwifarms, Bitchute ...    0.0  \n",
       "513   БЕЛАРУСЬ, БЛЯТЬ, БЕЛАРУСЬ. СПИДОРСВИН, БЛЯТЬ. ...    1.0  \n",
       "326   Ментух И нашим и вашим отсасывала паходу за вс...    1.0  \n",
       "931   Егорку в детстве хохлы выебали, что он триггер...    1.0  \n",
       "823   Хохлы слишком измучены войной и тарифами, даже...    1.0  \n",
       "1276  Что? Какой денежный петух? Нет у хохлов своих ...    1.0  \n",
       "537   Обратно в пангею все материки соберутся. Прико...    0.0  \n",
       "22    Нахуя отказываться от 25килобаксов, вы тупые и...    1.0  \n",
       "445   Белая Европа поднимает голову Поднимает свою о...    1.0  \n",
       "1352  Ну оль, ну вот че тебе надо? Иди в по сри, а э...    1.0  \n",
       "1068             ИДИ НАХУЙ, СУКА, ЗАВАЛИ ЕБАЛО, БЛЯТЬ\\n    1.0  \n",
       "1258  Дебил Коноплеводство зарубил Хрущ как и многие...    1.0  \n",
       "1405  Чет даже как то стыдно за хохлов. Уже даже лдн...    1.0  \n",
       "265   Уж лучше пусть смотрят нашу пропаганду, чем пи...    1.0  \n",
       "623   Уже неактуально. Заездили по всем сетям. Писы:...    0.0  \n",
       "530               граждане России Хохлы какие-нибудь.\\n    1.0  \n",
       "680             Ничтожны тут только твои тупые поцты.\\n    1.0  \n",
       "182   Всем похуй на блеяния и воззвания пидорахомасп...    1.0  \n",
       "862                          Ты из какого века блядь?\\n    1.0  \n",
       "1010    кто это вообще, страшная даже дрочить неохота\\n    1.0  \n",
       "690   Школяры дебилы блять,учиться не хотят вот и за...    1.0  \n",
       "451   Говношкурых не спрашивали. расистской падали с...    1.0  \n",
       "779   Рак ебучий, как же ты заебал, сука. СДОХНИ БЛЯ...    1.0  \n",
       "1207  готовься к санкциям Не проецируй, пидораха. Ра...    1.0  "
      ]
     },
     "execution_count": 454,
     "metadata": {},
     "output_type": "execute_result"
    }
   ],
   "source": [
    "#топ 10 для второй модели\n",
    "proba_rf = rf.predict_proba(X_tfidf_test)\n",
    "df_rf = pd.DataFrame(proba_rf, columns=['proba_rf_0', 'proba_rf_1'])\n",
    "df_rf['comment'], df_rf['toxic'] = test.comment, test.toxic.values\n",
    "final_rf = df_rf.sort_values(by=['proba_rf_1'], inplace=False, ascending=False)[:50]\n",
    "\n",
    "final_rf"
   ]
  },
  {
   "cell_type": "code",
   "execution_count": 455,
   "id": "4006746c",
   "metadata": {},
   "outputs": [
    {
     "data": {
      "text/html": [
       "<div>\n",
       "<style scoped>\n",
       "    .dataframe tbody tr th:only-of-type {\n",
       "        vertical-align: middle;\n",
       "    }\n",
       "\n",
       "    .dataframe tbody tr th {\n",
       "        vertical-align: top;\n",
       "    }\n",
       "\n",
       "    .dataframe thead th {\n",
       "        text-align: right;\n",
       "    }\n",
       "</style>\n",
       "<table border=\"1\" class=\"dataframe\">\n",
       "  <thead>\n",
       "    <tr style=\"text-align: right;\">\n",
       "      <th></th>\n",
       "      <th>proba_rf_0</th>\n",
       "      <th>proba_rf_1</th>\n",
       "      <th>comment</th>\n",
       "      <th>toxic_x</th>\n",
       "      <th>proba_logit_0</th>\n",
       "      <th>proba_logit_1</th>\n",
       "      <th>toxic_y</th>\n",
       "    </tr>\n",
       "  </thead>\n",
       "  <tbody>\n",
       "    <tr>\n",
       "      <th>0</th>\n",
       "      <td>0.00000</td>\n",
       "      <td>1.00000</td>\n",
       "      <td>дебил-куколд Значение знаешь?</td>\n",
       "      <td>1.0</td>\n",
       "      <td>0.004884</td>\n",
       "      <td>0.995116</td>\n",
       "      <td>1.0</td>\n",
       "    </tr>\n",
       "    <tr>\n",
       "      <th>1</th>\n",
       "      <td>0.00000</td>\n",
       "      <td>1.00000</td>\n",
       "      <td>БРОСАЙ БЛЯТЬ Бросил. Пистолет выстрелил. Убил ...</td>\n",
       "      <td>1.0</td>\n",
       "      <td>0.007957</td>\n",
       "      <td>0.992043</td>\n",
       "      <td>1.0</td>\n",
       "    </tr>\n",
       "    <tr>\n",
       "      <th>2</th>\n",
       "      <td>0.00000</td>\n",
       "      <td>1.00000</td>\n",
       "      <td>Пидорашек выселить, а не хохлов Ты сам себе пр...</td>\n",
       "      <td>1.0</td>\n",
       "      <td>0.004192</td>\n",
       "      <td>0.995808</td>\n",
       "      <td>1.0</td>\n",
       "    </tr>\n",
       "    <tr>\n",
       "      <th>3</th>\n",
       "      <td>0.00000</td>\n",
       "      <td>1.00000</td>\n",
       "      <td>Блять какой же жырный сука старый! Сороковник ...</td>\n",
       "      <td>1.0</td>\n",
       "      <td>0.003004</td>\n",
       "      <td>0.996996</td>\n",
       "      <td>1.0</td>\n",
       "    </tr>\n",
       "    <tr>\n",
       "      <th>4</th>\n",
       "      <td>0.00000</td>\n",
       "      <td>1.00000</td>\n",
       "      <td>БЕЛАРУСЬ, БЛЯТЬ, БЕЛАРУСЬ. СПИДОРСВИН, БЛЯТЬ. ...</td>\n",
       "      <td>1.0</td>\n",
       "      <td>0.000015</td>\n",
       "      <td>0.999985</td>\n",
       "      <td>1.0</td>\n",
       "    </tr>\n",
       "    <tr>\n",
       "      <th>5</th>\n",
       "      <td>0.00287</td>\n",
       "      <td>0.99713</td>\n",
       "      <td>Что? Какой денежный петух? Нет у хохлов своих ...</td>\n",
       "      <td>1.0</td>\n",
       "      <td>0.000001</td>\n",
       "      <td>0.999999</td>\n",
       "      <td>1.0</td>\n",
       "    </tr>\n",
       "    <tr>\n",
       "      <th>6</th>\n",
       "      <td>0.01000</td>\n",
       "      <td>0.99000</td>\n",
       "      <td>Ну оль, ну вот че тебе надо? Иди в по сри, а э...</td>\n",
       "      <td>1.0</td>\n",
       "      <td>0.004809</td>\n",
       "      <td>0.995191</td>\n",
       "      <td>1.0</td>\n",
       "    </tr>\n",
       "    <tr>\n",
       "      <th>7</th>\n",
       "      <td>0.01000</td>\n",
       "      <td>0.99000</td>\n",
       "      <td>ИДИ НАХУЙ, СУКА, ЗАВАЛИ ЕБАЛО, БЛЯТЬ\\n</td>\n",
       "      <td>1.0</td>\n",
       "      <td>0.000125</td>\n",
       "      <td>0.999875</td>\n",
       "      <td>1.0</td>\n",
       "    </tr>\n",
       "    <tr>\n",
       "      <th>8</th>\n",
       "      <td>0.01000</td>\n",
       "      <td>0.99000</td>\n",
       "      <td>Чет даже как то стыдно за хохлов. Уже даже лдн...</td>\n",
       "      <td>1.0</td>\n",
       "      <td>0.001390</td>\n",
       "      <td>0.998610</td>\n",
       "      <td>1.0</td>\n",
       "    </tr>\n",
       "    <tr>\n",
       "      <th>9</th>\n",
       "      <td>0.02500</td>\n",
       "      <td>0.97500</td>\n",
       "      <td>Рак ебучий, как же ты заебал, сука. СДОХНИ БЛЯ...</td>\n",
       "      <td>1.0</td>\n",
       "      <td>0.004894</td>\n",
       "      <td>0.995106</td>\n",
       "      <td>1.0</td>\n",
       "    </tr>\n",
       "  </tbody>\n",
       "</table>\n",
       "</div>"
      ],
      "text/plain": [
       "   proba_rf_0  proba_rf_1                                            comment  \\\n",
       "0     0.00000     1.00000                      дебил-куколд Значение знаешь?   \n",
       "1     0.00000     1.00000  БРОСАЙ БЛЯТЬ Бросил. Пистолет выстрелил. Убил ...   \n",
       "2     0.00000     1.00000  Пидорашек выселить, а не хохлов Ты сам себе пр...   \n",
       "3     0.00000     1.00000  Блять какой же жырный сука старый! Сороковник ...   \n",
       "4     0.00000     1.00000  БЕЛАРУСЬ, БЛЯТЬ, БЕЛАРУСЬ. СПИДОРСВИН, БЛЯТЬ. ...   \n",
       "5     0.00287     0.99713  Что? Какой денежный петух? Нет у хохлов своих ...   \n",
       "6     0.01000     0.99000  Ну оль, ну вот че тебе надо? Иди в по сри, а э...   \n",
       "7     0.01000     0.99000             ИДИ НАХУЙ, СУКА, ЗАВАЛИ ЕБАЛО, БЛЯТЬ\\n   \n",
       "8     0.01000     0.99000  Чет даже как то стыдно за хохлов. Уже даже лдн...   \n",
       "9     0.02500     0.97500  Рак ебучий, как же ты заебал, сука. СДОХНИ БЛЯ...   \n",
       "\n",
       "   toxic_x  proba_logit_0  proba_logit_1  toxic_y  \n",
       "0      1.0       0.004884       0.995116      1.0  \n",
       "1      1.0       0.007957       0.992043      1.0  \n",
       "2      1.0       0.004192       0.995808      1.0  \n",
       "3      1.0       0.003004       0.996996      1.0  \n",
       "4      1.0       0.000015       0.999985      1.0  \n",
       "5      1.0       0.000001       0.999999      1.0  \n",
       "6      1.0       0.004809       0.995191      1.0  \n",
       "7      1.0       0.000125       0.999875      1.0  \n",
       "8      1.0       0.001390       0.998610      1.0  \n",
       "9      1.0       0.004894       0.995106      1.0  "
      ]
     },
     "execution_count": 455,
     "metadata": {},
     "output_type": "execute_result"
    }
   ],
   "source": [
    "#intersection двух моделей\n",
    "ints = pd.merge(final_rf, final_logit, how ='inner', on =['comment']) \n",
    "ints"
   ]
  },
  {
   "cell_type": "code",
   "execution_count": 419,
   "id": "402b70cd",
   "metadata": {},
   "outputs": [],
   "source": [
    "#пересечение вроде не такое и маленькое?\n",
    "#токсичность текстов присутствует))"
   ]
  },
  {
   "cell_type": "markdown",
   "id": "6f228c3e",
   "metadata": {},
   "source": [
    "## Задание 3 (4 балла - 1 балл за каждый классификатор)"
   ]
  },
  {
   "cell_type": "markdown",
   "id": "566929b7",
   "metadata": {},
   "source": [
    "Для классификаторов Logistic Regression, Decision Trees, Naive Bayes, RandomForest найдите способ извлечь важность признаков для предсказания токсичного класса. Сопоставьте полученные числа со словами (или нграммами) в словаре и найдите топ - 5 \"токсичных\" слов для каждого из классификаторов. \n",
    "\n",
    "Важное требование: в топе не должно быть стоп-слов. Для этого вам нужно будет правильным образом настроить векторизацию. \n",
    "Также как и в предыдущем задании у классификаторов должно быть задано вручную как минимум 2 параметра (по возможности, f1 мера каждого из классификаторов должна быть минимум 0.75"
   ]
  },
  {
   "cell_type": "code",
   "execution_count": 254,
   "id": "81f86878",
   "metadata": {},
   "outputs": [],
   "source": [
    "from sklearn.inspection import permutation_importance\n",
    "import numpy as np\n",
    "import seaborn as sns\n",
    "import matplotlib.pyplot as plt"
   ]
  },
  {
   "cell_type": "markdown",
   "id": "2ee1c746",
   "metadata": {},
   "source": [
    "## 1. для логита из предыдущего задания"
   ]
  },
  {
   "cell_type": "code",
   "execution_count": 255,
   "id": "4b479465",
   "metadata": {},
   "outputs": [],
   "source": [
    "#model_fi = permutation_importance(clf_logit, X_c.toarray(), y)\n",
    "#model_fi['importances_mean']"
   ]
  },
  {
   "cell_type": "code",
   "execution_count": 301,
   "id": "bcf3be7d",
   "metadata": {},
   "outputs": [
    {
     "name": "stderr",
     "output_type": "stream",
     "text": [
      "/Users/ignatenkodarja/Library/Python/3.7/lib/python/site-packages/sklearn/utils/deprecation.py:87: FutureWarning: Function get_feature_names is deprecated; get_feature_names is deprecated in 1.0 and will be removed in 1.2. Please use get_feature_names_out instead.\n",
      "  warnings.warn(msg, category=FutureWarning)\n"
     ]
    }
   ],
   "source": [
    "feature_names = vectorizer_c.get_feature_names()\n",
    "coefs = clf_logit.coef_.flatten()\n",
    "\n",
    "zipped = zip(feature_names, coefs)\n",
    "df = pd.DataFrame(zipped, columns=[\"feature\", \"value\"])\n",
    "# Sort the features by the absolute value of their coefficient\n",
    "df[\"abs_value\"] = df[\"value\"].apply(lambda x: abs(x))\n",
    "df[\"colors\"] = df[\"value\"].apply(lambda x: \"green\" if x > 0 else \"red\")\n",
    "df = df.sort_values(\"abs_value\", ascending=False)"
   ]
  },
  {
   "cell_type": "code",
   "execution_count": 302,
   "id": "7a4c2853",
   "metadata": {},
   "outputs": [
    {
     "data": {
      "text/html": [
       "<div>\n",
       "<style scoped>\n",
       "    .dataframe tbody tr th:only-of-type {\n",
       "        vertical-align: middle;\n",
       "    }\n",
       "\n",
       "    .dataframe tbody tr th {\n",
       "        vertical-align: top;\n",
       "    }\n",
       "\n",
       "    .dataframe thead th {\n",
       "        text-align: right;\n",
       "    }\n",
       "</style>\n",
       "<table border=\"1\" class=\"dataframe\">\n",
       "  <thead>\n",
       "    <tr style=\"text-align: right;\">\n",
       "      <th></th>\n",
       "      <th>feature</th>\n",
       "      <th>value</th>\n",
       "      <th>abs_value</th>\n",
       "      <th>colors</th>\n",
       "    </tr>\n",
       "  </thead>\n",
       "  <tbody>\n",
       "    <tr>\n",
       "      <th>7487</th>\n",
       "      <td>хохлов</td>\n",
       "      <td>3.062542</td>\n",
       "      <td>3.062542</td>\n",
       "      <td>green</td>\n",
       "    </tr>\n",
       "    <tr>\n",
       "      <th>7489</th>\n",
       "      <td>хохлы</td>\n",
       "      <td>2.841260</td>\n",
       "      <td>2.841260</td>\n",
       "      <td>green</td>\n",
       "    </tr>\n",
       "    <tr>\n",
       "      <th>1332</th>\n",
       "      <td>дебил</td>\n",
       "      <td>2.832167</td>\n",
       "      <td>2.832167</td>\n",
       "      <td>green</td>\n",
       "    </tr>\n",
       "    <tr>\n",
       "      <th>6733</th>\n",
       "      <td>сука</td>\n",
       "      <td>2.322369</td>\n",
       "      <td>2.322369</td>\n",
       "      <td>green</td>\n",
       "    </tr>\n",
       "    <tr>\n",
       "      <th>7490</th>\n",
       "      <td>хохол</td>\n",
       "      <td>2.197285</td>\n",
       "      <td>2.197285</td>\n",
       "      <td>green</td>\n",
       "    </tr>\n",
       "    <tr>\n",
       "      <th>...</th>\n",
       "      <td>...</td>\n",
       "      <td>...</td>\n",
       "      <td>...</td>\n",
       "      <td>...</td>\n",
       "    </tr>\n",
       "    <tr>\n",
       "      <th>5027</th>\n",
       "      <td>поясню</td>\n",
       "      <td>0.000265</td>\n",
       "      <td>0.000265</td>\n",
       "      <td>green</td>\n",
       "    </tr>\n",
       "    <tr>\n",
       "      <th>6390</th>\n",
       "      <td>сообщалось</td>\n",
       "      <td>-0.000233</td>\n",
       "      <td>0.000233</td>\n",
       "      <td>red</td>\n",
       "    </tr>\n",
       "    <tr>\n",
       "      <th>6271</th>\n",
       "      <td>снижает</td>\n",
       "      <td>-0.000219</td>\n",
       "      <td>0.000219</td>\n",
       "      <td>red</td>\n",
       "    </tr>\n",
       "    <tr>\n",
       "      <th>83</th>\n",
       "      <td>2017 года</td>\n",
       "      <td>-0.000200</td>\n",
       "      <td>0.000200</td>\n",
       "      <td>red</td>\n",
       "    </tr>\n",
       "    <tr>\n",
       "      <th>3808</th>\n",
       "      <td>обсуждают</td>\n",
       "      <td>-0.000151</td>\n",
       "      <td>0.000151</td>\n",
       "      <td>red</td>\n",
       "    </tr>\n",
       "  </tbody>\n",
       "</table>\n",
       "<p>7933 rows × 4 columns</p>\n",
       "</div>"
      ],
      "text/plain": [
       "         feature     value  abs_value colors\n",
       "7487      хохлов  3.062542   3.062542  green\n",
       "7489       хохлы  2.841260   2.841260  green\n",
       "1332       дебил  2.832167   2.832167  green\n",
       "6733        сука  2.322369   2.322369  green\n",
       "7490       хохол  2.197285   2.197285  green\n",
       "...          ...       ...        ...    ...\n",
       "5027      поясню  0.000265   0.000265  green\n",
       "6390  сообщалось -0.000233   0.000233    red\n",
       "6271     снижает -0.000219   0.000219    red\n",
       "83     2017 года -0.000200   0.000200    red\n",
       "3808   обсуждают -0.000151   0.000151    red\n",
       "\n",
       "[7933 rows x 4 columns]"
      ]
     },
     "execution_count": 302,
     "metadata": {},
     "output_type": "execute_result"
    }
   ],
   "source": [
    "df"
   ]
  },
  {
   "cell_type": "code",
   "execution_count": 303,
   "id": "cfcc2ae8",
   "metadata": {},
   "outputs": [
    {
     "data": {
      "text/plain": [
       "Text(0.5, 0, 'Feature Name')"
      ]
     },
     "execution_count": 303,
     "metadata": {},
     "output_type": "execute_result"
    },
    {
     "data": {
      "image/png": "[encoded data removed]",
      "text/plain": [
       "<Figure size 1200x700 with 1 Axes>"
      ]
     },
     "metadata": {},
     "output_type": "display_data"
    }
   ],
   "source": [
    "fig, ax = plt.subplots(1, 1, figsize=(12, 7))\n",
    "sns.barplot(x=\"feature\",\n",
    "            y=\"value\",\n",
    "            data=df.head(20),\n",
    "           palette=df.head(20)[\"colors\"])\n",
    "ax.set_xticklabels(ax.get_xticklabels(), rotation=90, fontsize=20)\n",
    "ax.set_title(\"Top 20 Features (Logistic Regression)\", fontsize=25)\n",
    "ax.set_ylabel(\"Coef\", fontsize=22)\n",
    "ax.set_xlabel(\"Feature Name\", fontsize=22)"
   ]
  },
  {
   "cell_type": "markdown",
   "id": "998e702d",
   "metadata": {},
   "source": [
    "## 2. random forest (модель из предыдущего задания)"
   ]
  },
  {
   "cell_type": "code",
   "execution_count": 304,
   "id": "b69ebced",
   "metadata": {},
   "outputs": [
    {
     "name": "stderr",
     "output_type": "stream",
     "text": [
      "/Users/ignatenkodarja/Library/Python/3.7/lib/python/site-packages/sklearn/utils/deprecation.py:87: FutureWarning: Function get_feature_names is deprecated; get_feature_names is deprecated in 1.0 and will be removed in 1.2. Please use get_feature_names_out instead.\n",
      "  warnings.warn(msg, category=FutureWarning)\n"
     ]
    }
   ],
   "source": [
    "feature_names = vectorizer_tfidf.get_feature_names()\n",
    "coefs = rf.feature_importances_.flatten()\n",
    "\n",
    "zipped = zip(feature_names, coefs)\n",
    "df = pd.DataFrame(zipped, columns=[\"feature\", \"value\"])\n",
    "# Sort the features by the absolute value of their coefficient\n",
    "df[\"abs_value\"] = df[\"value\"].apply(lambda x: abs(x))\n",
    "df[\"colors\"] = df[\"value\"].apply(lambda x: \"green\" if x > 0 else \"red\")\n",
    "df = df.sort_values(\"abs_value\", ascending=False)"
   ]
  },
  {
   "cell_type": "code",
   "execution_count": 305,
   "id": "88e082fc",
   "metadata": {},
   "outputs": [
    {
     "data": {
      "text/html": [
       "<div>\n",
       "<style scoped>\n",
       "    .dataframe tbody tr th:only-of-type {\n",
       "        vertical-align: middle;\n",
       "    }\n",
       "\n",
       "    .dataframe tbody tr th {\n",
       "        vertical-align: top;\n",
       "    }\n",
       "\n",
       "    .dataframe thead th {\n",
       "        text-align: right;\n",
       "    }\n",
       "</style>\n",
       "<table border=\"1\" class=\"dataframe\">\n",
       "  <thead>\n",
       "    <tr style=\"text-align: right;\">\n",
       "      <th></th>\n",
       "      <th>feature</th>\n",
       "      <th>value</th>\n",
       "      <th>abs_value</th>\n",
       "      <th>colors</th>\n",
       "    </tr>\n",
       "  </thead>\n",
       "  <tbody>\n",
       "    <tr>\n",
       "      <th>754</th>\n",
       "      <td>хохлы</td>\n",
       "      <td>0.047018</td>\n",
       "      <td>0.047018</td>\n",
       "      <td>green</td>\n",
       "    </tr>\n",
       "    <tr>\n",
       "      <th>704</th>\n",
       "      <td>тебе</td>\n",
       "      <td>0.045437</td>\n",
       "      <td>0.045437</td>\n",
       "      <td>green</td>\n",
       "    </tr>\n",
       "    <tr>\n",
       "      <th>753</th>\n",
       "      <td>хохлов</td>\n",
       "      <td>0.044268</td>\n",
       "      <td>0.044268</td>\n",
       "      <td>green</td>\n",
       "    </tr>\n",
       "    <tr>\n",
       "      <th>374</th>\n",
       "      <td>нахуй</td>\n",
       "      <td>0.040151</td>\n",
       "      <td>0.040151</td>\n",
       "      <td>green</td>\n",
       "    </tr>\n",
       "    <tr>\n",
       "      <th>450</th>\n",
       "      <td>очень</td>\n",
       "      <td>0.031505</td>\n",
       "      <td>0.031505</td>\n",
       "      <td>green</td>\n",
       "    </tr>\n",
       "    <tr>\n",
       "      <th>...</th>\n",
       "      <td>...</td>\n",
       "      <td>...</td>\n",
       "      <td>...</td>\n",
       "      <td>...</td>\n",
       "    </tr>\n",
       "    <tr>\n",
       "      <th>64</th>\n",
       "      <td>вашингтон</td>\n",
       "      <td>0.000007</td>\n",
       "      <td>0.000007</td>\n",
       "      <td>green</td>\n",
       "    </tr>\n",
       "    <tr>\n",
       "      <th>737</th>\n",
       "      <td>услуги</td>\n",
       "      <td>0.000004</td>\n",
       "      <td>0.000004</td>\n",
       "      <td>green</td>\n",
       "    </tr>\n",
       "    <tr>\n",
       "      <th>788</th>\n",
       "      <td>штате</td>\n",
       "      <td>0.000003</td>\n",
       "      <td>0.000003</td>\n",
       "      <td>green</td>\n",
       "    </tr>\n",
       "    <tr>\n",
       "      <th>339</th>\n",
       "      <td>млн</td>\n",
       "      <td>0.000002</td>\n",
       "      <td>0.000002</td>\n",
       "      <td>green</td>\n",
       "    </tr>\n",
       "    <tr>\n",
       "      <th>340</th>\n",
       "      <td>мм</td>\n",
       "      <td>0.000002</td>\n",
       "      <td>0.000002</td>\n",
       "      <td>green</td>\n",
       "    </tr>\n",
       "  </tbody>\n",
       "</table>\n",
       "<p>800 rows × 4 columns</p>\n",
       "</div>"
      ],
      "text/plain": [
       "       feature     value  abs_value colors\n",
       "754      хохлы  0.047018   0.047018  green\n",
       "704       тебе  0.045437   0.045437  green\n",
       "753     хохлов  0.044268   0.044268  green\n",
       "374      нахуй  0.040151   0.040151  green\n",
       "450      очень  0.031505   0.031505  green\n",
       "..         ...       ...        ...    ...\n",
       "64   вашингтон  0.000007   0.000007  green\n",
       "737     услуги  0.000004   0.000004  green\n",
       "788      штате  0.000003   0.000003  green\n",
       "339        млн  0.000002   0.000002  green\n",
       "340         мм  0.000002   0.000002  green\n",
       "\n",
       "[800 rows x 4 columns]"
      ]
     },
     "execution_count": 305,
     "metadata": {},
     "output_type": "execute_result"
    }
   ],
   "source": [
    "df"
   ]
  },
  {
   "cell_type": "code",
   "execution_count": 306,
   "id": "4688995b",
   "metadata": {},
   "outputs": [
    {
     "data": {
      "text/plain": [
       "Text(0.5, 0, 'Feature Name')"
      ]
     },
     "execution_count": 306,
     "metadata": {},
     "output_type": "execute_result"
    },
    {
     "data": {
      "image/png": "[encoded data removed]",
      "text/plain": [
       "<Figure size 1200x700 with 1 Axes>"
      ]
     },
     "metadata": {},
     "output_type": "display_data"
    }
   ],
   "source": [
    "fig, ax = plt.subplots(1, 1, figsize=(12, 7))\n",
    "sns.barplot(x=\"feature\",\n",
    "            y=\"value\",\n",
    "            data=df.head(20),\n",
    "           palette=df.head(20)[\"colors\"])\n",
    "ax.set_xticklabels(ax.get_xticklabels(), rotation=90, fontsize=20)\n",
    "ax.set_title(\"Top 20 Features (Random Forest)\", fontsize=25)\n",
    "ax.set_ylabel(\"Coef\", fontsize=22)\n",
    "ax.set_xlabel(\"Feature Name\", fontsize=22)"
   ]
  },
  {
   "cell_type": "markdown",
   "id": "145605be",
   "metadata": {},
   "source": [
    "## 3. decision tree"
   ]
  },
  {
   "cell_type": "code",
   "execution_count": 307,
   "id": "0b3bd1f2",
   "metadata": {},
   "outputs": [
    {
     "name": "stdout",
     "output_type": "stream",
     "text": [
      "              precision    recall  f1-score   support\n",
      "\n",
      "         0.0       0.86      0.67      0.75       993\n",
      "         1.0       0.51      0.75      0.61       449\n",
      "\n",
      "    accuracy                           0.70      1442\n",
      "   macro avg       0.68      0.71      0.68      1442\n",
      "weighted avg       0.75      0.70      0.71      1442\n",
      "\n"
     ]
    }
   ],
   "source": [
    "clf_dt = DecisionTreeClassifier(max_depth=500, criterion='gini', class_weight='balanced')\n",
    "clf_dt.fit(X_c, y)\n",
    "preds = clf_dt.predict(X_c_test)\n",
    "\n",
    "print(classification_report(y_test, preds))"
   ]
  },
  {
   "cell_type": "code",
   "execution_count": 308,
   "id": "9ff82901",
   "metadata": {},
   "outputs": [
    {
     "name": "stderr",
     "output_type": "stream",
     "text": [
      "/Users/ignatenkodarja/Library/Python/3.7/lib/python/site-packages/sklearn/utils/deprecation.py:87: FutureWarning: Function get_feature_names is deprecated; get_feature_names is deprecated in 1.0 and will be removed in 1.2. Please use get_feature_names_out instead.\n",
      "  warnings.warn(msg, category=FutureWarning)\n"
     ]
    }
   ],
   "source": [
    "feature_names = vectorizer_c.get_feature_names()\n",
    "coefs = clf_dt.feature_importances_.flatten()\n",
    "\n",
    "zipped = zip(feature_names, coefs)\n",
    "df = pd.DataFrame(zipped, columns=[\"feature\", \"value\"])\n",
    "# Sort the features by the absolute value of their coefficient\n",
    "df[\"abs_value\"] = df[\"value\"].apply(lambda x: abs(x))\n",
    "df[\"colors\"] = df[\"value\"].apply(lambda x: \"green\" if x > 0 else \"red\")\n",
    "df = df.sort_values(\"abs_value\", ascending=False)"
   ]
  },
  {
   "cell_type": "code",
   "execution_count": 309,
   "id": "6b50d325",
   "metadata": {},
   "outputs": [
    {
     "data": {
      "text/html": [
       "<div>\n",
       "<style scoped>\n",
       "    .dataframe tbody tr th:only-of-type {\n",
       "        vertical-align: middle;\n",
       "    }\n",
       "\n",
       "    .dataframe tbody tr th {\n",
       "        vertical-align: top;\n",
       "    }\n",
       "\n",
       "    .dataframe thead th {\n",
       "        text-align: right;\n",
       "    }\n",
       "</style>\n",
       "<table border=\"1\" class=\"dataframe\">\n",
       "  <thead>\n",
       "    <tr style=\"text-align: right;\">\n",
       "      <th></th>\n",
       "      <th>feature</th>\n",
       "      <th>value</th>\n",
       "      <th>abs_value</th>\n",
       "      <th>colors</th>\n",
       "    </tr>\n",
       "  </thead>\n",
       "  <tbody>\n",
       "    <tr>\n",
       "      <th>6872</th>\n",
       "      <td>тебе</td>\n",
       "      <td>0.014665</td>\n",
       "      <td>0.014665</td>\n",
       "      <td>green</td>\n",
       "    </tr>\n",
       "    <tr>\n",
       "      <th>4225</th>\n",
       "      <td>очень</td>\n",
       "      <td>0.014421</td>\n",
       "      <td>0.014421</td>\n",
       "      <td>green</td>\n",
       "    </tr>\n",
       "    <tr>\n",
       "      <th>7489</th>\n",
       "      <td>хохлы</td>\n",
       "      <td>0.013320</td>\n",
       "      <td>0.013320</td>\n",
       "      <td>green</td>\n",
       "    </tr>\n",
       "    <tr>\n",
       "      <th>7487</th>\n",
       "      <td>хохлов</td>\n",
       "      <td>0.012258</td>\n",
       "      <td>0.012258</td>\n",
       "      <td>green</td>\n",
       "    </tr>\n",
       "    <tr>\n",
       "      <th>3456</th>\n",
       "      <td>нахуй</td>\n",
       "      <td>0.011417</td>\n",
       "      <td>0.011417</td>\n",
       "      <td>green</td>\n",
       "    </tr>\n",
       "    <tr>\n",
       "      <th>...</th>\n",
       "      <td>...</td>\n",
       "      <td>...</td>\n",
       "      <td>...</td>\n",
       "      <td>...</td>\n",
       "    </tr>\n",
       "    <tr>\n",
       "      <th>2995</th>\n",
       "      <td>маня</td>\n",
       "      <td>0.000000</td>\n",
       "      <td>0.000000</td>\n",
       "      <td>red</td>\n",
       "    </tr>\n",
       "    <tr>\n",
       "      <th>2993</th>\n",
       "      <td>маму</td>\n",
       "      <td>0.000000</td>\n",
       "      <td>0.000000</td>\n",
       "      <td>red</td>\n",
       "    </tr>\n",
       "    <tr>\n",
       "      <th>2992</th>\n",
       "      <td>мамой</td>\n",
       "      <td>0.000000</td>\n",
       "      <td>0.000000</td>\n",
       "      <td>red</td>\n",
       "    </tr>\n",
       "    <tr>\n",
       "      <th>2990</th>\n",
       "      <td>маме</td>\n",
       "      <td>0.000000</td>\n",
       "      <td>0.000000</td>\n",
       "      <td>red</td>\n",
       "    </tr>\n",
       "    <tr>\n",
       "      <th>7932</th>\n",
       "      <td>ящик</td>\n",
       "      <td>0.000000</td>\n",
       "      <td>0.000000</td>\n",
       "      <td>red</td>\n",
       "    </tr>\n",
       "  </tbody>\n",
       "</table>\n",
       "<p>7933 rows × 4 columns</p>\n",
       "</div>"
      ],
      "text/plain": [
       "     feature     value  abs_value colors\n",
       "6872    тебе  0.014665   0.014665  green\n",
       "4225   очень  0.014421   0.014421  green\n",
       "7489   хохлы  0.013320   0.013320  green\n",
       "7487  хохлов  0.012258   0.012258  green\n",
       "3456   нахуй  0.011417   0.011417  green\n",
       "...      ...       ...        ...    ...\n",
       "2995    маня  0.000000   0.000000    red\n",
       "2993    маму  0.000000   0.000000    red\n",
       "2992   мамой  0.000000   0.000000    red\n",
       "2990    маме  0.000000   0.000000    red\n",
       "7932    ящик  0.000000   0.000000    red\n",
       "\n",
       "[7933 rows x 4 columns]"
      ]
     },
     "execution_count": 309,
     "metadata": {},
     "output_type": "execute_result"
    }
   ],
   "source": [
    "df"
   ]
  },
  {
   "cell_type": "code",
   "execution_count": 310,
   "id": "1937e865",
   "metadata": {},
   "outputs": [
    {
     "data": {
      "text/plain": [
       "Text(0.5, 0, 'Feature Name')"
      ]
     },
     "execution_count": 310,
     "metadata": {},
     "output_type": "execute_result"
    },
    {
     "data": {
      "image/png": "[encoded data removed]",
      "text/plain": [
       "<Figure size 1200x700 with 1 Axes>"
      ]
     },
     "metadata": {},
     "output_type": "display_data"
    }
   ],
   "source": [
    "fig, ax = plt.subplots(1, 1, figsize=(12, 7))\n",
    "sns.barplot(x=\"feature\",\n",
    "            y=\"value\",\n",
    "            data=df.head(20),\n",
    "           palette=df.head(20)[\"colors\"])\n",
    "ax.set_xticklabels(ax.get_xticklabels(), rotation=90, fontsize=20)\n",
    "ax.set_title(\"Top 20 Features (Decision Tree)\", fontsize=25)\n",
    "ax.set_ylabel(\"Coef\", fontsize=22)\n",
    "ax.set_xlabel(\"Feature Name\", fontsize=22)"
   ]
  },
  {
   "cell_type": "markdown",
   "id": "e2bd1d82",
   "metadata": {},
   "source": [
    "## 4. Naive Bayes"
   ]
  },
  {
   "cell_type": "code",
   "execution_count": 312,
   "id": "b52a0229",
   "metadata": {},
   "outputs": [
    {
     "name": "stdout",
     "output_type": "stream",
     "text": [
      "              precision    recall  f1-score   support\n",
      "\n",
      "         0.0       0.89      0.56      0.69       993\n",
      "         1.0       0.47      0.85      0.60       449\n",
      "\n",
      "    accuracy                           0.65      1442\n",
      "   macro avg       0.68      0.71      0.65      1442\n",
      "weighted avg       0.76      0.65      0.66      1442\n",
      "\n"
     ]
    }
   ],
   "source": [
    "clf_gnb = GaussianNB()\n",
    "clf_gnb.fit(X_c.toarray(), y)\n",
    "preds = clf_gnb.predict(X_c_test.toarray())\n",
    "\n",
    "print(classification_report(y_test, preds))"
   ]
  },
  {
   "cell_type": "code",
   "execution_count": 314,
   "id": "3008a469",
   "metadata": {},
   "outputs": [
    {
     "name": "stdout",
     "output_type": "stream",
     "text": [
      "[0. 0. 0. ... 0. 0. 0.]\n"
     ]
    }
   ],
   "source": [
    "#через permutation_importance из sklearn.model_selection\n",
    "imps = permutation_importance(clf_gnb, X_c_test.toarray(), y_test)\n",
    "print(imps.importances_mean)"
   ]
  },
  {
   "cell_type": "code",
   "execution_count": 324,
   "id": "4e8430dd",
   "metadata": {},
   "outputs": [],
   "source": [
    "feature_names = vectorizer_c.get_feature_names()\n",
    "coefs = imps['importances'].flatten()\n",
    "\n",
    "zipped = zip(feature_names, coefs)\n",
    "df = pd.DataFrame(zipped, columns=[\"feature\", \"value\"])\n",
    "# Sort the features by the absolute value of their coefficient\n",
    "df[\"abs_value\"] = df[\"value\"].apply(lambda x: abs(x))\n",
    "df[\"colors\"] = df[\"value\"].apply(lambda x: \"green\" if x > 0 else \"red\")\n",
    "df = df.sort_values(\"abs_value\", ascending=False)"
   ]
  },
  {
   "cell_type": "code",
   "execution_count": 325,
   "id": "8066da74",
   "metadata": {},
   "outputs": [
    {
     "data": {
      "text/plain": [
       "Text(0.5, 0, 'Feature Name')"
      ]
     },
     "execution_count": 325,
     "metadata": {},
     "output_type": "execute_result"
    },
    {
     "data": {
      "image/png": "[encoded data removed]",
      "text/plain": [
       "<Figure size 1200x700 with 1 Axes>"
      ]
     },
     "metadata": {},
     "output_type": "display_data"
    }
   ],
   "source": [
    "fig, ax = plt.subplots(1, 1, figsize=(12, 7))\n",
    "sns.barplot(x=\"feature\",\n",
    "            y=\"value\",\n",
    "            data=df.head(20),\n",
    "           palette=df.head(20)[\"colors\"])\n",
    "ax.set_xticklabels(ax.get_xticklabels(), rotation=90, fontsize=20)\n",
    "ax.set_title(\"Top 20 Features (Decision Tree)\", fontsize=25)\n",
    "ax.set_ylabel(\"Coef\", fontsize=22)\n",
    "ax.set_xlabel(\"Feature Name\", fontsize=22)"
   ]
  },
  {
   "cell_type": "code",
   "execution_count": null,
   "id": "a3e970ba",
   "metadata": {},
   "outputs": [],
   "source": []
  }
 ],
 "metadata": {
  "kernelspec": {
   "display_name": "Python 3 (ipykernel)",
   "language": "python",
   "name": "python3"
  },
  "language_info": {
   "codemirror_mode": {
    "name": "ipython",
    "version": 3
   },
   "file_extension": ".py",
   "mimetype": "text/x-python",
   "name": "python",
   "nbconvert_exporter": "python",
   "pygments_lexer": "ipython3",
   "version": "3.11.7"
  }
 },
 "nbformat": 4,
 "nbformat_minor": 5
}
